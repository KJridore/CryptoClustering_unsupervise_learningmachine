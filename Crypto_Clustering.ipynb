{
 "cells": [
  {
   "cell_type": "code",
   "execution_count": 28,
   "metadata": {},
   "outputs": [],
   "source": [
    "# Import required libraries and dependencies\n",
    "import pandas as pd\n",
    "import hvplot.pandas\n",
    "from sklearn.cluster import KMeans\n",
    "from sklearn.decomposition import PCA\n",
    "from sklearn.preprocessing import StandardScaler"
   ]
  },
  {
   "cell_type": "code",
   "execution_count": 34,
   "metadata": {},
   "outputs": [
    {
     "data": {
      "text/html": [
       "<div>\n",
       "<style scoped>\n",
       "    .dataframe tbody tr th:only-of-type {\n",
       "        vertical-align: middle;\n",
       "    }\n",
       "\n",
       "    .dataframe tbody tr th {\n",
       "        vertical-align: top;\n",
       "    }\n",
       "\n",
       "    .dataframe thead th {\n",
       "        text-align: right;\n",
       "    }\n",
       "</style>\n",
       "<table border=\"1\" class=\"dataframe\">\n",
       "  <thead>\n",
       "    <tr style=\"text-align: right;\">\n",
       "      <th></th>\n",
       "      <th>price_change_percentage_24h</th>\n",
       "      <th>price_change_percentage_7d</th>\n",
       "      <th>price_change_percentage_14d</th>\n",
       "      <th>price_change_percentage_30d</th>\n",
       "      <th>price_change_percentage_60d</th>\n",
       "      <th>price_change_percentage_200d</th>\n",
       "      <th>price_change_percentage_1y</th>\n",
       "    </tr>\n",
       "    <tr>\n",
       "      <th>coin_id</th>\n",
       "      <th></th>\n",
       "      <th></th>\n",
       "      <th></th>\n",
       "      <th></th>\n",
       "      <th></th>\n",
       "      <th></th>\n",
       "      <th></th>\n",
       "    </tr>\n",
       "  </thead>\n",
       "  <tbody>\n",
       "    <tr>\n",
       "      <th>bitcoin</th>\n",
       "      <td>1.08388</td>\n",
       "      <td>7.60278</td>\n",
       "      <td>6.57509</td>\n",
       "      <td>7.67258</td>\n",
       "      <td>-3.25185</td>\n",
       "      <td>83.51840</td>\n",
       "      <td>37.51761</td>\n",
       "    </tr>\n",
       "    <tr>\n",
       "      <th>ethereum</th>\n",
       "      <td>0.22392</td>\n",
       "      <td>10.38134</td>\n",
       "      <td>4.80849</td>\n",
       "      <td>0.13169</td>\n",
       "      <td>-12.88890</td>\n",
       "      <td>186.77418</td>\n",
       "      <td>101.96023</td>\n",
       "    </tr>\n",
       "    <tr>\n",
       "      <th>tether</th>\n",
       "      <td>-0.21173</td>\n",
       "      <td>0.04935</td>\n",
       "      <td>0.00640</td>\n",
       "      <td>-0.04237</td>\n",
       "      <td>0.28037</td>\n",
       "      <td>-0.00542</td>\n",
       "      <td>0.01954</td>\n",
       "    </tr>\n",
       "    <tr>\n",
       "      <th>ripple</th>\n",
       "      <td>-0.37819</td>\n",
       "      <td>-0.60926</td>\n",
       "      <td>2.24984</td>\n",
       "      <td>0.23455</td>\n",
       "      <td>-17.55245</td>\n",
       "      <td>39.53888</td>\n",
       "      <td>-16.60193</td>\n",
       "    </tr>\n",
       "    <tr>\n",
       "      <th>bitcoin-cash</th>\n",
       "      <td>2.90585</td>\n",
       "      <td>17.09717</td>\n",
       "      <td>14.75334</td>\n",
       "      <td>15.74903</td>\n",
       "      <td>-13.71793</td>\n",
       "      <td>21.66042</td>\n",
       "      <td>14.49384</td>\n",
       "    </tr>\n",
       "    <tr>\n",
       "      <th>binancecoin</th>\n",
       "      <td>2.10423</td>\n",
       "      <td>12.85511</td>\n",
       "      <td>6.80688</td>\n",
       "      <td>0.05865</td>\n",
       "      <td>36.33486</td>\n",
       "      <td>155.61937</td>\n",
       "      <td>69.69195</td>\n",
       "    </tr>\n",
       "    <tr>\n",
       "      <th>chainlink</th>\n",
       "      <td>-0.23935</td>\n",
       "      <td>20.69459</td>\n",
       "      <td>9.30098</td>\n",
       "      <td>-11.21747</td>\n",
       "      <td>-43.69522</td>\n",
       "      <td>403.22917</td>\n",
       "      <td>325.13186</td>\n",
       "    </tr>\n",
       "    <tr>\n",
       "      <th>cardano</th>\n",
       "      <td>0.00322</td>\n",
       "      <td>13.99302</td>\n",
       "      <td>5.55476</td>\n",
       "      <td>10.10553</td>\n",
       "      <td>-22.84776</td>\n",
       "      <td>264.51418</td>\n",
       "      <td>156.09756</td>\n",
       "    </tr>\n",
       "    <tr>\n",
       "      <th>litecoin</th>\n",
       "      <td>-0.06341</td>\n",
       "      <td>6.60221</td>\n",
       "      <td>7.28931</td>\n",
       "      <td>1.21662</td>\n",
       "      <td>-17.23960</td>\n",
       "      <td>27.49919</td>\n",
       "      <td>-12.66408</td>\n",
       "    </tr>\n",
       "    <tr>\n",
       "      <th>bitcoin-cash-sv</th>\n",
       "      <td>0.92530</td>\n",
       "      <td>3.29641</td>\n",
       "      <td>-1.86656</td>\n",
       "      <td>2.88926</td>\n",
       "      <td>-24.87434</td>\n",
       "      <td>7.42562</td>\n",
       "      <td>93.73082</td>\n",
       "    </tr>\n",
       "  </tbody>\n",
       "</table>\n",
       "</div>"
      ],
      "text/plain": [
       "                 price_change_percentage_24h  price_change_percentage_7d  \\\n",
       "coin_id                                                                    \n",
       "bitcoin                              1.08388                     7.60278   \n",
       "ethereum                             0.22392                    10.38134   \n",
       "tether                              -0.21173                     0.04935   \n",
       "ripple                              -0.37819                    -0.60926   \n",
       "bitcoin-cash                         2.90585                    17.09717   \n",
       "binancecoin                          2.10423                    12.85511   \n",
       "chainlink                           -0.23935                    20.69459   \n",
       "cardano                              0.00322                    13.99302   \n",
       "litecoin                            -0.06341                     6.60221   \n",
       "bitcoin-cash-sv                      0.92530                     3.29641   \n",
       "\n",
       "                 price_change_percentage_14d  price_change_percentage_30d  \\\n",
       "coin_id                                                                     \n",
       "bitcoin                              6.57509                      7.67258   \n",
       "ethereum                             4.80849                      0.13169   \n",
       "tether                               0.00640                     -0.04237   \n",
       "ripple                               2.24984                      0.23455   \n",
       "bitcoin-cash                        14.75334                     15.74903   \n",
       "binancecoin                          6.80688                      0.05865   \n",
       "chainlink                            9.30098                    -11.21747   \n",
       "cardano                              5.55476                     10.10553   \n",
       "litecoin                             7.28931                      1.21662   \n",
       "bitcoin-cash-sv                     -1.86656                      2.88926   \n",
       "\n",
       "                 price_change_percentage_60d  price_change_percentage_200d  \\\n",
       "coin_id                                                                      \n",
       "bitcoin                             -3.25185                      83.51840   \n",
       "ethereum                           -12.88890                     186.77418   \n",
       "tether                               0.28037                      -0.00542   \n",
       "ripple                             -17.55245                      39.53888   \n",
       "bitcoin-cash                       -13.71793                      21.66042   \n",
       "binancecoin                         36.33486                     155.61937   \n",
       "chainlink                          -43.69522                     403.22917   \n",
       "cardano                            -22.84776                     264.51418   \n",
       "litecoin                           -17.23960                      27.49919   \n",
       "bitcoin-cash-sv                    -24.87434                       7.42562   \n",
       "\n",
       "                 price_change_percentage_1y  \n",
       "coin_id                                      \n",
       "bitcoin                            37.51761  \n",
       "ethereum                          101.96023  \n",
       "tether                              0.01954  \n",
       "ripple                            -16.60193  \n",
       "bitcoin-cash                       14.49384  \n",
       "binancecoin                        69.69195  \n",
       "chainlink                         325.13186  \n",
       "cardano                           156.09756  \n",
       "litecoin                          -12.66408  \n",
       "bitcoin-cash-sv                    93.73082  "
      ]
     },
     "execution_count": 34,
     "metadata": {},
     "output_type": "execute_result"
    }
   ],
   "source": [
    "# Load the data into a Pandas DataFrame\n",
    "df_market_data = pd.read_csv(\n",
    "    \"Resources/crypto_market_data.csv\",\n",
    "    index_col=\"coin_id\")\n",
    "\n",
    "# Display sample data\n",
    "df_market_data.head(10)"
   ]
  },
  {
   "cell_type": "code",
   "execution_count": 3,
   "metadata": {},
   "outputs": [
    {
     "data": {
      "text/html": [
       "<div>\n",
       "<style scoped>\n",
       "    .dataframe tbody tr th:only-of-type {\n",
       "        vertical-align: middle;\n",
       "    }\n",
       "\n",
       "    .dataframe tbody tr th {\n",
       "        vertical-align: top;\n",
       "    }\n",
       "\n",
       "    .dataframe thead th {\n",
       "        text-align: right;\n",
       "    }\n",
       "</style>\n",
       "<table border=\"1\" class=\"dataframe\">\n",
       "  <thead>\n",
       "    <tr style=\"text-align: right;\">\n",
       "      <th></th>\n",
       "      <th>price_change_percentage_24h</th>\n",
       "      <th>price_change_percentage_7d</th>\n",
       "      <th>price_change_percentage_14d</th>\n",
       "      <th>price_change_percentage_30d</th>\n",
       "      <th>price_change_percentage_60d</th>\n",
       "      <th>price_change_percentage_200d</th>\n",
       "      <th>price_change_percentage_1y</th>\n",
       "    </tr>\n",
       "  </thead>\n",
       "  <tbody>\n",
       "    <tr>\n",
       "      <th>count</th>\n",
       "      <td>41.000000</td>\n",
       "      <td>41.000000</td>\n",
       "      <td>41.000000</td>\n",
       "      <td>41.000000</td>\n",
       "      <td>41.000000</td>\n",
       "      <td>41.000000</td>\n",
       "      <td>41.000000</td>\n",
       "    </tr>\n",
       "    <tr>\n",
       "      <th>mean</th>\n",
       "      <td>-0.269686</td>\n",
       "      <td>4.497147</td>\n",
       "      <td>0.185787</td>\n",
       "      <td>1.545693</td>\n",
       "      <td>-0.094119</td>\n",
       "      <td>236.537432</td>\n",
       "      <td>347.667956</td>\n",
       "    </tr>\n",
       "    <tr>\n",
       "      <th>std</th>\n",
       "      <td>2.694793</td>\n",
       "      <td>6.375218</td>\n",
       "      <td>8.376939</td>\n",
       "      <td>26.344218</td>\n",
       "      <td>47.365803</td>\n",
       "      <td>435.225304</td>\n",
       "      <td>1247.842884</td>\n",
       "    </tr>\n",
       "    <tr>\n",
       "      <th>min</th>\n",
       "      <td>-13.527860</td>\n",
       "      <td>-6.094560</td>\n",
       "      <td>-18.158900</td>\n",
       "      <td>-34.705480</td>\n",
       "      <td>-44.822480</td>\n",
       "      <td>-0.392100</td>\n",
       "      <td>-17.567530</td>\n",
       "    </tr>\n",
       "    <tr>\n",
       "      <th>25%</th>\n",
       "      <td>-0.608970</td>\n",
       "      <td>0.047260</td>\n",
       "      <td>-5.026620</td>\n",
       "      <td>-10.438470</td>\n",
       "      <td>-25.907990</td>\n",
       "      <td>21.660420</td>\n",
       "      <td>0.406170</td>\n",
       "    </tr>\n",
       "    <tr>\n",
       "      <th>50%</th>\n",
       "      <td>-0.063410</td>\n",
       "      <td>3.296410</td>\n",
       "      <td>0.109740</td>\n",
       "      <td>-0.042370</td>\n",
       "      <td>-7.544550</td>\n",
       "      <td>83.905200</td>\n",
       "      <td>69.691950</td>\n",
       "    </tr>\n",
       "    <tr>\n",
       "      <th>75%</th>\n",
       "      <td>0.612090</td>\n",
       "      <td>7.602780</td>\n",
       "      <td>5.510740</td>\n",
       "      <td>4.578130</td>\n",
       "      <td>0.657260</td>\n",
       "      <td>216.177610</td>\n",
       "      <td>168.372510</td>\n",
       "    </tr>\n",
       "    <tr>\n",
       "      <th>max</th>\n",
       "      <td>4.840330</td>\n",
       "      <td>20.694590</td>\n",
       "      <td>24.239190</td>\n",
       "      <td>140.795700</td>\n",
       "      <td>223.064370</td>\n",
       "      <td>2227.927820</td>\n",
       "      <td>7852.089700</td>\n",
       "    </tr>\n",
       "  </tbody>\n",
       "</table>\n",
       "</div>"
      ],
      "text/plain": [
       "       price_change_percentage_24h  price_change_percentage_7d  \\\n",
       "count                    41.000000                   41.000000   \n",
       "mean                     -0.269686                    4.497147   \n",
       "std                       2.694793                    6.375218   \n",
       "min                     -13.527860                   -6.094560   \n",
       "25%                      -0.608970                    0.047260   \n",
       "50%                      -0.063410                    3.296410   \n",
       "75%                       0.612090                    7.602780   \n",
       "max                       4.840330                   20.694590   \n",
       "\n",
       "       price_change_percentage_14d  price_change_percentage_30d  \\\n",
       "count                    41.000000                    41.000000   \n",
       "mean                      0.185787                     1.545693   \n",
       "std                       8.376939                    26.344218   \n",
       "min                     -18.158900                   -34.705480   \n",
       "25%                      -5.026620                   -10.438470   \n",
       "50%                       0.109740                    -0.042370   \n",
       "75%                       5.510740                     4.578130   \n",
       "max                      24.239190                   140.795700   \n",
       "\n",
       "       price_change_percentage_60d  price_change_percentage_200d  \\\n",
       "count                    41.000000                     41.000000   \n",
       "mean                     -0.094119                    236.537432   \n",
       "std                      47.365803                    435.225304   \n",
       "min                     -44.822480                     -0.392100   \n",
       "25%                     -25.907990                     21.660420   \n",
       "50%                      -7.544550                     83.905200   \n",
       "75%                       0.657260                    216.177610   \n",
       "max                     223.064370                   2227.927820   \n",
       "\n",
       "       price_change_percentage_1y  \n",
       "count                   41.000000  \n",
       "mean                   347.667956  \n",
       "std                   1247.842884  \n",
       "min                    -17.567530  \n",
       "25%                      0.406170  \n",
       "50%                     69.691950  \n",
       "75%                    168.372510  \n",
       "max                   7852.089700  "
      ]
     },
     "execution_count": 3,
     "metadata": {},
     "output_type": "execute_result"
    }
   ],
   "source": [
    "# Generate summary statistics\n",
    "df_market_data.describe()"
   ]
  },
  {
   "cell_type": "code",
   "execution_count": 4,
   "metadata": {},
   "outputs": [
    {
     "data": {},
     "metadata": {},
     "output_type": "display_data"
    },
    {
     "data": {
      "application/vnd.holoviews_exec.v0+json": "",
      "text/html": [
       "<div id='1002'>\n",
       "  <div class=\"bk-root\" id=\"e91d2e7e-740b-4c93-8f6e-8473e8e77faf\" data-root-id=\"1002\"></div>\n",
       "</div>\n",
       "<script type=\"application/javascript\">(function(root) {\n",
       "  function embed_document(root) {\n",
       "    var docs_json = {\"c5589b96-3bc5-4e8d-afc3-6c8591de302d\":{\"defs\":[{\"extends\":null,\"module\":null,\"name\":\"ReactiveHTML1\",\"overrides\":[],\"properties\":[]},{\"extends\":null,\"module\":null,\"name\":\"FlexBox1\",\"overrides\":[],\"properties\":[{\"default\":\"flex-start\",\"kind\":null,\"name\":\"align_content\"},{\"default\":\"flex-start\",\"kind\":null,\"name\":\"align_items\"},{\"default\":\"row\",\"kind\":null,\"name\":\"flex_direction\"},{\"default\":\"wrap\",\"kind\":null,\"name\":\"flex_wrap\"},{\"default\":\"flex-start\",\"kind\":null,\"name\":\"justify_content\"}]},{\"extends\":null,\"module\":null,\"name\":\"GridStack1\",\"overrides\":[],\"properties\":[{\"default\":\"warn\",\"kind\":null,\"name\":\"mode\"},{\"default\":null,\"kind\":null,\"name\":\"ncols\"},{\"default\":null,\"kind\":null,\"name\":\"nrows\"},{\"default\":true,\"kind\":null,\"name\":\"allow_resize\"},{\"default\":true,\"kind\":null,\"name\":\"allow_drag\"},{\"default\":[],\"kind\":null,\"name\":\"state\"}]},{\"extends\":null,\"module\":null,\"name\":\"click1\",\"overrides\":[],\"properties\":[{\"default\":\"\",\"kind\":null,\"name\":\"terminal_output\"},{\"default\":\"\",\"kind\":null,\"name\":\"debug_name\"},{\"default\":0,\"kind\":null,\"name\":\"clears\"}]},{\"extends\":null,\"module\":null,\"name\":\"NotificationAreaBase1\",\"overrides\":[],\"properties\":[{\"default\":\"bottom-right\",\"kind\":null,\"name\":\"position\"},{\"default\":0,\"kind\":null,\"name\":\"_clear\"}]},{\"extends\":null,\"module\":null,\"name\":\"NotificationArea1\",\"overrides\":[],\"properties\":[{\"default\":[],\"kind\":null,\"name\":\"notifications\"},{\"default\":\"bottom-right\",\"kind\":null,\"name\":\"position\"},{\"default\":0,\"kind\":null,\"name\":\"_clear\"},{\"default\":[{\"background\":\"#ffc107\",\"icon\":{\"className\":\"fas fa-exclamation-triangle\",\"color\":\"white\",\"tagName\":\"i\"},\"type\":\"warning\"},{\"background\":\"#007bff\",\"icon\":{\"className\":\"fas fa-info-circle\",\"color\":\"white\",\"tagName\":\"i\"},\"type\":\"info\"}],\"kind\":null,\"name\":\"types\"}]},{\"extends\":null,\"module\":null,\"name\":\"Notification\",\"overrides\":[],\"properties\":[{\"default\":null,\"kind\":null,\"name\":\"background\"},{\"default\":3000,\"kind\":null,\"name\":\"duration\"},{\"default\":null,\"kind\":null,\"name\":\"icon\"},{\"default\":\"\",\"kind\":null,\"name\":\"message\"},{\"default\":null,\"kind\":null,\"name\":\"notification_type\"},{\"default\":false,\"kind\":null,\"name\":\"_destroyed\"}]},{\"extends\":null,\"module\":null,\"name\":\"TemplateActions1\",\"overrides\":[],\"properties\":[{\"default\":0,\"kind\":null,\"name\":\"open_modal\"},{\"default\":0,\"kind\":null,\"name\":\"close_modal\"}]},{\"extends\":null,\"module\":null,\"name\":\"MaterialTemplateActions1\",\"overrides\":[],\"properties\":[{\"default\":0,\"kind\":null,\"name\":\"open_modal\"},{\"default\":0,\"kind\":null,\"name\":\"close_modal\"}]}],\"roots\":{\"references\":[{\"attributes\":{\"source\":{\"id\":\"1047\"}},\"id\":\"1054\",\"type\":\"CDSView\"},{\"attributes\":{},\"id\":\"1043\",\"type\":\"AllLabels\"},{\"attributes\":{\"line_color\":\"#6d904f\",\"line_width\":2,\"x\":{\"field\":\"coin_id\"},\"y\":{\"field\":\"value\"}},\"id\":\"1139\",\"type\":\"Line\"},{\"attributes\":{},\"id\":\"1029\",\"type\":\"PanTool\"},{\"attributes\":{\"axis_label\":\"\",\"coordinates\":null,\"formatter\":{\"id\":\"1045\"},\"group\":null,\"major_label_policy\":{\"id\":\"1046\"},\"ticker\":{\"id\":\"1025\"}},\"id\":\"1024\",\"type\":\"LinearAxis\"},{\"attributes\":{\"label\":{\"value\":\"price_change_percentage_14d\"},\"renderers\":[{\"id\":\"1096\"}]},\"id\":\"1112\",\"type\":\"LegendItem\"},{\"attributes\":{},\"id\":\"1048\",\"type\":\"Selection\"},{\"attributes\":{\"axis\":{\"id\":\"1024\"},\"coordinates\":null,\"dimension\":1,\"grid_line_color\":null,\"group\":null,\"ticker\":null},\"id\":\"1027\",\"type\":\"Grid\"},{\"attributes\":{\"source\":{\"id\":\"1090\"}},\"id\":\"1097\",\"type\":\"CDSView\"},{\"attributes\":{\"end\":8641.780918,\"reset_end\":8641.780918,\"reset_start\":-834.5136980000001,\"start\":-834.5136980000001,\"tags\":[[[\"value\",\"value\",null]]]},\"id\":\"1004\",\"type\":\"Range1d\"},{\"attributes\":{},\"id\":\"1025\",\"type\":\"BasicTicker\"},{\"attributes\":{\"click_policy\":\"mute\",\"coordinates\":null,\"group\":null,\"items\":[{\"id\":\"1066\"},{\"id\":\"1088\"},{\"id\":\"1112\"},{\"id\":\"1138\"},{\"id\":\"1166\"},{\"id\":\"1196\"},{\"id\":\"1228\"}],\"location\":[0,0],\"title\":\"Variable\"},\"id\":\"1065\",\"type\":\"Legend\"},{\"attributes\":{\"data\":{\"Variable\":[\"price_change_percentage_60d\",\"price_change_percentage_60d\",\"price_change_percentage_60d\",\"price_change_percentage_60d\",\"price_change_percentage_60d\",\"price_change_percentage_60d\",\"price_change_percentage_60d\",\"price_change_percentage_60d\",\"price_change_percentage_60d\",\"price_change_percentage_60d\",\"price_change_percentage_60d\",\"price_change_percentage_60d\",\"price_change_percentage_60d\",\"price_change_percentage_60d\",\"price_change_percentage_60d\",\"price_change_percentage_60d\",\"price_change_percentage_60d\",\"price_change_percentage_60d\",\"price_change_percentage_60d\",\"price_change_percentage_60d\",\"price_change_percentage_60d\",\"price_change_percentage_60d\",\"price_change_percentage_60d\",\"price_change_percentage_60d\",\"price_change_percentage_60d\",\"price_change_percentage_60d\",\"price_change_percentage_60d\",\"price_change_percentage_60d\",\"price_change_percentage_60d\",\"price_change_percentage_60d\",\"price_change_percentage_60d\",\"price_change_percentage_60d\",\"price_change_percentage_60d\",\"price_change_percentage_60d\",\"price_change_percentage_60d\",\"price_change_percentage_60d\",\"price_change_percentage_60d\",\"price_change_percentage_60d\",\"price_change_percentage_60d\",\"price_change_percentage_60d\",\"price_change_percentage_60d\"],\"coin_id\":[\"bitcoin\",\"ethereum\",\"tether\",\"ripple\",\"bitcoin-cash\",\"binancecoin\",\"chainlink\",\"cardano\",\"litecoin\",\"bitcoin-cash-sv\",\"crypto-com-chain\",\"usd-coin\",\"eos\",\"monero\",\"tron\",\"tezos\",\"okb\",\"stellar\",\"cosmos\",\"cdai\",\"neo\",\"wrapped-bitcoin\",\"leo-token\",\"huobi-token\",\"nem\",\"binance-usd\",\"iota\",\"vechain\",\"zcash\",\"theta-token\",\"dash\",\"ethereum-classic\",\"ethlend\",\"maker\",\"havven\",\"omisego\",\"celsius-degree-token\",\"ontology\",\"ftx-token\",\"true-usd\",\"digibyte\"],\"value\":{\"__ndarray__\":\"FvvL7skDCsAs1JrmHccpwKjjMQOV8dE/2qz6XG2NMcBzol2FlG8rwIleRrHcKkJAN8MN+PzYRcBi26LMBtk2wCEf9GxWPTHAq5UJv9TfOMBg5dAi23kwwDygbMoV3qU/l631RUIrPsDNzMzMzNxEQJm7lpAPGhZAms5OBkdpRsBKe4MvTKYGwEsfuqC+zT7APL1SliHOHMC4AZ8fRgjlP9L7xteeCStAFqQZi6azDMCvJeSDni0ewDeOWItPQQvAXvQVpBm3VEDaOGItPgW4PwpLPKBsQkHAaw4QzNHPRcAJM23/yoo0wBmQvd79AVRAfa62Yn85OsBVGFsIcug5wLCsNCkFHQFA529CIQKeMsA0uoPYmbZDwPKwUGua0VNA/pqsUQ/ia0Ao8iTpmllAwFuxv+yenBdAmrFoOjsZ0D8s1JrmHRc/wA==\",\"dtype\":\"float64\",\"order\":\"little\",\"shape\":[41]}},\"selected\":{\"id\":\"1141\"},\"selection_policy\":{\"id\":\"1163\"}},\"id\":\"1140\",\"type\":\"ColumnDataSource\"},{\"attributes\":{},\"id\":\"1030\",\"type\":\"WheelZoomTool\"},{\"attributes\":{},\"id\":\"1135\",\"type\":\"UnionRenderers\"},{\"attributes\":{\"coordinates\":null,\"data_source\":{\"id\":\"1090\"},\"glyph\":{\"id\":\"1093\"},\"group\":null,\"hover_glyph\":null,\"muted_glyph\":{\"id\":\"1095\"},\"nonselection_glyph\":{\"id\":\"1094\"},\"selection_glyph\":{\"id\":\"1113\"},\"view\":{\"id\":\"1097\"}},\"id\":\"1096\",\"type\":\"GlyphRenderer\"},{\"attributes\":{},\"id\":\"1028\",\"type\":\"SaveTool\"},{\"attributes\":{\"line_alpha\":0.2,\"line_color\":\"#e5ae38\",\"line_width\":2,\"x\":{\"field\":\"coin_id\"},\"y\":{\"field\":\"value\"}},\"id\":\"1095\",\"type\":\"Line\"},{\"attributes\":{},\"id\":\"1091\",\"type\":\"Selection\"},{\"attributes\":{\"overlay\":{\"id\":\"1033\"}},\"id\":\"1031\",\"type\":\"BoxZoomTool\"},{\"attributes\":{\"line_alpha\":0.2,\"line_color\":\"#30a2da\",\"line_width\":2,\"x\":{\"field\":\"coin_id\"},\"y\":{\"field\":\"value\"}},\"id\":\"1052\",\"type\":\"Line\"},{\"attributes\":{},\"id\":\"1032\",\"type\":\"ResetTool\"},{\"attributes\":{},\"id\":\"1225\",\"type\":\"UnionRenderers\"},{\"attributes\":{\"label\":{\"value\":\"price_change_percentage_60d\"},\"renderers\":[{\"id\":\"1146\"}]},\"id\":\"1166\",\"type\":\"LegendItem\"},{\"attributes\":{\"source\":{\"id\":\"1140\"}},\"id\":\"1147\",\"type\":\"CDSView\"},{\"attributes\":{\"bottom_units\":\"screen\",\"coordinates\":null,\"fill_alpha\":0.5,\"fill_color\":\"lightgrey\",\"group\":null,\"left_units\":\"screen\",\"level\":\"overlay\",\"line_alpha\":1.0,\"line_color\":\"black\",\"line_dash\":[4,4],\"line_width\":2,\"right_units\":\"screen\",\"syncable\":false,\"top_units\":\"screen\"},\"id\":\"1033\",\"type\":\"BoxAnnotation\"},{\"attributes\":{\"line_color\":\"#e5ae38\",\"line_width\":2,\"x\":{\"field\":\"coin_id\"},\"y\":{\"field\":\"value\"}},\"id\":\"1093\",\"type\":\"Line\"},{\"attributes\":{\"coordinates\":null,\"data_source\":{\"id\":\"1047\"},\"glyph\":{\"id\":\"1050\"},\"group\":null,\"hover_glyph\":null,\"muted_glyph\":{\"id\":\"1052\"},\"nonselection_glyph\":{\"id\":\"1051\"},\"selection_glyph\":{\"id\":\"1067\"},\"view\":{\"id\":\"1054\"}},\"id\":\"1053\",\"type\":\"GlyphRenderer\"},{\"attributes\":{\"coordinates\":null,\"data_source\":{\"id\":\"1140\"},\"glyph\":{\"id\":\"1143\"},\"group\":null,\"hover_glyph\":null,\"muted_glyph\":{\"id\":\"1145\"},\"nonselection_glyph\":{\"id\":\"1144\"},\"selection_glyph\":{\"id\":\"1167\"},\"view\":{\"id\":\"1147\"}},\"id\":\"1146\",\"type\":\"GlyphRenderer\"},{\"attributes\":{\"line_color\":\"#17becf\",\"line_width\":2,\"x\":{\"field\":\"coin_id\"},\"y\":{\"field\":\"value\"}},\"id\":\"1197\",\"type\":\"Line\"},{\"attributes\":{\"line_alpha\":0.2,\"line_color\":\"#8b8b8b\",\"line_width\":2,\"x\":{\"field\":\"coin_id\"},\"y\":{\"field\":\"value\"}},\"id\":\"1145\",\"type\":\"Line\"},{\"attributes\":{},\"id\":\"1141\",\"type\":\"Selection\"},{\"attributes\":{\"active_drag\":{\"id\":\"1029\"},\"active_scroll\":{\"id\":\"1030\"},\"tools\":[{\"id\":\"1005\"},{\"id\":\"1028\"},{\"id\":\"1029\"},{\"id\":\"1030\"},{\"id\":\"1031\"},{\"id\":\"1032\"}]},\"id\":\"1034\",\"type\":\"Toolbar\"},{\"attributes\":{\"coordinates\":null,\"data_source\":{\"id\":\"1068\"},\"glyph\":{\"id\":\"1071\"},\"group\":null,\"hover_glyph\":null,\"muted_glyph\":{\"id\":\"1073\"},\"nonselection_glyph\":{\"id\":\"1072\"},\"selection_glyph\":{\"id\":\"1089\"},\"view\":{\"id\":\"1075\"}},\"id\":\"1074\",\"type\":\"GlyphRenderer\"},{\"attributes\":{\"line_alpha\":0.1,\"line_color\":\"#9467bd\",\"line_width\":2,\"x\":{\"field\":\"coin_id\"},\"y\":{\"field\":\"value\"}},\"id\":\"1202\",\"type\":\"Line\"},{\"attributes\":{},\"id\":\"1042\",\"type\":\"CategoricalTickFormatter\"},{\"attributes\":{},\"id\":\"1062\",\"type\":\"UnionRenderers\"},{\"attributes\":{\"below\":[{\"id\":\"1021\"}],\"center\":[{\"id\":\"1023\"},{\"id\":\"1027\"}],\"height\":400,\"left\":[{\"id\":\"1024\"}],\"margin\":[5,5,5,5],\"min_border_bottom\":10,\"min_border_left\":10,\"min_border_right\":10,\"min_border_top\":10,\"renderers\":[{\"id\":\"1053\"},{\"id\":\"1074\"},{\"id\":\"1096\"},{\"id\":\"1120\"},{\"id\":\"1146\"},{\"id\":\"1174\"},{\"id\":\"1204\"}],\"right\":[{\"id\":\"1065\"}],\"sizing_mode\":\"fixed\",\"title\":{\"id\":\"1013\"},\"toolbar\":{\"id\":\"1034\"},\"width\":800,\"x_range\":{\"id\":\"1003\"},\"x_scale\":{\"id\":\"1017\"},\"y_range\":{\"id\":\"1004\"},\"y_scale\":{\"id\":\"1019\"}},\"id\":\"1012\",\"subtype\":\"Figure\",\"type\":\"Plot\"},{\"attributes\":{},\"id\":\"1046\",\"type\":\"AllLabels\"},{\"attributes\":{\"line_color\":\"#8b8b8b\",\"line_width\":2,\"x\":{\"field\":\"coin_id\"},\"y\":{\"field\":\"value\"}},\"id\":\"1143\",\"type\":\"Line\"},{\"attributes\":{},\"id\":\"1045\",\"type\":\"BasicTickFormatter\"},{\"attributes\":{\"label\":{\"value\":\"price_change_percentage_24h\"},\"renderers\":[{\"id\":\"1053\"}]},\"id\":\"1066\",\"type\":\"LegendItem\"},{\"attributes\":{\"label\":{\"value\":\"price_change_percentage_1y\"},\"renderers\":[{\"id\":\"1204\"}]},\"id\":\"1228\",\"type\":\"LegendItem\"},{\"attributes\":{\"label\":{\"value\":\"price_change_percentage_7d\"},\"renderers\":[{\"id\":\"1074\"}]},\"id\":\"1088\",\"type\":\"LegendItem\"},{\"attributes\":{\"source\":{\"id\":\"1198\"}},\"id\":\"1205\",\"type\":\"CDSView\"},{\"attributes\":{\"source\":{\"id\":\"1068\"}},\"id\":\"1075\",\"type\":\"CDSView\"},{\"attributes\":{\"data\":{\"Variable\":[\"price_change_percentage_7d\",\"price_change_percentage_7d\",\"price_change_percentage_7d\",\"price_change_percentage_7d\",\"price_change_percentage_7d\",\"price_change_percentage_7d\",\"price_change_percentage_7d\",\"price_change_percentage_7d\",\"price_change_percentage_7d\",\"price_change_percentage_7d\",\"price_change_percentage_7d\",\"price_change_percentage_7d\",\"price_change_percentage_7d\",\"price_change_percentage_7d\",\"price_change_percentage_7d\",\"price_change_percentage_7d\",\"price_change_percentage_7d\",\"price_change_percentage_7d\",\"price_change_percentage_7d\",\"price_change_percentage_7d\",\"price_change_percentage_7d\",\"price_change_percentage_7d\",\"price_change_percentage_7d\",\"price_change_percentage_7d\",\"price_change_percentage_7d\",\"price_change_percentage_7d\",\"price_change_percentage_7d\",\"price_change_percentage_7d\",\"price_change_percentage_7d\",\"price_change_percentage_7d\",\"price_change_percentage_7d\",\"price_change_percentage_7d\",\"price_change_percentage_7d\",\"price_change_percentage_7d\",\"price_change_percentage_7d\",\"price_change_percentage_7d\",\"price_change_percentage_7d\",\"price_change_percentage_7d\",\"price_change_percentage_7d\",\"price_change_percentage_7d\",\"price_change_percentage_7d\"],\"coin_id\":[\"bitcoin\",\"ethereum\",\"tether\",\"ripple\",\"bitcoin-cash\",\"binancecoin\",\"chainlink\",\"cardano\",\"litecoin\",\"bitcoin-cash-sv\",\"crypto-com-chain\",\"usd-coin\",\"eos\",\"monero\",\"tron\",\"tezos\",\"okb\",\"stellar\",\"cosmos\",\"cdai\",\"neo\",\"wrapped-bitcoin\",\"leo-token\",\"huobi-token\",\"nem\",\"binance-usd\",\"iota\",\"vechain\",\"zcash\",\"theta-token\",\"dash\",\"ethereum-classic\",\"ethlend\",\"maker\",\"havven\",\"omisego\",\"celsius-degree-token\",\"ontology\",\"ftx-token\",\"true-usd\",\"digibyte\"],\"value\":{\"__ndarray__\":\"RbsKKT9pHkAzUBn/PsMkQL99HThnRKk/yVnY0w5/47/+JhQi4BgxQBL3WPrQtSlA7yB2ptCxNEA/jBAebfwrQPFL/bypaBpArKjBNAxfCkByv0NRoK8WwPlJtU/HY76/lPsdigL99L+n6Egu/5EvQE1KQbeX9BBA0m9fB87pIUBlU67wLjcSwKbtX1lpkgBAZwqd19gVMEBcIEHxY8ytP3wnZr0YigNAOh4zUBmfHUD3Hi457pT1vzNQGf8+4/k/kQ96Nqs+6781Y9F0djKoP2dEaW/wRRhAgXhdv2A3/L/8GHPXErIkQP8JLlbUYBjAVU0QdR9gFEDRlnMprmoIQGCrBIvD2RBAAiuHFtlOIECbG9MTllgRQKhXyjLEURtAqn06HjNQ4z+UvDrHgGzzvwltOZfiahxAsD2zJEBNxT8yj/zBwHPlPw==\",\"dtype\":\"float64\",\"order\":\"little\",\"shape\":[41]}},\"selected\":{\"id\":\"1069\"},\"selection_policy\":{\"id\":\"1085\"}},\"id\":\"1068\",\"type\":\"ColumnDataSource\"},{\"attributes\":{\"children\":[{\"id\":\"1012\"}],\"height\":400,\"margin\":[0,0,0,0],\"name\":\"Row01047\",\"sizing_mode\":\"fixed\",\"tags\":[\"embedded\"],\"width\":800},\"id\":\"1002\",\"type\":\"Row\"},{\"attributes\":{\"line_alpha\":0.1,\"line_color\":\"#6d904f\",\"line_width\":2,\"x\":{\"field\":\"coin_id\"},\"y\":{\"field\":\"value\"}},\"id\":\"1118\",\"type\":\"Line\"},{\"attributes\":{},\"id\":\"1109\",\"type\":\"UnionRenderers\"},{\"attributes\":{\"line_alpha\":0.1,\"line_color\":\"#8b8b8b\",\"line_width\":2,\"x\":{\"field\":\"coin_id\"},\"y\":{\"field\":\"value\"}},\"id\":\"1144\",\"type\":\"Line\"},{\"attributes\":{\"line_alpha\":0.2,\"line_color\":\"#9467bd\",\"line_width\":2,\"x\":{\"field\":\"coin_id\"},\"y\":{\"field\":\"value\"}},\"id\":\"1203\",\"type\":\"Line\"},{\"attributes\":{\"line_alpha\":0.2,\"line_color\":\"#fc4f30\",\"line_width\":2,\"x\":{\"field\":\"coin_id\"},\"y\":{\"field\":\"value\"}},\"id\":\"1073\",\"type\":\"Line\"},{\"attributes\":{},\"id\":\"1199\",\"type\":\"Selection\"},{\"attributes\":{\"line_color\":\"#e5ae38\",\"line_width\":2,\"x\":{\"field\":\"coin_id\"},\"y\":{\"field\":\"value\"}},\"id\":\"1113\",\"type\":\"Line\"},{\"attributes\":{\"factors\":[\"bitcoin\",\"ethereum\",\"tether\",\"ripple\",\"bitcoin-cash\",\"binancecoin\",\"chainlink\",\"cardano\",\"litecoin\",\"bitcoin-cash-sv\",\"crypto-com-chain\",\"usd-coin\",\"eos\",\"monero\",\"tron\",\"tezos\",\"okb\",\"stellar\",\"cosmos\",\"cdai\",\"neo\",\"wrapped-bitcoin\",\"leo-token\",\"huobi-token\",\"nem\",\"binance-usd\",\"iota\",\"vechain\",\"zcash\",\"theta-token\",\"dash\",\"ethereum-classic\",\"ethlend\",\"maker\",\"havven\",\"omisego\",\"celsius-degree-token\",\"ontology\",\"ftx-token\",\"true-usd\",\"digibyte\"],\"tags\":[[[\"coin_id\",\"coin_id\",null]]]},\"id\":\"1003\",\"type\":\"FactorRange\"},{\"attributes\":{},\"id\":\"1069\",\"type\":\"Selection\"},{\"attributes\":{},\"id\":\"1085\",\"type\":\"UnionRenderers\"},{\"attributes\":{\"data\":{\"Variable\":[\"price_change_percentage_30d\",\"price_change_percentage_30d\",\"price_change_percentage_30d\",\"price_change_percentage_30d\",\"price_change_percentage_30d\",\"price_change_percentage_30d\",\"price_change_percentage_30d\",\"price_change_percentage_30d\",\"price_change_percentage_30d\",\"price_change_percentage_30d\",\"price_change_percentage_30d\",\"price_change_percentage_30d\",\"price_change_percentage_30d\",\"price_change_percentage_30d\",\"price_change_percentage_30d\",\"price_change_percentage_30d\",\"price_change_percentage_30d\",\"price_change_percentage_30d\",\"price_change_percentage_30d\",\"price_change_percentage_30d\",\"price_change_percentage_30d\",\"price_change_percentage_30d\",\"price_change_percentage_30d\",\"price_change_percentage_30d\",\"price_change_percentage_30d\",\"price_change_percentage_30d\",\"price_change_percentage_30d\",\"price_change_percentage_30d\",\"price_change_percentage_30d\",\"price_change_percentage_30d\",\"price_change_percentage_30d\",\"price_change_percentage_30d\",\"price_change_percentage_30d\",\"price_change_percentage_30d\",\"price_change_percentage_30d\",\"price_change_percentage_30d\",\"price_change_percentage_30d\",\"price_change_percentage_30d\",\"price_change_percentage_30d\",\"price_change_percentage_30d\",\"price_change_percentage_30d\"],\"coin_id\":[\"bitcoin\",\"ethereum\",\"tether\",\"ripple\",\"bitcoin-cash\",\"binancecoin\",\"chainlink\",\"cardano\",\"litecoin\",\"bitcoin-cash-sv\",\"crypto-com-chain\",\"usd-coin\",\"eos\",\"monero\",\"tron\",\"tezos\",\"okb\",\"stellar\",\"cosmos\",\"cdai\",\"neo\",\"wrapped-bitcoin\",\"leo-token\",\"huobi-token\",\"nem\",\"binance-usd\",\"iota\",\"vechain\",\"zcash\",\"theta-token\",\"dash\",\"ethereum-classic\",\"ethlend\",\"maker\",\"havven\",\"omisego\",\"celsius-degree-token\",\"ontology\",\"ftx-token\",\"true-usd\",\"digibyte\"],\"value\":{\"__ndarray__\":\"VMa/z7iwHkAl6ZrJN9vAP/28qUiFsaW/L26jAbwFzj8dcjPcgH8vQPMf0m9fB64/5bhTOlhvJsBnfjUHCDYkQGWNeohGd/M/sCDNWDQdB0Cmft5UpHIxwJgvL8A+OsW/t0WZDTKJEsDeVKTC2HpDQEzD8BExNSnAjWK5pdVALMDjjcwjf+AkwIrIsIo3QiDAjliLTwFQEkAWpBmLpnMBwE3WqIdo9DXAVG8NbJWAHUAnMQisHJoIQGA8g4b+CQrACcTr+gU7DcCPpQ9dUN+SP80Bgjl6nBDA9S1zuixWLMBC7Eyh83odQEku/yH9bj9AtTf4wmQqH8Am/FI/byoHQNjYJaq3/j3A9GxWfa62MECdRloqb9c0wF4R/G8lOyLArK3YX3aZYUC1/SsrTVpBwP/PYb68ICXAFR3J5T+knz+ndLD+z4EqQA==\",\"dtype\":\"float64\",\"order\":\"little\",\"shape\":[41]}},\"selected\":{\"id\":\"1115\"},\"selection_policy\":{\"id\":\"1135\"}},\"id\":\"1114\",\"type\":\"ColumnDataSource\"},{\"attributes\":{\"coordinates\":null,\"data_source\":{\"id\":\"1198\"},\"glyph\":{\"id\":\"1201\"},\"group\":null,\"hover_glyph\":null,\"muted_glyph\":{\"id\":\"1203\"},\"nonselection_glyph\":{\"id\":\"1202\"},\"selection_glyph\":{\"id\":\"1229\"},\"view\":{\"id\":\"1205\"}},\"id\":\"1204\",\"type\":\"GlyphRenderer\"},{\"attributes\":{\"line_color\":\"#30a2da\",\"line_width\":2,\"x\":{\"field\":\"coin_id\"},\"y\":{\"field\":\"value\"}},\"id\":\"1050\",\"type\":\"Line\"},{\"attributes\":{\"line_color\":\"#9467bd\",\"line_width\":2,\"x\":{\"field\":\"coin_id\"},\"y\":{\"field\":\"value\"}},\"id\":\"1201\",\"type\":\"Line\"},{\"attributes\":{\"data\":{\"Variable\":[\"price_change_percentage_1y\",\"price_change_percentage_1y\",\"price_change_percentage_1y\",\"price_change_percentage_1y\",\"price_change_percentage_1y\",\"price_change_percentage_1y\",\"price_change_percentage_1y\",\"price_change_percentage_1y\",\"price_change_percentage_1y\",\"price_change_percentage_1y\",\"price_change_percentage_1y\",\"price_change_percentage_1y\",\"price_change_percentage_1y\",\"price_change_percentage_1y\",\"price_change_percentage_1y\",\"price_change_percentage_1y\",\"price_change_percentage_1y\",\"price_change_percentage_1y\",\"price_change_percentage_1y\",\"price_change_percentage_1y\",\"price_change_percentage_1y\",\"price_change_percentage_1y\",\"price_change_percentage_1y\",\"price_change_percentage_1y\",\"price_change_percentage_1y\",\"price_change_percentage_1y\",\"price_change_percentage_1y\",\"price_change_percentage_1y\",\"price_change_percentage_1y\",\"price_change_percentage_1y\",\"price_change_percentage_1y\",\"price_change_percentage_1y\",\"price_change_percentage_1y\",\"price_change_percentage_1y\",\"price_change_percentage_1y\",\"price_change_percentage_1y\",\"price_change_percentage_1y\",\"price_change_percentage_1y\",\"price_change_percentage_1y\",\"price_change_percentage_1y\",\"price_change_percentage_1y\"],\"coin_id\":[\"bitcoin\",\"ethereum\",\"tether\",\"ripple\",\"bitcoin-cash\",\"binancecoin\",\"chainlink\",\"cardano\",\"litecoin\",\"bitcoin-cash-sv\",\"crypto-com-chain\",\"usd-coin\",\"eos\",\"monero\",\"tron\",\"tezos\",\"okb\",\"stellar\",\"cosmos\",\"cdai\",\"neo\",\"wrapped-bitcoin\",\"leo-token\",\"huobi-token\",\"nem\",\"binance-usd\",\"iota\",\"vechain\",\"zcash\",\"theta-token\",\"dash\",\"ethereum-classic\",\"ethlend\",\"maker\",\"havven\",\"omisego\",\"celsius-degree-token\",\"ontology\",\"ftx-token\",\"true-usd\",\"digibyte\"],\"value\":{\"__ndarray__\":\"kQpjC0HCQkDWqIdodH1ZQN/42jNLApQ/NXugFRiaMMDN6bKY2PwsQOcdp+hIbFFAaTo7GRxSdEC6LCY2H4NjQPnaM0sCVCnA0NA/wcVuV0CQvd798RBzQL4wmSoYlci/t39lpUmRMcDovMYuUaFhQEPKT6p9nk1A6PaSxmiAYUBdUN8yp75hQMzuycNCnStAw7ZFmQ2cVEAHsTOFzmvSvx/0bFZ9aWBAhhvw+WHEQkAN/RNcrAA1QN8Vwf9WkjhAS7A4nPkWaUAVUn5S7dPBPzUk7rH04Q/AIsMq3shbaUBf0hito7hUQPyMCwcC64VAzsKedvirA8Dwoq8gzTgmQHRGlPYWrL5Ayk+qfTpOJUDfiVkvRjaFQEfJq3MMC3RAnFCIgONmn0CsVib8Uk8pwNttF5rrC2VAyXGndLD+2T/ZfFwbKgxnQA==\",\"dtype\":\"float64\",\"order\":\"little\",\"shape\":[41]}},\"selected\":{\"id\":\"1199\"},\"selection_policy\":{\"id\":\"1225\"}},\"id\":\"1198\",\"type\":\"ColumnDataSource\"},{\"attributes\":{\"line_color\":\"#fc4f30\",\"line_width\":2,\"x\":{\"field\":\"coin_id\"},\"y\":{\"field\":\"value\"}},\"id\":\"1071\",\"type\":\"Line\"},{\"attributes\":{\"line_color\":\"#8b8b8b\",\"line_width\":2,\"x\":{\"field\":\"coin_id\"},\"y\":{\"field\":\"value\"}},\"id\":\"1167\",\"type\":\"Line\"},{\"attributes\":{},\"id\":\"1019\",\"type\":\"LinearScale\"},{\"attributes\":{\"label\":{\"value\":\"price_change_percentage_30d\"},\"renderers\":[{\"id\":\"1120\"}]},\"id\":\"1138\",\"type\":\"LegendItem\"},{\"attributes\":{\"source\":{\"id\":\"1114\"}},\"id\":\"1121\",\"type\":\"CDSView\"},{\"attributes\":{\"data\":{\"Variable\":[\"price_change_percentage_200d\",\"price_change_percentage_200d\",\"price_change_percentage_200d\",\"price_change_percentage_200d\",\"price_change_percentage_200d\",\"price_change_percentage_200d\",\"price_change_percentage_200d\",\"price_change_percentage_200d\",\"price_change_percentage_200d\",\"price_change_percentage_200d\",\"price_change_percentage_200d\",\"price_change_percentage_200d\",\"price_change_percentage_200d\",\"price_change_percentage_200d\",\"price_change_percentage_200d\",\"price_change_percentage_200d\",\"price_change_percentage_200d\",\"price_change_percentage_200d\",\"price_change_percentage_200d\",\"price_change_percentage_200d\",\"price_change_percentage_200d\",\"price_change_percentage_200d\",\"price_change_percentage_200d\",\"price_change_percentage_200d\",\"price_change_percentage_200d\",\"price_change_percentage_200d\",\"price_change_percentage_200d\",\"price_change_percentage_200d\",\"price_change_percentage_200d\",\"price_change_percentage_200d\",\"price_change_percentage_200d\",\"price_change_percentage_200d\",\"price_change_percentage_200d\",\"price_change_percentage_200d\",\"price_change_percentage_200d\",\"price_change_percentage_200d\",\"price_change_percentage_200d\",\"price_change_percentage_200d\",\"price_change_percentage_200d\",\"price_change_percentage_200d\",\"price_change_percentage_200d\"],\"coin_id\":[\"bitcoin\",\"ethereum\",\"tether\",\"ripple\",\"bitcoin-cash\",\"binancecoin\",\"chainlink\",\"cardano\",\"litecoin\",\"bitcoin-cash-sv\",\"crypto-com-chain\",\"usd-coin\",\"eos\",\"monero\",\"tron\",\"tezos\",\"okb\",\"stellar\",\"cosmos\",\"cdai\",\"neo\",\"wrapped-bitcoin\",\"leo-token\",\"huobi-token\",\"nem\",\"binance-usd\",\"iota\",\"vechain\",\"zcash\",\"theta-token\",\"dash\",\"ethereum-classic\",\"ethlend\",\"maker\",\"havven\",\"omisego\",\"celsius-degree-token\",\"ontology\",\"ftx-token\",\"true-usd\",\"digibyte\"],\"value\":{\"__ndarray__\":\"xY8xdy3hVED0piIVxlhnQBe86CtIM3a/9zsUBfrEQ0DTn/1IEak1QPTDCOHRc2NAl3MprqozeUAexM4UOohwQIB9dOrKfztAFhiyutWzHUCN7iB2plZsQIQqNXugFcS/ZHWr56QPMkALe9rhrzBlQH+8V61MnGBA5nlwd9a2RUARHm0csfpDQC+Lic3HJ1VAkj8YeO4/Z0AOvjCZKhjZv2vUQzS61GNAtRX7y+75VEC5GW7A52cwQAPso1NXHkVAKa4q+64Fa0A7NgLxun65P+TaUDHOwVdAyM1wAz7bcEAFwHgGDaNeQH3Qs1k1lYtAOUVHcvnvGEANGvonuMgkQCYZOQvbZ6FAGD4ipkSiVED5MeauZXeDQHi0ccQaSoJAC170FcTYmEB1PGagMmJLQC2yne+nvkxAndfYJaq3tr9R9wFIbSl+QA==\",\"dtype\":\"float64\",\"order\":\"little\",\"shape\":[41]}},\"selected\":{\"id\":\"1169\"},\"selection_policy\":{\"id\":\"1193\"}},\"id\":\"1168\",\"type\":\"ColumnDataSource\"},{\"attributes\":{\"line_alpha\":0.1,\"line_color\":\"#fc4f30\",\"line_width\":2,\"x\":{\"field\":\"coin_id\"},\"y\":{\"field\":\"value\"}},\"id\":\"1072\",\"type\":\"Line\"},{\"attributes\":{},\"id\":\"1163\",\"type\":\"UnionRenderers\"},{\"attributes\":{\"line_color\":\"#17becf\",\"line_width\":2,\"x\":{\"field\":\"coin_id\"},\"y\":{\"field\":\"value\"}},\"id\":\"1171\",\"type\":\"Line\"},{\"attributes\":{\"coordinates\":null,\"data_source\":{\"id\":\"1114\"},\"glyph\":{\"id\":\"1117\"},\"group\":null,\"hover_glyph\":null,\"muted_glyph\":{\"id\":\"1119\"},\"nonselection_glyph\":{\"id\":\"1118\"},\"selection_glyph\":{\"id\":\"1139\"},\"view\":{\"id\":\"1121\"}},\"id\":\"1120\",\"type\":\"GlyphRenderer\"},{\"attributes\":{\"label\":{\"value\":\"price_change_percentage_200d\"},\"renderers\":[{\"id\":\"1174\"}]},\"id\":\"1196\",\"type\":\"LegendItem\"},{\"attributes\":{\"line_alpha\":0.2,\"line_color\":\"#6d904f\",\"line_width\":2,\"x\":{\"field\":\"coin_id\"},\"y\":{\"field\":\"value\"}},\"id\":\"1119\",\"type\":\"Line\"},{\"attributes\":{},\"id\":\"1017\",\"type\":\"CategoricalScale\"},{\"attributes\":{},\"id\":\"1115\",\"type\":\"Selection\"},{\"attributes\":{\"callback\":null,\"renderers\":[{\"id\":\"1053\"},{\"id\":\"1074\"},{\"id\":\"1096\"},{\"id\":\"1120\"},{\"id\":\"1146\"},{\"id\":\"1174\"},{\"id\":\"1204\"}],\"tags\":[\"hv_created\"],\"tooltips\":[[\"Variable\",\"@{Variable}\"],[\"coin_id\",\"@{coin_id}\"],[\"value\",\"@{value}\"]]},\"id\":\"1005\",\"type\":\"HoverTool\"},{\"attributes\":{\"source\":{\"id\":\"1168\"}},\"id\":\"1175\",\"type\":\"CDSView\"},{\"attributes\":{\"line_color\":\"#9467bd\",\"line_width\":2,\"x\":{\"field\":\"coin_id\"},\"y\":{\"field\":\"value\"}},\"id\":\"1229\",\"type\":\"Line\"},{\"attributes\":{},\"id\":\"1193\",\"type\":\"UnionRenderers\"},{\"attributes\":{\"line_alpha\":0.1,\"line_color\":\"#17becf\",\"line_width\":2,\"x\":{\"field\":\"coin_id\"},\"y\":{\"field\":\"value\"}},\"id\":\"1172\",\"type\":\"Line\"},{\"attributes\":{\"line_color\":\"#6d904f\",\"line_width\":2,\"x\":{\"field\":\"coin_id\"},\"y\":{\"field\":\"value\"}},\"id\":\"1117\",\"type\":\"Line\"},{\"attributes\":{\"line_alpha\":0.1,\"line_color\":\"#e5ae38\",\"line_width\":2,\"x\":{\"field\":\"coin_id\"},\"y\":{\"field\":\"value\"}},\"id\":\"1094\",\"type\":\"Line\"},{\"attributes\":{\"coordinates\":null,\"data_source\":{\"id\":\"1168\"},\"glyph\":{\"id\":\"1171\"},\"group\":null,\"hover_glyph\":null,\"muted_glyph\":{\"id\":\"1173\"},\"nonselection_glyph\":{\"id\":\"1172\"},\"selection_glyph\":{\"id\":\"1197\"},\"view\":{\"id\":\"1175\"}},\"id\":\"1174\",\"type\":\"GlyphRenderer\"},{\"attributes\":{\"line_color\":\"#30a2da\",\"line_width\":2,\"x\":{\"field\":\"coin_id\"},\"y\":{\"field\":\"value\"}},\"id\":\"1067\",\"type\":\"Line\"},{\"attributes\":{\"line_alpha\":0.2,\"line_color\":\"#17becf\",\"line_width\":2,\"x\":{\"field\":\"coin_id\"},\"y\":{\"field\":\"value\"}},\"id\":\"1173\",\"type\":\"Line\"},{\"attributes\":{\"data\":{\"Variable\":[\"price_change_percentage_24h\",\"price_change_percentage_24h\",\"price_change_percentage_24h\",\"price_change_percentage_24h\",\"price_change_percentage_24h\",\"price_change_percentage_24h\",\"price_change_percentage_24h\",\"price_change_percentage_24h\",\"price_change_percentage_24h\",\"price_change_percentage_24h\",\"price_change_percentage_24h\",\"price_change_percentage_24h\",\"price_change_percentage_24h\",\"price_change_percentage_24h\",\"price_change_percentage_24h\",\"price_change_percentage_24h\",\"price_change_percentage_24h\",\"price_change_percentage_24h\",\"price_change_percentage_24h\",\"price_change_percentage_24h\",\"price_change_percentage_24h\",\"price_change_percentage_24h\",\"price_change_percentage_24h\",\"price_change_percentage_24h\",\"price_change_percentage_24h\",\"price_change_percentage_24h\",\"price_change_percentage_24h\",\"price_change_percentage_24h\",\"price_change_percentage_24h\",\"price_change_percentage_24h\",\"price_change_percentage_24h\",\"price_change_percentage_24h\",\"price_change_percentage_24h\",\"price_change_percentage_24h\",\"price_change_percentage_24h\",\"price_change_percentage_24h\",\"price_change_percentage_24h\",\"price_change_percentage_24h\",\"price_change_percentage_24h\",\"price_change_percentage_24h\",\"price_change_percentage_24h\"],\"coin_id\":[\"bitcoin\",\"ethereum\",\"tether\",\"ripple\",\"bitcoin-cash\",\"binancecoin\",\"chainlink\",\"cardano\",\"litecoin\",\"bitcoin-cash-sv\",\"crypto-com-chain\",\"usd-coin\",\"eos\",\"monero\",\"tron\",\"tezos\",\"okb\",\"stellar\",\"cosmos\",\"cdai\",\"neo\",\"wrapped-bitcoin\",\"leo-token\",\"huobi-token\",\"nem\",\"binance-usd\",\"iota\",\"vechain\",\"zcash\",\"theta-token\",\"dash\",\"ethereum-classic\",\"ethlend\",\"maker\",\"havven\",\"omisego\",\"celsius-degree-token\",\"ontology\",\"ftx-token\",\"true-usd\",\"digibyte\"],\"value\":{\"__ndarray__\":\"nZ0MjpJX8T8MzXUaaanMP5mByvj3Gcu/wCZr1EM02L8ep+hILj8HQL0Yyol21QBAwhcmUwWjzr//CS5W1GBqP7JGPUSjO7C/QKTfvg6c7T8urYbEPZbjPzeJQWDl0Ma/1pC4x9KHwj87NgLxun7bP90HILWJk7M/JjYf14aK5b83iUFg5dAFwG3i5H6HIvC/5nlwd9Zu7r9i83FtqBjLP+iHEcKjjd8/M9yAzw+j8T/fGtgqweLAv+RmuAGfH9q/UdobfGEy678D7KNTVz67v8YzaOif4No/teBFX0Ga9D8G2Eenrnzjvx+duvJZPhLAoMN8eQH28L+cxCCwcmjdv667eapDDivAX5hMFYxK479EUaBP5EkQwAZkr3d/XBNA0JuKVBgbBEDqBDQRNrz1vxo09E9wseo/tI6qJoi6r79qMA3DR8QHQA==\",\"dtype\":\"float64\",\"order\":\"little\",\"shape\":[41]}},\"selected\":{\"id\":\"1048\"},\"selection_policy\":{\"id\":\"1062\"}},\"id\":\"1047\",\"type\":\"ColumnDataSource\"},{\"attributes\":{},\"id\":\"1169\",\"type\":\"Selection\"},{\"attributes\":{},\"id\":\"1022\",\"type\":\"CategoricalTicker\"},{\"attributes\":{\"line_color\":\"#fc4f30\",\"line_width\":2,\"x\":{\"field\":\"coin_id\"},\"y\":{\"field\":\"value\"}},\"id\":\"1089\",\"type\":\"Line\"},{\"attributes\":{\"coordinates\":null,\"group\":null,\"text_color\":\"black\",\"text_font_size\":\"12pt\"},\"id\":\"1013\",\"type\":\"Title\"},{\"attributes\":{\"data\":{\"Variable\":[\"price_change_percentage_14d\",\"price_change_percentage_14d\",\"price_change_percentage_14d\",\"price_change_percentage_14d\",\"price_change_percentage_14d\",\"price_change_percentage_14d\",\"price_change_percentage_14d\",\"price_change_percentage_14d\",\"price_change_percentage_14d\",\"price_change_percentage_14d\",\"price_change_percentage_14d\",\"price_change_percentage_14d\",\"price_change_percentage_14d\",\"price_change_percentage_14d\",\"price_change_percentage_14d\",\"price_change_percentage_14d\",\"price_change_percentage_14d\",\"price_change_percentage_14d\",\"price_change_percentage_14d\",\"price_change_percentage_14d\",\"price_change_percentage_14d\",\"price_change_percentage_14d\",\"price_change_percentage_14d\",\"price_change_percentage_14d\",\"price_change_percentage_14d\",\"price_change_percentage_14d\",\"price_change_percentage_14d\",\"price_change_percentage_14d\",\"price_change_percentage_14d\",\"price_change_percentage_14d\",\"price_change_percentage_14d\",\"price_change_percentage_14d\",\"price_change_percentage_14d\",\"price_change_percentage_14d\",\"price_change_percentage_14d\",\"price_change_percentage_14d\",\"price_change_percentage_14d\",\"price_change_percentage_14d\",\"price_change_percentage_14d\",\"price_change_percentage_14d\",\"price_change_percentage_14d\"],\"coin_id\":[\"bitcoin\",\"ethereum\",\"tether\",\"ripple\",\"bitcoin-cash\",\"binancecoin\",\"chainlink\",\"cardano\",\"litecoin\",\"bitcoin-cash-sv\",\"crypto-com-chain\",\"usd-coin\",\"eos\",\"monero\",\"tron\",\"tezos\",\"okb\",\"stellar\",\"cosmos\",\"cdai\",\"neo\",\"wrapped-bitcoin\",\"leo-token\",\"huobi-token\",\"nem\",\"binance-usd\",\"iota\",\"vechain\",\"zcash\",\"theta-token\",\"dash\",\"ethereum-classic\",\"ethlend\",\"maker\",\"havven\",\"omisego\",\"celsius-degree-token\",\"ontology\",\"ftx-token\",\"true-usd\",\"digibyte\"],\"value\":{\"__ndarray__\":\"zQaZZORMGkB5knTN5DsTQC1DHOviNno/ctwpHaz/AUCLic3HtYEtQJgvL8A+OhtACoDxDBqaIkAOhGQBEzgWQICfceFAKB1AIVnABG7d/b8xsfm4NhQhwGtI3GPpQ3e/pfeNrz0z8j8ao3VUNWkyQBUA4xk0dPY/VIzzN6GQAkCXrfVFQhsUwKpla32RUPG/Qgkzbf8KFkDPg7uzdtvFP8MN+PwwsiPAYFlpUgo6GkB3+GuyRh0cwM2v5gDBHN0/jliLTwEwBUDWrZ6T3jeuP7pOIy2VNw7Am1Wfq60oMsAJM23/yioXQJfK2xFOSxrAQE0tW+uL4D9OucK7XET0v0SLbOf7mSPA/pqsUQ/R978vaYzWUZUqwDtT6LzGbirAvodLjjs9OEByUMJM2x8lwJ30vvG1Z8q/ZCMQr+sXvD+7D0BqE0cdwA==\",\"dtype\":\"float64\",\"order\":\"little\",\"shape\":[41]}},\"selected\":{\"id\":\"1091\"},\"selection_policy\":{\"id\":\"1109\"}},\"id\":\"1090\",\"type\":\"ColumnDataSource\"},{\"attributes\":{\"line_alpha\":0.1,\"line_color\":\"#30a2da\",\"line_width\":2,\"x\":{\"field\":\"coin_id\"},\"y\":{\"field\":\"value\"}},\"id\":\"1051\",\"type\":\"Line\"},{\"attributes\":{\"axis\":{\"id\":\"1021\"},\"coordinates\":null,\"grid_line_color\":null,\"group\":null,\"ticker\":null},\"id\":\"1023\",\"type\":\"Grid\"},{\"attributes\":{\"axis_label\":\"coin_id\",\"coordinates\":null,\"formatter\":{\"id\":\"1042\"},\"group\":null,\"major_label_orientation\":1.5707963267948966,\"major_label_policy\":{\"id\":\"1043\"},\"ticker\":{\"id\":\"1022\"}},\"id\":\"1021\",\"type\":\"CategoricalAxis\"}],\"root_ids\":[\"1002\"]},\"title\":\"Bokeh Application\",\"version\":\"2.4.3\"}};\n",
       "    var render_items = [{\"docid\":\"c5589b96-3bc5-4e8d-afc3-6c8591de302d\",\"root_ids\":[\"1002\"],\"roots\":{\"1002\":\"e91d2e7e-740b-4c93-8f6e-8473e8e77faf\"}}];\n",
       "    root.Bokeh.embed.embed_items_notebook(docs_json, render_items);\n",
       "    for (const render_item of render_items) {\n",
       "      for (const root_id of render_item.root_ids) {\n",
       "\tconst id_el = document.getElementById(root_id)\n",
       "\tif (id_el.children.length && (id_el.children[0].className === 'bk-root')) {\n",
       "\t  const root_el = id_el.children[0]\n",
       "\t  root_el.id = root_el.id + '-rendered'\n",
       "\t}\n",
       "      }\n",
       "    }\n",
       "  }\n",
       "  if (root.Bokeh !== undefined && root.Bokeh.Panel !== undefined) {\n",
       "    embed_document(root);\n",
       "  } else {\n",
       "    var attempts = 0;\n",
       "    var timer = setInterval(function(root) {\n",
       "      if (root.Bokeh !== undefined && root.Bokeh.Panel !== undefined) {\n",
       "        clearInterval(timer);\n",
       "        embed_document(root);\n",
       "      } else if (document.readyState == \"complete\") {\n",
       "        attempts++;\n",
       "        if (attempts > 200) {\n",
       "          clearInterval(timer);\n",
       "          console.log(\"Bokeh: ERROR: Unable to run BokehJS code because BokehJS library is missing\");\n",
       "        }\n",
       "      }\n",
       "    }, 25, root)\n",
       "  }\n",
       "})(window);</script>"
      ],
      "text/plain": [
       ":NdOverlay   [Variable]\n",
       "   :Curve   [coin_id]   (value)"
      ]
     },
     "execution_count": 4,
     "metadata": {
      "application/vnd.holoviews_exec.v0+json": {
       "id": "1002"
      }
     },
     "output_type": "execute_result"
    }
   ],
   "source": [
    "# Plot your data to see what's in your DataFrame\n",
    "df_market_data.hvplot.line(\n",
    "    width=800,\n",
    "    height=400,\n",
    "    rot=90\n",
    ")"
   ]
  },
  {
   "cell_type": "markdown",
   "metadata": {},
   "source": [
    "---"
   ]
  },
  {
   "cell_type": "markdown",
   "metadata": {},
   "source": [
    "### Prepare the Data"
   ]
  },
  {
   "cell_type": "code",
   "execution_count": 38,
   "metadata": {},
   "outputs": [],
   "source": [
    "# Use the `StandardScaler()` module from scikit-learn to normalize the data from the CSV file\n",
    "scaler = StandardScaler()"
   ]
  },
  {
   "cell_type": "code",
   "execution_count": 39,
   "metadata": {},
   "outputs": [],
   "source": [
    "# Create a DataFrame with the scaled data\n",
    "# Copy the crypto names from the original data\n",
    "# Set the coinid column as index\n",
    "df_market_data_scaled = pd.DataFrame(scaler.fit_transform(df_market_data), columns=df_market_data.columns, index=df_market_data.index)"
   ]
  },
  {
   "cell_type": "code",
   "execution_count": 40,
   "metadata": {},
   "outputs": [
    {
     "data": {
      "text/html": [
       "<div>\n",
       "<style scoped>\n",
       "    .dataframe tbody tr th:only-of-type {\n",
       "        vertical-align: middle;\n",
       "    }\n",
       "\n",
       "    .dataframe tbody tr th {\n",
       "        vertical-align: top;\n",
       "    }\n",
       "\n",
       "    .dataframe thead th {\n",
       "        text-align: right;\n",
       "    }\n",
       "</style>\n",
       "<table border=\"1\" class=\"dataframe\">\n",
       "  <thead>\n",
       "    <tr style=\"text-align: right;\">\n",
       "      <th></th>\n",
       "      <th>price_change_percentage_24h</th>\n",
       "      <th>price_change_percentage_7d</th>\n",
       "      <th>price_change_percentage_14d</th>\n",
       "      <th>price_change_percentage_30d</th>\n",
       "      <th>price_change_percentage_60d</th>\n",
       "      <th>price_change_percentage_200d</th>\n",
       "      <th>price_change_percentage_1y</th>\n",
       "    </tr>\n",
       "    <tr>\n",
       "      <th>coin_id</th>\n",
       "      <th></th>\n",
       "      <th></th>\n",
       "      <th></th>\n",
       "      <th></th>\n",
       "      <th></th>\n",
       "      <th></th>\n",
       "      <th></th>\n",
       "    </tr>\n",
       "  </thead>\n",
       "  <tbody>\n",
       "    <tr>\n",
       "      <th>bitcoin</th>\n",
       "      <td>0.508529</td>\n",
       "      <td>0.493193</td>\n",
       "      <td>0.772200</td>\n",
       "      <td>0.235460</td>\n",
       "      <td>-0.067495</td>\n",
       "      <td>-0.355953</td>\n",
       "      <td>-0.251637</td>\n",
       "    </tr>\n",
       "    <tr>\n",
       "      <th>ethereum</th>\n",
       "      <td>0.185446</td>\n",
       "      <td>0.934445</td>\n",
       "      <td>0.558692</td>\n",
       "      <td>-0.054341</td>\n",
       "      <td>-0.273483</td>\n",
       "      <td>-0.115759</td>\n",
       "      <td>-0.199352</td>\n",
       "    </tr>\n",
       "    <tr>\n",
       "      <th>tether</th>\n",
       "      <td>0.021774</td>\n",
       "      <td>-0.706337</td>\n",
       "      <td>-0.021680</td>\n",
       "      <td>-0.061030</td>\n",
       "      <td>0.008005</td>\n",
       "      <td>-0.550247</td>\n",
       "      <td>-0.282061</td>\n",
       "    </tr>\n",
       "    <tr>\n",
       "      <th>ripple</th>\n",
       "      <td>-0.040764</td>\n",
       "      <td>-0.810928</td>\n",
       "      <td>0.249458</td>\n",
       "      <td>-0.050388</td>\n",
       "      <td>-0.373164</td>\n",
       "      <td>-0.458259</td>\n",
       "      <td>-0.295546</td>\n",
       "    </tr>\n",
       "    <tr>\n",
       "      <th>bitcoin-cash</th>\n",
       "      <td>1.193036</td>\n",
       "      <td>2.000959</td>\n",
       "      <td>1.760610</td>\n",
       "      <td>0.545842</td>\n",
       "      <td>-0.291203</td>\n",
       "      <td>-0.499848</td>\n",
       "      <td>-0.270317</td>\n",
       "    </tr>\n",
       "  </tbody>\n",
       "</table>\n",
       "</div>"
      ],
      "text/plain": [
       "              price_change_percentage_24h  price_change_percentage_7d  \\\n",
       "coin_id                                                                 \n",
       "bitcoin                          0.508529                    0.493193   \n",
       "ethereum                         0.185446                    0.934445   \n",
       "tether                           0.021774                   -0.706337   \n",
       "ripple                          -0.040764                   -0.810928   \n",
       "bitcoin-cash                     1.193036                    2.000959   \n",
       "\n",
       "              price_change_percentage_14d  price_change_percentage_30d  \\\n",
       "coin_id                                                                  \n",
       "bitcoin                          0.772200                     0.235460   \n",
       "ethereum                         0.558692                    -0.054341   \n",
       "tether                          -0.021680                    -0.061030   \n",
       "ripple                           0.249458                    -0.050388   \n",
       "bitcoin-cash                     1.760610                     0.545842   \n",
       "\n",
       "              price_change_percentage_60d  price_change_percentage_200d  \\\n",
       "coin_id                                                                   \n",
       "bitcoin                         -0.067495                     -0.355953   \n",
       "ethereum                        -0.273483                     -0.115759   \n",
       "tether                           0.008005                     -0.550247   \n",
       "ripple                          -0.373164                     -0.458259   \n",
       "bitcoin-cash                    -0.291203                     -0.499848   \n",
       "\n",
       "              price_change_percentage_1y  \n",
       "coin_id                                   \n",
       "bitcoin                        -0.251637  \n",
       "ethereum                       -0.199352  \n",
       "tether                         -0.282061  \n",
       "ripple                         -0.295546  \n",
       "bitcoin-cash                   -0.270317  "
      ]
     },
     "execution_count": 40,
     "metadata": {},
     "output_type": "execute_result"
    }
   ],
   "source": [
    "# Displaying First Five rows of scaled DataFrame\n",
    "df_market_data_scaled.head()"
   ]
  },
  {
   "cell_type": "markdown",
   "metadata": {},
   "source": [
    "---"
   ]
  },
  {
   "cell_type": "markdown",
   "metadata": {},
   "source": [
    "### Find the Best Value for k Using the Original Data."
   ]
  },
  {
   "cell_type": "code",
   "execution_count": 41,
   "metadata": {},
   "outputs": [],
   "source": [
    "# Create a list with the number of k-values from 1 to 11\n",
    "klist = [1,2,3,4,5,6,7,8,9,10,11]"
   ]
  },
  {
   "cell_type": "code",
   "execution_count": 9,
   "metadata": {},
   "outputs": [
    {
     "name": "stderr",
     "output_type": "stream",
     "text": [
      "/Users/kathia/anaconda3/lib/python3.10/site-packages/sklearn/cluster/_kmeans.py:870: FutureWarning: The default value of `n_init` will change from 10 to 'auto' in 1.4. Set the value of `n_init` explicitly to suppress the warning\n",
      "  warnings.warn(\n",
      "/Users/kathia/anaconda3/lib/python3.10/site-packages/sklearn/cluster/_kmeans.py:870: FutureWarning: The default value of `n_init` will change from 10 to 'auto' in 1.4. Set the value of `n_init` explicitly to suppress the warning\n",
      "  warnings.warn(\n",
      "/Users/kathia/anaconda3/lib/python3.10/site-packages/sklearn/cluster/_kmeans.py:870: FutureWarning: The default value of `n_init` will change from 10 to 'auto' in 1.4. Set the value of `n_init` explicitly to suppress the warning\n",
      "  warnings.warn(\n",
      "/Users/kathia/anaconda3/lib/python3.10/site-packages/sklearn/cluster/_kmeans.py:870: FutureWarning: The default value of `n_init` will change from 10 to 'auto' in 1.4. Set the value of `n_init` explicitly to suppress the warning\n",
      "  warnings.warn(\n",
      "/Users/kathia/anaconda3/lib/python3.10/site-packages/sklearn/cluster/_kmeans.py:870: FutureWarning: The default value of `n_init` will change from 10 to 'auto' in 1.4. Set the value of `n_init` explicitly to suppress the warning\n",
      "  warnings.warn(\n",
      "/Users/kathia/anaconda3/lib/python3.10/site-packages/sklearn/cluster/_kmeans.py:870: FutureWarning: The default value of `n_init` will change from 10 to 'auto' in 1.4. Set the value of `n_init` explicitly to suppress the warning\n",
      "  warnings.warn(\n",
      "/Users/kathia/anaconda3/lib/python3.10/site-packages/sklearn/cluster/_kmeans.py:870: FutureWarning: The default value of `n_init` will change from 10 to 'auto' in 1.4. Set the value of `n_init` explicitly to suppress the warning\n",
      "  warnings.warn(\n",
      "/Users/kathia/anaconda3/lib/python3.10/site-packages/sklearn/cluster/_kmeans.py:870: FutureWarning: The default value of `n_init` will change from 10 to 'auto' in 1.4. Set the value of `n_init` explicitly to suppress the warning\n",
      "  warnings.warn(\n",
      "/Users/kathia/anaconda3/lib/python3.10/site-packages/sklearn/cluster/_kmeans.py:870: FutureWarning: The default value of `n_init` will change from 10 to 'auto' in 1.4. Set the value of `n_init` explicitly to suppress the warning\n",
      "  warnings.warn(\n",
      "/Users/kathia/anaconda3/lib/python3.10/site-packages/sklearn/cluster/_kmeans.py:870: FutureWarning: The default value of `n_init` will change from 10 to 'auto' in 1.4. Set the value of `n_init` explicitly to suppress the warning\n",
      "  warnings.warn(\n",
      "/Users/kathia/anaconda3/lib/python3.10/site-packages/sklearn/cluster/_kmeans.py:870: FutureWarning: The default value of `n_init` will change from 10 to 'auto' in 1.4. Set the value of `n_init` explicitly to suppress the warning\n",
      "  warnings.warn(\n"
     ]
    }
   ],
   "source": [
    "# Create an empty list to store the inertia values\n",
    "inertia_values = []\n",
    "\n",
    "# Create a for loop to compute the inertia with each possible value of k\n",
    "for k in klist:  # Adjust the range as needed\n",
    "    # 1. Create a KMeans model using the loop counter for the n_clusters\n",
    "    kmeans = KMeans(n_clusters=k, random_state=0)\n",
    "    \n",
    "    # 2. Fit the model to the data using `df_market_data_scaled`\n",
    "    kmeans.fit(df_market_data_scaled)  \n",
    "    \n",
    "    # 3. Append the model.inertia_ to the inertia list\n",
    "    inertia_values.append(kmeans.inertia_)"
   ]
  },
  {
   "cell_type": "code",
   "execution_count": 43,
   "metadata": {},
   "outputs": [
    {
     "data": {
      "text/plain": [
       "11"
      ]
     },
     "execution_count": 43,
     "metadata": {},
     "output_type": "execute_result"
    }
   ],
   "source": [
    "len(inertia_values)"
   ]
  },
  {
   "cell_type": "code",
   "execution_count": 42,
   "metadata": {},
   "outputs": [
    {
     "data": {
      "text/plain": [
       "[287.0,\n",
       " 195.82021818036046,\n",
       " 123.19048183836958,\n",
       " 79.02243535120975,\n",
       " 65.302379141625,\n",
       " 52.88851821977531,\n",
       " 43.91469044757746,\n",
       " 37.517032490103574,\n",
       " 32.485240832183536,\n",
       " 28.222899290608925,\n",
       " 24.545512769147678]"
      ]
     },
     "execution_count": 42,
     "metadata": {},
     "output_type": "execute_result"
    }
   ],
   "source": [
    "inertia_values"
   ]
  },
  {
   "cell_type": "code",
   "execution_count": 12,
   "metadata": {},
   "outputs": [
    {
     "data": {},
     "metadata": {},
     "output_type": "display_data"
    },
    {
     "data": {
      "application/vnd.holoviews_exec.v0+json": "",
      "text/html": [
       "<div id='1367'>\n",
       "  <div class=\"bk-root\" id=\"aeb4c910-ee04-471b-9e3a-241ba5dd3b41\" data-root-id=\"1367\"></div>\n",
       "</div>\n",
       "<script type=\"application/javascript\">(function(root) {\n",
       "  function embed_document(root) {\n",
       "    var docs_json = {\"e38fb3d6-afb5-4593-8364-550ee6277a5e\":{\"defs\":[{\"extends\":null,\"module\":null,\"name\":\"ReactiveHTML1\",\"overrides\":[],\"properties\":[]},{\"extends\":null,\"module\":null,\"name\":\"FlexBox1\",\"overrides\":[],\"properties\":[{\"default\":\"flex-start\",\"kind\":null,\"name\":\"align_content\"},{\"default\":\"flex-start\",\"kind\":null,\"name\":\"align_items\"},{\"default\":\"row\",\"kind\":null,\"name\":\"flex_direction\"},{\"default\":\"wrap\",\"kind\":null,\"name\":\"flex_wrap\"},{\"default\":\"flex-start\",\"kind\":null,\"name\":\"justify_content\"}]},{\"extends\":null,\"module\":null,\"name\":\"GridStack1\",\"overrides\":[],\"properties\":[{\"default\":\"warn\",\"kind\":null,\"name\":\"mode\"},{\"default\":null,\"kind\":null,\"name\":\"ncols\"},{\"default\":null,\"kind\":null,\"name\":\"nrows\"},{\"default\":true,\"kind\":null,\"name\":\"allow_resize\"},{\"default\":true,\"kind\":null,\"name\":\"allow_drag\"},{\"default\":[],\"kind\":null,\"name\":\"state\"}]},{\"extends\":null,\"module\":null,\"name\":\"click1\",\"overrides\":[],\"properties\":[{\"default\":\"\",\"kind\":null,\"name\":\"terminal_output\"},{\"default\":\"\",\"kind\":null,\"name\":\"debug_name\"},{\"default\":0,\"kind\":null,\"name\":\"clears\"}]},{\"extends\":null,\"module\":null,\"name\":\"NotificationAreaBase1\",\"overrides\":[],\"properties\":[{\"default\":\"bottom-right\",\"kind\":null,\"name\":\"position\"},{\"default\":0,\"kind\":null,\"name\":\"_clear\"}]},{\"extends\":null,\"module\":null,\"name\":\"NotificationArea1\",\"overrides\":[],\"properties\":[{\"default\":[],\"kind\":null,\"name\":\"notifications\"},{\"default\":\"bottom-right\",\"kind\":null,\"name\":\"position\"},{\"default\":0,\"kind\":null,\"name\":\"_clear\"},{\"default\":[{\"background\":\"#ffc107\",\"icon\":{\"className\":\"fas fa-exclamation-triangle\",\"color\":\"white\",\"tagName\":\"i\"},\"type\":\"warning\"},{\"background\":\"#007bff\",\"icon\":{\"className\":\"fas fa-info-circle\",\"color\":\"white\",\"tagName\":\"i\"},\"type\":\"info\"}],\"kind\":null,\"name\":\"types\"}]},{\"extends\":null,\"module\":null,\"name\":\"Notification\",\"overrides\":[],\"properties\":[{\"default\":null,\"kind\":null,\"name\":\"background\"},{\"default\":3000,\"kind\":null,\"name\":\"duration\"},{\"default\":null,\"kind\":null,\"name\":\"icon\"},{\"default\":\"\",\"kind\":null,\"name\":\"message\"},{\"default\":null,\"kind\":null,\"name\":\"notification_type\"},{\"default\":false,\"kind\":null,\"name\":\"_destroyed\"}]},{\"extends\":null,\"module\":null,\"name\":\"TemplateActions1\",\"overrides\":[],\"properties\":[{\"default\":0,\"kind\":null,\"name\":\"open_modal\"},{\"default\":0,\"kind\":null,\"name\":\"close_modal\"}]},{\"extends\":null,\"module\":null,\"name\":\"MaterialTemplateActions1\",\"overrides\":[],\"properties\":[{\"default\":0,\"kind\":null,\"name\":\"open_modal\"},{\"default\":0,\"kind\":null,\"name\":\"close_modal\"}]}],\"roots\":{\"references\":[{\"attributes\":{\"line_color\":\"#30a2da\",\"line_width\":2,\"x\":{\"field\":\"Number of Clusters (k)\"},\"y\":{\"field\":\"Inertia\"}},\"id\":\"1409\",\"type\":\"Line\"},{\"attributes\":{},\"id\":\"1376\",\"type\":\"LinearScale\"},{\"attributes\":{},\"id\":\"1392\",\"type\":\"ResetTool\"},{\"attributes\":{\"end\":11.0,\"reset_end\":11.0,\"reset_start\":1.0,\"start\":1.0,\"tags\":[[[\"Number of Clusters (k)\",\"Number of Clusters (k)\",null]]]},\"id\":\"1368\",\"type\":\"Range1d\"},{\"attributes\":{\"line_alpha\":0.2,\"line_color\":\"#30a2da\",\"line_width\":2,\"x\":{\"field\":\"Number of Clusters (k)\"},\"y\":{\"field\":\"Inertia\"}},\"id\":\"1406\",\"type\":\"Line\"},{\"attributes\":{\"coordinates\":null,\"data_source\":{\"id\":\"1401\"},\"glyph\":{\"id\":\"1404\"},\"group\":null,\"hover_glyph\":null,\"muted_glyph\":{\"id\":\"1406\"},\"nonselection_glyph\":{\"id\":\"1405\"},\"selection_glyph\":{\"id\":\"1409\"},\"view\":{\"id\":\"1408\"}},\"id\":\"1407\",\"type\":\"GlyphRenderer\"},{\"attributes\":{},\"id\":\"1411\",\"type\":\"BasicTickFormatter\"},{\"attributes\":{\"line_color\":\"#30a2da\",\"line_width\":2,\"x\":{\"field\":\"Number of Clusters (k)\"},\"y\":{\"field\":\"Inertia\"}},\"id\":\"1404\",\"type\":\"Line\"},{\"attributes\":{\"callback\":null,\"renderers\":[{\"id\":\"1407\"}],\"tags\":[\"hv_created\"],\"tooltips\":[[\"Number of Clusters (k)\",\"@{Number_of_Clusters_left_parenthesis_k_right_parenthesis}\"],[\"Inertia\",\"@{Inertia}\"]]},\"id\":\"1370\",\"type\":\"HoverTool\"},{\"attributes\":{\"source\":{\"id\":\"1401\"}},\"id\":\"1408\",\"type\":\"CDSView\"},{\"attributes\":{\"axis\":{\"id\":\"1380\"},\"coordinates\":null,\"grid_line_color\":null,\"group\":null,\"ticker\":null},\"id\":\"1383\",\"type\":\"Grid\"},{\"attributes\":{\"coordinates\":null,\"group\":null,\"text\":\"Elbow Curve\",\"text_color\":\"black\",\"text_font_size\":\"12pt\"},\"id\":\"1372\",\"type\":\"Title\"},{\"attributes\":{},\"id\":\"1390\",\"type\":\"WheelZoomTool\"},{\"attributes\":{},\"id\":\"1378\",\"type\":\"LinearScale\"},{\"attributes\":{\"axis_label\":\"Number of Clusters (k)\",\"coordinates\":null,\"formatter\":{\"id\":\"1411\"},\"group\":null,\"major_label_policy\":{\"id\":\"1412\"},\"ticker\":{\"id\":\"1381\"}},\"id\":\"1380\",\"type\":\"LinearAxis\"},{\"attributes\":{},\"id\":\"1381\",\"type\":\"BasicTicker\"},{\"attributes\":{\"bottom_units\":\"screen\",\"coordinates\":null,\"fill_alpha\":0.5,\"fill_color\":\"lightgrey\",\"group\":null,\"left_units\":\"screen\",\"level\":\"overlay\",\"line_alpha\":1.0,\"line_color\":\"black\",\"line_dash\":[4,4],\"line_width\":2,\"right_units\":\"screen\",\"syncable\":false,\"top_units\":\"screen\"},\"id\":\"1393\",\"type\":\"BoxAnnotation\"},{\"attributes\":{},\"id\":\"1385\",\"type\":\"BasicTicker\"},{\"attributes\":{\"data\":{\"Inertia\":{\"__ndarray__\":\"AAAAAADwcUBzhzI6P3poQOCRvNowzF5AF+6ulG/BU0BnEQsuWlNQQOTqC/e6cUpAhyebkxT1RUBu++EeLsJCQMB0IF8cPkBAiXeL7Q85PEAoCo+5pos4QA==\",\"dtype\":\"float64\",\"order\":\"little\",\"shape\":[11]},\"Number of Clusters (k)\":[1,2,3,4,5,6,7,8,9,10,11],\"Number_of_Clusters_left_parenthesis_k_right_parenthesis\":[1,2,3,4,5,6,7,8,9,10,11]},\"selected\":{\"id\":\"1402\"},\"selection_policy\":{\"id\":\"1427\"}},\"id\":\"1401\",\"type\":\"ColumnDataSource\"},{\"attributes\":{\"axis\":{\"id\":\"1384\"},\"coordinates\":null,\"dimension\":1,\"grid_line_color\":null,\"group\":null,\"ticker\":null},\"id\":\"1387\",\"type\":\"Grid\"},{\"attributes\":{\"line_alpha\":0.1,\"line_color\":\"#30a2da\",\"line_width\":2,\"x\":{\"field\":\"Number of Clusters (k)\"},\"y\":{\"field\":\"Inertia\"}},\"id\":\"1405\",\"type\":\"Line\"},{\"attributes\":{},\"id\":\"1412\",\"type\":\"AllLabels\"},{\"attributes\":{},\"id\":\"1402\",\"type\":\"Selection\"},{\"attributes\":{\"axis_label\":\"Inertia\",\"coordinates\":null,\"formatter\":{\"id\":\"1414\"},\"group\":null,\"major_label_policy\":{\"id\":\"1415\"},\"ticker\":{\"id\":\"1385\"}},\"id\":\"1384\",\"type\":\"LinearAxis\"},{\"attributes\":{\"end\":313.24544872308525,\"reset_end\":313.24544872308525,\"reset_start\":-1.6999359539375583,\"start\":-1.6999359539375583,\"tags\":[[[\"Inertia\",\"Inertia\",null]]]},\"id\":\"1369\",\"type\":\"Range1d\"},{\"attributes\":{},\"id\":\"1415\",\"type\":\"AllLabels\"},{\"attributes\":{\"active_drag\":{\"id\":\"1389\"},\"active_scroll\":{\"id\":\"1390\"},\"tools\":[{\"id\":\"1370\"},{\"id\":\"1388\"},{\"id\":\"1389\"},{\"id\":\"1390\"},{\"id\":\"1391\"},{\"id\":\"1392\"}]},\"id\":\"1394\",\"type\":\"Toolbar\"},{\"attributes\":{},\"id\":\"1388\",\"type\":\"SaveTool\"},{\"attributes\":{\"children\":[{\"id\":\"1371\"}],\"height\":300,\"margin\":[0,0,0,0],\"name\":\"Row01252\",\"sizing_mode\":\"fixed\",\"tags\":[\"embedded\"],\"width\":700},\"id\":\"1367\",\"type\":\"Row\"},{\"attributes\":{},\"id\":\"1414\",\"type\":\"BasicTickFormatter\"},{\"attributes\":{\"overlay\":{\"id\":\"1393\"}},\"id\":\"1391\",\"type\":\"BoxZoomTool\"},{\"attributes\":{\"below\":[{\"id\":\"1380\"}],\"center\":[{\"id\":\"1383\"},{\"id\":\"1387\"}],\"height\":300,\"left\":[{\"id\":\"1384\"}],\"margin\":[5,5,5,5],\"min_border_bottom\":10,\"min_border_left\":10,\"min_border_right\":10,\"min_border_top\":10,\"renderers\":[{\"id\":\"1407\"}],\"sizing_mode\":\"fixed\",\"title\":{\"id\":\"1372\"},\"toolbar\":{\"id\":\"1394\"},\"width\":700,\"x_range\":{\"id\":\"1368\"},\"x_scale\":{\"id\":\"1376\"},\"y_range\":{\"id\":\"1369\"},\"y_scale\":{\"id\":\"1378\"}},\"id\":\"1371\",\"subtype\":\"Figure\",\"type\":\"Plot\"},{\"attributes\":{},\"id\":\"1389\",\"type\":\"PanTool\"},{\"attributes\":{},\"id\":\"1427\",\"type\":\"UnionRenderers\"}],\"root_ids\":[\"1367\"]},\"title\":\"Bokeh Application\",\"version\":\"2.4.3\"}};\n",
       "    var render_items = [{\"docid\":\"e38fb3d6-afb5-4593-8364-550ee6277a5e\",\"root_ids\":[\"1367\"],\"roots\":{\"1367\":\"aeb4c910-ee04-471b-9e3a-241ba5dd3b41\"}}];\n",
       "    root.Bokeh.embed.embed_items_notebook(docs_json, render_items);\n",
       "    for (const render_item of render_items) {\n",
       "      for (const root_id of render_item.root_ids) {\n",
       "\tconst id_el = document.getElementById(root_id)\n",
       "\tif (id_el.children.length && (id_el.children[0].className === 'bk-root')) {\n",
       "\t  const root_el = id_el.children[0]\n",
       "\t  root_el.id = root_el.id + '-rendered'\n",
       "\t}\n",
       "      }\n",
       "    }\n",
       "  }\n",
       "  if (root.Bokeh !== undefined && root.Bokeh.Panel !== undefined) {\n",
       "    embed_document(root);\n",
       "  } else {\n",
       "    var attempts = 0;\n",
       "    var timer = setInterval(function(root) {\n",
       "      if (root.Bokeh !== undefined && root.Bokeh.Panel !== undefined) {\n",
       "        clearInterval(timer);\n",
       "        embed_document(root);\n",
       "      } else if (document.readyState == \"complete\") {\n",
       "        attempts++;\n",
       "        if (attempts > 200) {\n",
       "          clearInterval(timer);\n",
       "          console.log(\"Bokeh: ERROR: Unable to run BokehJS code because BokehJS library is missing\");\n",
       "        }\n",
       "      }\n",
       "    }, 25, root)\n",
       "  }\n",
       "})(window);</script>"
      ],
      "text/plain": [
       ":Curve   [Number of Clusters (k)]   (Inertia)"
      ]
     },
     "execution_count": 12,
     "metadata": {
      "application/vnd.holoviews_exec.v0+json": {
       "id": "1367"
      }
     },
     "output_type": "execute_result"
    }
   ],
   "source": [
    "import holoviews as hv\n",
    "\n",
    "# Create a dictionary with the data for the Elbow curve\n",
    "elbow_data = {\n",
    "    'Number of Clusters (k)': range(1, len(inertia_values) + 1),\n",
    "    'Inertia': inertia_values\n",
    "}\n",
    "\n",
    "# Create a DataFrame with the data for the Elbow curve\n",
    "elbow_df = pd.DataFrame(elbow_data)\n",
    "\n",
    "# Plot a line chart with all the inertia values computed with \n",
    "elbow_curve = elbow_df.hvplot.line(x='Number of Clusters (k)', y='Inertia', title='Elbow Curve')\n",
    "\n",
    "# the different values of k to visually identify the optimal value for k.\n",
    "elbow_curve"
   ]
  },
  {
   "cell_type": "code",
   "execution_count": null,
   "metadata": {},
   "outputs": [],
   "source": [
    "\n"
   ]
  },
  {
   "cell_type": "markdown",
   "metadata": {},
   "source": [
    "#### Answer the following question: \n",
    "\n",
    "**Question:** What is the best value for `k`?\n",
    "\n",
    "**Answer:** 4"
   ]
  },
  {
   "cell_type": "markdown",
   "metadata": {},
   "source": [
    "---"
   ]
  },
  {
   "cell_type": "markdown",
   "metadata": {},
   "source": [
    "### Cluster Cryptocurrencies with K-means Using the Original Data"
   ]
  },
  {
   "cell_type": "code",
   "execution_count": 46,
   "metadata": {},
   "outputs": [],
   "source": [
    "# Initialize the K-Means model using the best value for k\n",
    "kmeans_model = KMeans(n_clusters=4, random_state=0)"
   ]
  },
  {
   "cell_type": "code",
   "execution_count": 47,
   "metadata": {},
   "outputs": [
    {
     "name": "stderr",
     "output_type": "stream",
     "text": [
      "/Users/kathia/anaconda3/lib/python3.10/site-packages/sklearn/cluster/_kmeans.py:870: FutureWarning: The default value of `n_init` will change from 10 to 'auto' in 1.4. Set the value of `n_init` explicitly to suppress the warning\n",
      "  warnings.warn(\n"
     ]
    },
    {
     "data": {
      "text/html": [
       "<style>#sk-container-id-2 {color: black;background-color: white;}#sk-container-id-2 pre{padding: 0;}#sk-container-id-2 div.sk-toggleable {background-color: white;}#sk-container-id-2 label.sk-toggleable__label {cursor: pointer;display: block;width: 100%;margin-bottom: 0;padding: 0.3em;box-sizing: border-box;text-align: center;}#sk-container-id-2 label.sk-toggleable__label-arrow:before {content: \"▸\";float: left;margin-right: 0.25em;color: #696969;}#sk-container-id-2 label.sk-toggleable__label-arrow:hover:before {color: black;}#sk-container-id-2 div.sk-estimator:hover label.sk-toggleable__label-arrow:before {color: black;}#sk-container-id-2 div.sk-toggleable__content {max-height: 0;max-width: 0;overflow: hidden;text-align: left;background-color: #f0f8ff;}#sk-container-id-2 div.sk-toggleable__content pre {margin: 0.2em;color: black;border-radius: 0.25em;background-color: #f0f8ff;}#sk-container-id-2 input.sk-toggleable__control:checked~div.sk-toggleable__content {max-height: 200px;max-width: 100%;overflow: auto;}#sk-container-id-2 input.sk-toggleable__control:checked~label.sk-toggleable__label-arrow:before {content: \"▾\";}#sk-container-id-2 div.sk-estimator input.sk-toggleable__control:checked~label.sk-toggleable__label {background-color: #d4ebff;}#sk-container-id-2 div.sk-label input.sk-toggleable__control:checked~label.sk-toggleable__label {background-color: #d4ebff;}#sk-container-id-2 input.sk-hidden--visually {border: 0;clip: rect(1px 1px 1px 1px);clip: rect(1px, 1px, 1px, 1px);height: 1px;margin: -1px;overflow: hidden;padding: 0;position: absolute;width: 1px;}#sk-container-id-2 div.sk-estimator {font-family: monospace;background-color: #f0f8ff;border: 1px dotted black;border-radius: 0.25em;box-sizing: border-box;margin-bottom: 0.5em;}#sk-container-id-2 div.sk-estimator:hover {background-color: #d4ebff;}#sk-container-id-2 div.sk-parallel-item::after {content: \"\";width: 100%;border-bottom: 1px solid gray;flex-grow: 1;}#sk-container-id-2 div.sk-label:hover label.sk-toggleable__label {background-color: #d4ebff;}#sk-container-id-2 div.sk-serial::before {content: \"\";position: absolute;border-left: 1px solid gray;box-sizing: border-box;top: 0;bottom: 0;left: 50%;z-index: 0;}#sk-container-id-2 div.sk-serial {display: flex;flex-direction: column;align-items: center;background-color: white;padding-right: 0.2em;padding-left: 0.2em;position: relative;}#sk-container-id-2 div.sk-item {position: relative;z-index: 1;}#sk-container-id-2 div.sk-parallel {display: flex;align-items: stretch;justify-content: center;background-color: white;position: relative;}#sk-container-id-2 div.sk-item::before, #sk-container-id-2 div.sk-parallel-item::before {content: \"\";position: absolute;border-left: 1px solid gray;box-sizing: border-box;top: 0;bottom: 0;left: 50%;z-index: -1;}#sk-container-id-2 div.sk-parallel-item {display: flex;flex-direction: column;z-index: 1;position: relative;background-color: white;}#sk-container-id-2 div.sk-parallel-item:first-child::after {align-self: flex-end;width: 50%;}#sk-container-id-2 div.sk-parallel-item:last-child::after {align-self: flex-start;width: 50%;}#sk-container-id-2 div.sk-parallel-item:only-child::after {width: 0;}#sk-container-id-2 div.sk-dashed-wrapped {border: 1px dashed gray;margin: 0 0.4em 0.5em 0.4em;box-sizing: border-box;padding-bottom: 0.4em;background-color: white;}#sk-container-id-2 div.sk-label label {font-family: monospace;font-weight: bold;display: inline-block;line-height: 1.2em;}#sk-container-id-2 div.sk-label-container {text-align: center;}#sk-container-id-2 div.sk-container {/* jupyter's `normalize.less` sets `[hidden] { display: none; }` but bootstrap.min.css set `[hidden] { display: none !important; }` so we also need the `!important` here to be able to override the default hidden behavior on the sphinx rendered scikit-learn.org. See: https://github.com/scikit-learn/scikit-learn/issues/21755 */display: inline-block !important;position: relative;}#sk-container-id-2 div.sk-text-repr-fallback {display: none;}</style><div id=\"sk-container-id-2\" class=\"sk-top-container\"><div class=\"sk-text-repr-fallback\"><pre>KMeans(n_clusters=4, random_state=0)</pre><b>In a Jupyter environment, please rerun this cell to show the HTML representation or trust the notebook. <br />On GitHub, the HTML representation is unable to render, please try loading this page with nbviewer.org.</b></div><div class=\"sk-container\" hidden><div class=\"sk-item\"><div class=\"sk-estimator sk-toggleable\"><input class=\"sk-toggleable__control sk-hidden--visually\" id=\"sk-estimator-id-2\" type=\"checkbox\" checked><label for=\"sk-estimator-id-2\" class=\"sk-toggleable__label sk-toggleable__label-arrow\">KMeans</label><div class=\"sk-toggleable__content\"><pre>KMeans(n_clusters=4, random_state=0)</pre></div></div></div></div></div>"
      ],
      "text/plain": [
       "KMeans(n_clusters=4, random_state=0)"
      ]
     },
     "execution_count": 47,
     "metadata": {},
     "output_type": "execute_result"
    }
   ],
   "source": [
    "# Fit the K-Means model using the scaled data\n",
    "kmeans_model.fit(df_market_data_scaled)"
   ]
  },
  {
   "cell_type": "code",
   "execution_count": 48,
   "metadata": {},
   "outputs": [
    {
     "data": {
      "text/plain": [
       "array([0, 0, 3, 3, 0, 0, 0, 0, 0, 3, 3, 3, 3, 0, 3, 0, 3, 3, 0, 3, 3, 0,\n",
       "       3, 3, 3, 3, 3, 3, 0, 3, 3, 3, 1, 0, 3, 3, 2, 3, 3, 3, 3],\n",
       "      dtype=int32)"
      ]
     },
     "execution_count": 48,
     "metadata": {},
     "output_type": "execute_result"
    }
   ],
   "source": [
    "# Predict the clusters to group the cryptocurrencies using the scaled data\n",
    "cluster_labels = kmeans_model.predict(df_market_data_scaled)\n",
    "\n",
    "# Print the resulting array of cluster values.\n",
    "cluster_labels"
   ]
  },
  {
   "cell_type": "code",
   "execution_count": 49,
   "metadata": {},
   "outputs": [],
   "source": [
    "# Create a copy of the DataFrame\n",
    "df_market_data_copy = df_market_data_scaled.copy()"
   ]
  },
  {
   "cell_type": "code",
   "execution_count": 50,
   "metadata": {},
   "outputs": [],
   "source": [
    "# Add a new column to the DataFrame with the predicted clusters\n",
    "df_market_data_copy['Cluster'] = cluster_labels"
   ]
  },
  {
   "cell_type": "code",
   "execution_count": 51,
   "metadata": {},
   "outputs": [
    {
     "data": {
      "text/html": [
       "<div>\n",
       "<style scoped>\n",
       "    .dataframe tbody tr th:only-of-type {\n",
       "        vertical-align: middle;\n",
       "    }\n",
       "\n",
       "    .dataframe tbody tr th {\n",
       "        vertical-align: top;\n",
       "    }\n",
       "\n",
       "    .dataframe thead th {\n",
       "        text-align: right;\n",
       "    }\n",
       "</style>\n",
       "<table border=\"1\" class=\"dataframe\">\n",
       "  <thead>\n",
       "    <tr style=\"text-align: right;\">\n",
       "      <th></th>\n",
       "      <th>price_change_percentage_24h</th>\n",
       "      <th>price_change_percentage_7d</th>\n",
       "      <th>price_change_percentage_14d</th>\n",
       "      <th>price_change_percentage_30d</th>\n",
       "      <th>price_change_percentage_60d</th>\n",
       "      <th>price_change_percentage_200d</th>\n",
       "      <th>price_change_percentage_1y</th>\n",
       "      <th>Cluster</th>\n",
       "    </tr>\n",
       "    <tr>\n",
       "      <th>coin_id</th>\n",
       "      <th></th>\n",
       "      <th></th>\n",
       "      <th></th>\n",
       "      <th></th>\n",
       "      <th></th>\n",
       "      <th></th>\n",
       "      <th></th>\n",
       "      <th></th>\n",
       "    </tr>\n",
       "  </thead>\n",
       "  <tbody>\n",
       "    <tr>\n",
       "      <th>bitcoin</th>\n",
       "      <td>0.508529</td>\n",
       "      <td>0.493193</td>\n",
       "      <td>0.772200</td>\n",
       "      <td>0.235460</td>\n",
       "      <td>-0.067495</td>\n",
       "      <td>-0.355953</td>\n",
       "      <td>-0.251637</td>\n",
       "      <td>0</td>\n",
       "    </tr>\n",
       "    <tr>\n",
       "      <th>ethereum</th>\n",
       "      <td>0.185446</td>\n",
       "      <td>0.934445</td>\n",
       "      <td>0.558692</td>\n",
       "      <td>-0.054341</td>\n",
       "      <td>-0.273483</td>\n",
       "      <td>-0.115759</td>\n",
       "      <td>-0.199352</td>\n",
       "      <td>0</td>\n",
       "    </tr>\n",
       "    <tr>\n",
       "      <th>tether</th>\n",
       "      <td>0.021774</td>\n",
       "      <td>-0.706337</td>\n",
       "      <td>-0.021680</td>\n",
       "      <td>-0.061030</td>\n",
       "      <td>0.008005</td>\n",
       "      <td>-0.550247</td>\n",
       "      <td>-0.282061</td>\n",
       "      <td>3</td>\n",
       "    </tr>\n",
       "    <tr>\n",
       "      <th>ripple</th>\n",
       "      <td>-0.040764</td>\n",
       "      <td>-0.810928</td>\n",
       "      <td>0.249458</td>\n",
       "      <td>-0.050388</td>\n",
       "      <td>-0.373164</td>\n",
       "      <td>-0.458259</td>\n",
       "      <td>-0.295546</td>\n",
       "      <td>3</td>\n",
       "    </tr>\n",
       "    <tr>\n",
       "      <th>bitcoin-cash</th>\n",
       "      <td>1.193036</td>\n",
       "      <td>2.000959</td>\n",
       "      <td>1.760610</td>\n",
       "      <td>0.545842</td>\n",
       "      <td>-0.291203</td>\n",
       "      <td>-0.499848</td>\n",
       "      <td>-0.270317</td>\n",
       "      <td>0</td>\n",
       "    </tr>\n",
       "  </tbody>\n",
       "</table>\n",
       "</div>"
      ],
      "text/plain": [
       "              price_change_percentage_24h  price_change_percentage_7d  \\\n",
       "coin_id                                                                 \n",
       "bitcoin                          0.508529                    0.493193   \n",
       "ethereum                         0.185446                    0.934445   \n",
       "tether                           0.021774                   -0.706337   \n",
       "ripple                          -0.040764                   -0.810928   \n",
       "bitcoin-cash                     1.193036                    2.000959   \n",
       "\n",
       "              price_change_percentage_14d  price_change_percentage_30d  \\\n",
       "coin_id                                                                  \n",
       "bitcoin                          0.772200                     0.235460   \n",
       "ethereum                         0.558692                    -0.054341   \n",
       "tether                          -0.021680                    -0.061030   \n",
       "ripple                           0.249458                    -0.050388   \n",
       "bitcoin-cash                     1.760610                     0.545842   \n",
       "\n",
       "              price_change_percentage_60d  price_change_percentage_200d  \\\n",
       "coin_id                                                                   \n",
       "bitcoin                         -0.067495                     -0.355953   \n",
       "ethereum                        -0.273483                     -0.115759   \n",
       "tether                           0.008005                     -0.550247   \n",
       "ripple                          -0.373164                     -0.458259   \n",
       "bitcoin-cash                    -0.291203                     -0.499848   \n",
       "\n",
       "              price_change_percentage_1y  Cluster  \n",
       "coin_id                                            \n",
       "bitcoin                        -0.251637        0  \n",
       "ethereum                       -0.199352        0  \n",
       "tether                         -0.282061        3  \n",
       "ripple                         -0.295546        3  \n",
       "bitcoin-cash                   -0.270317        0  "
      ]
     },
     "execution_count": 51,
     "metadata": {},
     "output_type": "execute_result"
    }
   ],
   "source": [
    "# Display sample data\n",
    "df_market_data_copy.head()"
   ]
  },
  {
   "cell_type": "code",
   "execution_count": 53,
   "metadata": {},
   "outputs": [],
   "source": [
    "df_market_data_copy[\"crypto_name\"]=df_market_data_copy.index"
   ]
  },
  {
   "cell_type": "code",
   "execution_count": 54,
   "metadata": {},
   "outputs": [
    {
     "data": {},
     "metadata": {},
     "output_type": "display_data"
    },
    {
     "data": {
      "application/vnd.holoviews_exec.v0+json": "",
      "text/html": [
       "<div id='1605'>\n",
       "  <div class=\"bk-root\" id=\"3a2a5836-fd8f-4f1a-b853-e834917f8891\" data-root-id=\"1605\"></div>\n",
       "</div>\n",
       "<script type=\"application/javascript\">(function(root) {\n",
       "  function embed_document(root) {\n",
       "    var docs_json = {\"6e3dc938-72cc-48a0-bb6e-062c1f35bdc2\":{\"defs\":[{\"extends\":null,\"module\":null,\"name\":\"ReactiveHTML1\",\"overrides\":[],\"properties\":[]},{\"extends\":null,\"module\":null,\"name\":\"FlexBox1\",\"overrides\":[],\"properties\":[{\"default\":\"flex-start\",\"kind\":null,\"name\":\"align_content\"},{\"default\":\"flex-start\",\"kind\":null,\"name\":\"align_items\"},{\"default\":\"row\",\"kind\":null,\"name\":\"flex_direction\"},{\"default\":\"wrap\",\"kind\":null,\"name\":\"flex_wrap\"},{\"default\":\"flex-start\",\"kind\":null,\"name\":\"justify_content\"}]},{\"extends\":null,\"module\":null,\"name\":\"GridStack1\",\"overrides\":[],\"properties\":[{\"default\":\"warn\",\"kind\":null,\"name\":\"mode\"},{\"default\":null,\"kind\":null,\"name\":\"ncols\"},{\"default\":null,\"kind\":null,\"name\":\"nrows\"},{\"default\":true,\"kind\":null,\"name\":\"allow_resize\"},{\"default\":true,\"kind\":null,\"name\":\"allow_drag\"},{\"default\":[],\"kind\":null,\"name\":\"state\"}]},{\"extends\":null,\"module\":null,\"name\":\"click1\",\"overrides\":[],\"properties\":[{\"default\":\"\",\"kind\":null,\"name\":\"terminal_output\"},{\"default\":\"\",\"kind\":null,\"name\":\"debug_name\"},{\"default\":0,\"kind\":null,\"name\":\"clears\"}]},{\"extends\":null,\"module\":null,\"name\":\"NotificationAreaBase1\",\"overrides\":[],\"properties\":[{\"default\":\"bottom-right\",\"kind\":null,\"name\":\"position\"},{\"default\":0,\"kind\":null,\"name\":\"_clear\"}]},{\"extends\":null,\"module\":null,\"name\":\"NotificationArea1\",\"overrides\":[],\"properties\":[{\"default\":[],\"kind\":null,\"name\":\"notifications\"},{\"default\":\"bottom-right\",\"kind\":null,\"name\":\"position\"},{\"default\":0,\"kind\":null,\"name\":\"_clear\"},{\"default\":[{\"background\":\"#ffc107\",\"icon\":{\"className\":\"fas fa-exclamation-triangle\",\"color\":\"white\",\"tagName\":\"i\"},\"type\":\"warning\"},{\"background\":\"#007bff\",\"icon\":{\"className\":\"fas fa-info-circle\",\"color\":\"white\",\"tagName\":\"i\"},\"type\":\"info\"}],\"kind\":null,\"name\":\"types\"}]},{\"extends\":null,\"module\":null,\"name\":\"Notification\",\"overrides\":[],\"properties\":[{\"default\":null,\"kind\":null,\"name\":\"background\"},{\"default\":3000,\"kind\":null,\"name\":\"duration\"},{\"default\":null,\"kind\":null,\"name\":\"icon\"},{\"default\":\"\",\"kind\":null,\"name\":\"message\"},{\"default\":null,\"kind\":null,\"name\":\"notification_type\"},{\"default\":false,\"kind\":null,\"name\":\"_destroyed\"}]},{\"extends\":null,\"module\":null,\"name\":\"TemplateActions1\",\"overrides\":[],\"properties\":[{\"default\":0,\"kind\":null,\"name\":\"open_modal\"},{\"default\":0,\"kind\":null,\"name\":\"close_modal\"}]},{\"extends\":null,\"module\":null,\"name\":\"MaterialTemplateActions1\",\"overrides\":[],\"properties\":[{\"default\":0,\"kind\":null,\"name\":\"open_modal\"},{\"default\":0,\"kind\":null,\"name\":\"close_modal\"}]}],\"roots\":{\"references\":[{\"attributes\":{},\"id\":\"1619\",\"type\":\"BasicTicker\"},{\"attributes\":{\"coordinates\":null,\"group\":null,\"text_color\":\"black\",\"text_font_size\":\"12pt\"},\"id\":\"1610\",\"type\":\"Title\"},{\"attributes\":{},\"id\":\"1656\",\"type\":\"BasicTickFormatter\"},{\"attributes\":{},\"id\":\"1666\",\"type\":\"NoOverlap\"},{\"attributes\":{},\"id\":\"1653\",\"type\":\"BasicTickFormatter\"},{\"attributes\":{},\"id\":\"1614\",\"type\":\"LinearScale\"},{\"attributes\":{\"axis\":{\"id\":\"1618\"},\"coordinates\":null,\"grid_line_color\":null,\"group\":null,\"ticker\":null},\"id\":\"1621\",\"type\":\"Grid\"},{\"attributes\":{},\"id\":\"1657\",\"type\":\"AllLabels\"},{\"attributes\":{\"fill_color\":{\"field\":\"color\",\"transform\":{\"id\":\"1639\"}},\"hatch_color\":{\"field\":\"color\",\"transform\":{\"id\":\"1639\"}},\"line_color\":{\"field\":\"color\",\"transform\":{\"id\":\"1639\"}},\"size\":{\"value\":6.324555320336759},\"x\":{\"field\":\"price_change_percentage_24h\"},\"y\":{\"field\":\"price_change_percentage_7d\"}},\"id\":\"1643\",\"type\":\"Scatter\"},{\"attributes\":{\"axis_label\":\"price_change_percentage_7d\",\"coordinates\":null,\"formatter\":{\"id\":\"1656\"},\"group\":null,\"major_label_policy\":{\"id\":\"1657\"},\"ticker\":{\"id\":\"1623\"}},\"id\":\"1622\",\"type\":\"LinearAxis\"},{\"attributes\":{\"axis\":{\"id\":\"1622\"},\"coordinates\":null,\"dimension\":1,\"grid_line_color\":null,\"group\":null,\"ticker\":null},\"id\":\"1625\",\"type\":\"Grid\"},{\"attributes\":{\"fill_color\":{\"field\":\"color\",\"transform\":{\"id\":\"1639\"}},\"hatch_color\":{\"field\":\"color\",\"transform\":{\"id\":\"1639\"}},\"line_color\":{\"field\":\"color\",\"transform\":{\"id\":\"1639\"}},\"size\":{\"value\":6.324555320336759},\"x\":{\"field\":\"price_change_percentage_24h\"},\"y\":{\"field\":\"price_change_percentage_7d\"}},\"id\":\"1646\",\"type\":\"Scatter\"},{\"attributes\":{},\"id\":\"1623\",\"type\":\"BasicTicker\"},{\"attributes\":{\"data\":{\"Cluster\":{\"__ndarray__\":\"AAAAAAAAAAADAAAAAwAAAAAAAAAAAAAAAAAAAAAAAAAAAAAAAwAAAAMAAAADAAAAAwAAAAAAAAADAAAAAAAAAAMAAAADAAAAAAAAAAMAAAADAAAAAAAAAAMAAAADAAAAAwAAAAMAAAADAAAAAwAAAAAAAAADAAAAAwAAAAMAAAABAAAAAAAAAAMAAAADAAAAAgAAAAMAAAADAAAAAwAAAAMAAAA=\",\"dtype\":\"int32\",\"order\":\"little\",\"shape\":[41]},\"color\":{\"__ndarray__\":\"AAAAAAAAAAADAAAAAwAAAAAAAAAAAAAAAAAAAAAAAAAAAAAAAwAAAAMAAAADAAAAAwAAAAAAAAADAAAAAAAAAAMAAAADAAAAAAAAAAMAAAADAAAAAAAAAAMAAAADAAAAAwAAAAMAAAADAAAAAwAAAAAAAAADAAAAAwAAAAMAAAABAAAAAAAAAAMAAAADAAAAAgAAAAMAAAADAAAAAwAAAAMAAAA=\",\"dtype\":\"int32\",\"order\":\"little\",\"shape\":[41]},\"crypto_name\":[\"bitcoin\",\"ethereum\",\"tether\",\"ripple\",\"bitcoin-cash\",\"binancecoin\",\"chainlink\",\"cardano\",\"litecoin\",\"bitcoin-cash-sv\",\"crypto-com-chain\",\"usd-coin\",\"eos\",\"monero\",\"tron\",\"tezos\",\"okb\",\"stellar\",\"cosmos\",\"cdai\",\"neo\",\"wrapped-bitcoin\",\"leo-token\",\"huobi-token\",\"nem\",\"binance-usd\",\"iota\",\"vechain\",\"zcash\",\"theta-token\",\"dash\",\"ethereum-classic\",\"ethlend\",\"maker\",\"havven\",\"omisego\",\"celsius-degree-token\",\"ontology\",\"ftx-token\",\"true-usd\",\"digibyte\"],\"price_change_percentage_24h\":{\"__ndarray__\":\"DdlqYN9F4D86azDosLzHP5giRdTpS5Y/5iURtxHfpL8wCyMArRbzP/cOjHA0iuw/1QxzqW9Xhz8zBL2hZD+6P0nbN/ba1rM/WpkZGJ+73D/+slcesDPVP/IxOp6elqE/H2STd0ruwz9Epj8/c9DQPxk0XoR2pcA/jEB40RVnw790fnl54Irtv9XPDahDw9G/qq8st/Fh0L/5U5ZBISbHP6Slu6TDVtI/BVlpN5h+4D+njODODoCqPwXDDo/fo6q/woaukuXmy79od0yHwmevP8HhEPEMldA/ypmU5gu54j+sKNPN2lDAv1YH9WGFy/m/N7JuVBEB07/EU4GAhEGyv91nhz6W7BPA/ACFOIMFwL/DnH9IcNv2v5azwSWNt/4/VLqXBn668D/IKcQzxy3av5WrmDyeito/Bf22eE/6sz9Y362Ir3rzPw==\",\"dtype\":\"float64\",\"order\":\"little\",\"shape\":[41]},\"price_change_percentage_7d\":{\"__ndarray__\":\"U1k8q3mQ3z9yoPpI+ebtP22UiL5Pmua/Ubo8ah/z6b8wAdnT9gEAQIJpDjGZPPU/BTbpSPiTBEAmUWkixiD4P/OMI2gdZdU/DZTtp1doyL936vtUZtb5v0QZLH/ydOe/it8GjguF7b8rMp3jf678PwRAcFxBAKW/ZWZRGoqp5j8Udj8VbP/2vySelkVDp9i/XK6ZksNx/T/tJm9WzI7mvy674lUf4tS/Q3zKstaO3T84jfoETLXtv6NqpXs9Q92/wrTyyiEu678mI2rMB53mv1Euo6Hk788/3UZrgr7Q778kzwwdV7vtP/9TV66U6fq/ZWX+mWVCuD8GJ0pHuV/Nv3SFotqbIae/srW7TleV4j/JyBNmVh+av008Y/5ntdc/Nv03JFjJ47+Htdvf1gXtv2Avihmzf9o/e31xtwIC5r/STlu6Y3Ljvw==\",\"dtype\":\"float64\",\"order\":\"little\",\"shape\":[41]}},\"selected\":{\"id\":\"1641\"},\"selection_policy\":{\"id\":\"1670\"}},\"id\":\"1640\",\"type\":\"ColumnDataSource\"},{\"attributes\":{\"children\":[{\"id\":\"1609\"}],\"height\":300,\"margin\":[0,0,0,0],\"name\":\"Row01488\",\"sizing_mode\":\"fixed\",\"tags\":[\"embedded\"],\"width\":700},\"id\":\"1605\",\"type\":\"Row\"},{\"attributes\":{},\"id\":\"1670\",\"type\":\"UnionRenderers\"},{\"attributes\":{},\"id\":\"1641\",\"type\":\"Selection\"},{\"attributes\":{},\"id\":\"1654\",\"type\":\"AllLabels\"},{\"attributes\":{},\"id\":\"1626\",\"type\":\"SaveTool\"},{\"attributes\":{},\"id\":\"1627\",\"type\":\"PanTool\"},{\"attributes\":{\"fill_alpha\":{\"value\":0.1},\"fill_color\":{\"field\":\"color\",\"transform\":{\"id\":\"1639\"}},\"hatch_alpha\":{\"value\":0.1},\"hatch_color\":{\"field\":\"color\",\"transform\":{\"id\":\"1639\"}},\"line_alpha\":{\"value\":0.1},\"line_color\":{\"field\":\"color\",\"transform\":{\"id\":\"1639\"}},\"size\":{\"value\":6.324555320336759},\"x\":{\"field\":\"price_change_percentage_24h\"},\"y\":{\"field\":\"price_change_percentage_7d\"}},\"id\":\"1644\",\"type\":\"Scatter\"},{\"attributes\":{},\"id\":\"1628\",\"type\":\"WheelZoomTool\"},{\"attributes\":{\"fill_color\":{\"field\":\"color\",\"transform\":{\"id\":\"1639\"}},\"hatch_color\":{\"field\":\"color\",\"transform\":{\"id\":\"1639\"}},\"line_color\":{\"field\":\"color\",\"transform\":{\"id\":\"1639\"}},\"size\":{\"value\":6.324555320336759},\"x\":{\"field\":\"price_change_percentage_24h\"},\"y\":{\"field\":\"price_change_percentage_7d\"}},\"id\":\"1645\",\"type\":\"Scatter\"},{\"attributes\":{\"overlay\":{\"id\":\"1631\"}},\"id\":\"1629\",\"type\":\"BoxZoomTool\"},{\"attributes\":{\"high\":3,\"low\":0,\"palette\":[\"#1f77b4\",\"#1f77b4\",\"#1f77b4\",\"#1f77b4\",\"#1f77b4\",\"#1f77b4\",\"#1f77b4\",\"#1f77b4\",\"#1f77b4\",\"#1f77b4\",\"#1f77b4\",\"#1f77b4\",\"#1f77b4\",\"#aec7e8\",\"#aec7e8\",\"#aec7e8\",\"#aec7e8\",\"#aec7e8\",\"#aec7e8\",\"#aec7e8\",\"#aec7e8\",\"#aec7e8\",\"#aec7e8\",\"#aec7e8\",\"#aec7e8\",\"#aec7e8\",\"#ff7f0e\",\"#ff7f0e\",\"#ff7f0e\",\"#ff7f0e\",\"#ff7f0e\",\"#ff7f0e\",\"#ff7f0e\",\"#ff7f0e\",\"#ff7f0e\",\"#ff7f0e\",\"#ff7f0e\",\"#ff7f0e\",\"#ff7f0e\",\"#ffbb78\",\"#ffbb78\",\"#ffbb78\",\"#ffbb78\",\"#ffbb78\",\"#ffbb78\",\"#ffbb78\",\"#ffbb78\",\"#ffbb78\",\"#ffbb78\",\"#ffbb78\",\"#ffbb78\",\"#ffbb78\",\"#2ca02c\",\"#2ca02c\",\"#2ca02c\",\"#2ca02c\",\"#2ca02c\",\"#2ca02c\",\"#2ca02c\",\"#2ca02c\",\"#2ca02c\",\"#2ca02c\",\"#2ca02c\",\"#2ca02c\",\"#98df8a\",\"#98df8a\",\"#98df8a\",\"#98df8a\",\"#98df8a\",\"#98df8a\",\"#98df8a\",\"#98df8a\",\"#98df8a\",\"#98df8a\",\"#98df8a\",\"#98df8a\",\"#98df8a\",\"#d62728\",\"#d62728\",\"#d62728\",\"#d62728\",\"#d62728\",\"#d62728\",\"#d62728\",\"#d62728\",\"#d62728\",\"#d62728\",\"#d62728\",\"#d62728\",\"#d62728\",\"#ff9896\",\"#ff9896\",\"#ff9896\",\"#ff9896\",\"#ff9896\",\"#ff9896\",\"#ff9896\",\"#ff9896\",\"#ff9896\",\"#ff9896\",\"#ff9896\",\"#ff9896\",\"#ff9896\",\"#9467bd\",\"#9467bd\",\"#9467bd\",\"#9467bd\",\"#9467bd\",\"#9467bd\",\"#9467bd\",\"#9467bd\",\"#9467bd\",\"#9467bd\",\"#9467bd\",\"#9467bd\",\"#c5b0d5\",\"#c5b0d5\",\"#c5b0d5\",\"#c5b0d5\",\"#c5b0d5\",\"#c5b0d5\",\"#c5b0d5\",\"#c5b0d5\",\"#c5b0d5\",\"#c5b0d5\",\"#c5b0d5\",\"#c5b0d5\",\"#c5b0d5\",\"#8c564b\",\"#8c564b\",\"#8c564b\",\"#8c564b\",\"#8c564b\",\"#8c564b\",\"#8c564b\",\"#8c564b\",\"#8c564b\",\"#8c564b\",\"#8c564b\",\"#8c564b\",\"#8c564b\",\"#c49c94\",\"#c49c94\",\"#c49c94\",\"#c49c94\",\"#c49c94\",\"#c49c94\",\"#c49c94\",\"#c49c94\",\"#c49c94\",\"#c49c94\",\"#c49c94\",\"#c49c94\",\"#c49c94\",\"#e377c2\",\"#e377c2\",\"#e377c2\",\"#e377c2\",\"#e377c2\",\"#e377c2\",\"#e377c2\",\"#e377c2\",\"#e377c2\",\"#e377c2\",\"#e377c2\",\"#e377c2\",\"#f7b6d2\",\"#f7b6d2\",\"#f7b6d2\",\"#f7b6d2\",\"#f7b6d2\",\"#f7b6d2\",\"#f7b6d2\",\"#f7b6d2\",\"#f7b6d2\",\"#f7b6d2\",\"#f7b6d2\",\"#f7b6d2\",\"#f7b6d2\",\"#7f7f7f\",\"#7f7f7f\",\"#7f7f7f\",\"#7f7f7f\",\"#7f7f7f\",\"#7f7f7f\",\"#7f7f7f\",\"#7f7f7f\",\"#7f7f7f\",\"#7f7f7f\",\"#7f7f7f\",\"#7f7f7f\",\"#7f7f7f\",\"#c7c7c7\",\"#c7c7c7\",\"#c7c7c7\",\"#c7c7c7\",\"#c7c7c7\",\"#c7c7c7\",\"#c7c7c7\",\"#c7c7c7\",\"#c7c7c7\",\"#c7c7c7\",\"#c7c7c7\",\"#c7c7c7\",\"#c7c7c7\",\"#bcbd22\",\"#bcbd22\",\"#bcbd22\",\"#bcbd22\",\"#bcbd22\",\"#bcbd22\",\"#bcbd22\",\"#bcbd22\",\"#bcbd22\",\"#bcbd22\",\"#bcbd22\",\"#bcbd22\",\"#dbdb8d\",\"#dbdb8d\",\"#dbdb8d\",\"#dbdb8d\",\"#dbdb8d\",\"#dbdb8d\",\"#dbdb8d\",\"#dbdb8d\",\"#dbdb8d\",\"#dbdb8d\",\"#dbdb8d\",\"#dbdb8d\",\"#dbdb8d\",\"#17becf\",\"#17becf\",\"#17becf\",\"#17becf\",\"#17becf\",\"#17becf\",\"#17becf\",\"#17becf\",\"#17becf\",\"#17becf\",\"#17becf\",\"#17becf\",\"#17becf\",\"#9edae5\",\"#9edae5\",\"#9edae5\",\"#9edae5\",\"#9edae5\",\"#9edae5\",\"#9edae5\",\"#9edae5\",\"#9edae5\",\"#9edae5\",\"#9edae5\",\"#9edae5\",\"#9edae5\"]},\"id\":\"1639\",\"type\":\"LinearColorMapper\"},{\"attributes\":{},\"id\":\"1630\",\"type\":\"ResetTool\"},{\"attributes\":{\"bottom_units\":\"screen\",\"coordinates\":null,\"fill_alpha\":0.5,\"fill_color\":\"lightgrey\",\"group\":null,\"left_units\":\"screen\",\"level\":\"overlay\",\"line_alpha\":1.0,\"line_color\":\"black\",\"line_dash\":[4,4],\"line_width\":2,\"right_units\":\"screen\",\"syncable\":false,\"top_units\":\"screen\"},\"id\":\"1631\",\"type\":\"BoxAnnotation\"},{\"attributes\":{\"fill_alpha\":{\"value\":0.2},\"fill_color\":{\"field\":\"color\",\"transform\":{\"id\":\"1639\"}},\"hatch_alpha\":{\"value\":0.2},\"hatch_color\":{\"field\":\"color\",\"transform\":{\"id\":\"1639\"}},\"line_alpha\":{\"value\":0.2},\"line_color\":{\"field\":\"color\",\"transform\":{\"id\":\"1639\"}},\"size\":{\"value\":6.324555320336759},\"x\":{\"field\":\"price_change_percentage_24h\"},\"y\":{\"field\":\"price_change_percentage_7d\"}},\"id\":\"1647\",\"type\":\"Scatter\"},{\"attributes\":{\"active_drag\":{\"id\":\"1627\"},\"active_scroll\":{\"id\":\"1628\"},\"tools\":[{\"id\":\"1608\"},{\"id\":\"1626\"},{\"id\":\"1627\"},{\"id\":\"1628\"},{\"id\":\"1629\"},{\"id\":\"1630\"}]},\"id\":\"1632\",\"type\":\"Toolbar\"},{\"attributes\":{},\"id\":\"1650\",\"type\":\"BasicTicker\"},{\"attributes\":{\"source\":{\"id\":\"1640\"}},\"id\":\"1649\",\"type\":\"CDSView\"},{\"attributes\":{\"end\":2.2155632386560065,\"reset_end\":2.2155632386560065,\"reset_start\":-5.276792781891412,\"start\":-5.276792781891412,\"tags\":[[[\"price_change_percentage_24h\",\"price_change_percentage_24h\",null]]]},\"id\":\"1606\",\"type\":\"Range1d\"},{\"attributes\":{\"below\":[{\"id\":\"1618\"}],\"center\":[{\"id\":\"1621\"},{\"id\":\"1625\"}],\"height\":300,\"left\":[{\"id\":\"1622\"}],\"margin\":[5,5,5,5],\"min_border_bottom\":10,\"min_border_left\":10,\"min_border_right\":10,\"min_border_top\":10,\"renderers\":[{\"id\":\"1648\"}],\"right\":[{\"id\":\"1651\"}],\"sizing_mode\":\"fixed\",\"title\":{\"id\":\"1610\"},\"toolbar\":{\"id\":\"1632\"},\"width\":700,\"x_range\":{\"id\":\"1606\"},\"x_scale\":{\"id\":\"1614\"},\"y_range\":{\"id\":\"1607\"},\"y_scale\":{\"id\":\"1616\"}},\"id\":\"1609\",\"subtype\":\"Figure\",\"type\":\"Plot\"},{\"attributes\":{\"coordinates\":null,\"data_source\":{\"id\":\"1640\"},\"glyph\":{\"id\":\"1643\"},\"group\":null,\"hover_glyph\":{\"id\":\"1646\"},\"muted_glyph\":{\"id\":\"1647\"},\"nonselection_glyph\":{\"id\":\"1644\"},\"selection_glyph\":{\"id\":\"1645\"},\"view\":{\"id\":\"1649\"}},\"id\":\"1648\",\"type\":\"GlyphRenderer\"},{\"attributes\":{\"callback\":null,\"renderers\":[{\"id\":\"1648\"}],\"tags\":[\"hv_created\"],\"tooltips\":[[\"price_change_percentage_24h\",\"@{price_change_percentage_24h}\"],[\"price_change_percentage_7d\",\"@{price_change_percentage_7d}\"],[\"Cluster\",\"@{Cluster}\"],[\"crypto_name\",\"@{crypto_name}\"]]},\"id\":\"1608\",\"type\":\"HoverTool\"},{\"attributes\":{},\"id\":\"1616\",\"type\":\"LinearScale\"},{\"attributes\":{\"bar_line_color\":\"black\",\"color_mapper\":{\"id\":\"1639\"},\"coordinates\":null,\"group\":null,\"label_standoff\":8,\"location\":[0,0],\"major_label_policy\":{\"id\":\"1666\"},\"major_tick_line_color\":\"black\",\"ticker\":{\"id\":\"1650\"}},\"id\":\"1651\",\"type\":\"ColorBar\"},{\"attributes\":{\"end\":2.997678656273595,\"reset_end\":2.997678656273595,\"reset_start\":-2.107454305728652,\"start\":-2.107454305728652,\"tags\":[[[\"price_change_percentage_7d\",\"price_change_percentage_7d\",null]]]},\"id\":\"1607\",\"type\":\"Range1d\"},{\"attributes\":{\"axis_label\":\"price_change_percentage_24h\",\"coordinates\":null,\"formatter\":{\"id\":\"1653\"},\"group\":null,\"major_label_policy\":{\"id\":\"1654\"},\"ticker\":{\"id\":\"1619\"}},\"id\":\"1618\",\"type\":\"LinearAxis\"}],\"root_ids\":[\"1605\"]},\"title\":\"Bokeh Application\",\"version\":\"2.4.3\"}};\n",
       "    var render_items = [{\"docid\":\"6e3dc938-72cc-48a0-bb6e-062c1f35bdc2\",\"root_ids\":[\"1605\"],\"roots\":{\"1605\":\"3a2a5836-fd8f-4f1a-b853-e834917f8891\"}}];\n",
       "    root.Bokeh.embed.embed_items_notebook(docs_json, render_items);\n",
       "    for (const render_item of render_items) {\n",
       "      for (const root_id of render_item.root_ids) {\n",
       "\tconst id_el = document.getElementById(root_id)\n",
       "\tif (id_el.children.length && (id_el.children[0].className === 'bk-root')) {\n",
       "\t  const root_el = id_el.children[0]\n",
       "\t  root_el.id = root_el.id + '-rendered'\n",
       "\t}\n",
       "      }\n",
       "    }\n",
       "  }\n",
       "  if (root.Bokeh !== undefined && root.Bokeh.Panel !== undefined) {\n",
       "    embed_document(root);\n",
       "  } else {\n",
       "    var attempts = 0;\n",
       "    var timer = setInterval(function(root) {\n",
       "      if (root.Bokeh !== undefined && root.Bokeh.Panel !== undefined) {\n",
       "        clearInterval(timer);\n",
       "        embed_document(root);\n",
       "      } else if (document.readyState == \"complete\") {\n",
       "        attempts++;\n",
       "        if (attempts > 200) {\n",
       "          clearInterval(timer);\n",
       "          console.log(\"Bokeh: ERROR: Unable to run BokehJS code because BokehJS library is missing\");\n",
       "        }\n",
       "      }\n",
       "    }, 25, root)\n",
       "  }\n",
       "})(window);</script>"
      ],
      "text/plain": [
       ":Scatter   [price_change_percentage_24h]   (price_change_percentage_7d,Cluster,crypto_name)"
      ]
     },
     "execution_count": 54,
     "metadata": {
      "application/vnd.holoviews_exec.v0+json": {
       "id": "1605"
      }
     },
     "output_type": "execute_result"
    }
   ],
   "source": [
    "# Create a scatter plot using hvPlot by setting \n",
    "# `x=\"price_change_percentage_24h\"` and `y=\"price_change_percentage_7d\"`. \n",
    "# Color the graph points with the labels found using K-Means and \n",
    "# add the crypto name in the `hover_cols` parameter to identify \n",
    "# the cryptocurrency represented by each data point.\n",
    "\n",
    "scatter_plot = df_market_data_copy.hvplot.scatter(\n",
    "    x=\"price_change_percentage_24h\",\n",
    "    y=\"price_change_percentage_7d\",\n",
    "    c=\"Cluster\",  # Color the points by cluster labels\n",
    "    cmap='Category20',  # Choose a colormap for the colors\n",
    "    hover_cols=[\"crypto_name\"],  # Display cryptocurrency names on hover\n",
    "    size=40  # Adjust point size as needed\n",
    ")\n",
    "\n",
    "# Display the scatter plot\n",
    "scatter_plot"
   ]
  },
  {
   "cell_type": "markdown",
   "metadata": {},
   "source": [
    "---"
   ]
  },
  {
   "cell_type": "markdown",
   "metadata": {},
   "source": [
    "### Optimize Clusters with Principal Component Analysis."
   ]
  },
  {
   "cell_type": "code",
   "execution_count": 56,
   "metadata": {},
   "outputs": [],
   "source": [
    "# Create a PCA model instance and set `n_components=3`.\n",
    "pca = PCA(n_components=3)"
   ]
  },
  {
   "cell_type": "code",
   "execution_count": 57,
   "metadata": {},
   "outputs": [
    {
     "data": {
      "text/html": [
       "<div>\n",
       "<style scoped>\n",
       "    .dataframe tbody tr th:only-of-type {\n",
       "        vertical-align: middle;\n",
       "    }\n",
       "\n",
       "    .dataframe tbody tr th {\n",
       "        vertical-align: top;\n",
       "    }\n",
       "\n",
       "    .dataframe thead th {\n",
       "        text-align: right;\n",
       "    }\n",
       "</style>\n",
       "<table border=\"1\" class=\"dataframe\">\n",
       "  <thead>\n",
       "    <tr style=\"text-align: right;\">\n",
       "      <th></th>\n",
       "      <th>PC1</th>\n",
       "      <th>PC2</th>\n",
       "      <th>PC3</th>\n",
       "    </tr>\n",
       "    <tr>\n",
       "      <th>coin_id</th>\n",
       "      <th></th>\n",
       "      <th></th>\n",
       "      <th></th>\n",
       "    </tr>\n",
       "  </thead>\n",
       "  <tbody>\n",
       "    <tr>\n",
       "      <th>bitcoin</th>\n",
       "      <td>-0.600667</td>\n",
       "      <td>0.842760</td>\n",
       "      <td>0.461595</td>\n",
       "    </tr>\n",
       "    <tr>\n",
       "      <th>ethereum</th>\n",
       "      <td>-0.458261</td>\n",
       "      <td>0.458466</td>\n",
       "      <td>0.952877</td>\n",
       "    </tr>\n",
       "    <tr>\n",
       "      <th>tether</th>\n",
       "      <td>-0.433070</td>\n",
       "      <td>-0.168126</td>\n",
       "      <td>-0.641752</td>\n",
       "    </tr>\n",
       "    <tr>\n",
       "      <th>ripple</th>\n",
       "      <td>-0.471835</td>\n",
       "      <td>-0.222660</td>\n",
       "      <td>-0.479053</td>\n",
       "    </tr>\n",
       "    <tr>\n",
       "      <th>bitcoin-cash</th>\n",
       "      <td>-1.157800</td>\n",
       "      <td>2.041209</td>\n",
       "      <td>1.859715</td>\n",
       "    </tr>\n",
       "  </tbody>\n",
       "</table>\n",
       "</div>"
      ],
      "text/plain": [
       "                   PC1       PC2       PC3\n",
       "coin_id                                   \n",
       "bitcoin      -0.600667  0.842760  0.461595\n",
       "ethereum     -0.458261  0.458466  0.952877\n",
       "tether       -0.433070 -0.168126 -0.641752\n",
       "ripple       -0.471835 -0.222660 -0.479053\n",
       "bitcoin-cash -1.157800  2.041209  1.859715"
      ]
     },
     "execution_count": 57,
     "metadata": {},
     "output_type": "execute_result"
    }
   ],
   "source": [
    "# Use the PCA model with `fit_transform` to reduce to \n",
    "# three principal components.\n",
    "pca_result = pca.fit_transform(df_market_data_scaled)\n",
    "\n",
    "df_pca = pd.DataFrame(data=pca_result, columns=['PC1', 'PC2', 'PC3'], index=df_market_data_scaled.index)\n",
    "\n",
    "# View the first five rows of the DataFrame. \n",
    "df_pca.head()"
   ]
  },
  {
   "cell_type": "code",
   "execution_count": 59,
   "metadata": {},
   "outputs": [
    {
     "name": "stdout",
     "output_type": "stream",
     "text": [
      "Principal Component 1: Explained Variance = 0.3720\n",
      "Principal Component 2: Explained Variance = 0.3470\n",
      "Principal Component 3: Explained Variance = 0.1760\n"
     ]
    }
   ],
   "source": [
    "# Retrieve the explained variance to determine how much information\n",
    "# can be attributed to each principal component.\n",
    "explained_variance = pca.explained_variance_ratio_\n",
    "\n",
    "\n",
    "# Display the explained variance for each component\n",
    "for i, variance in enumerate(explained_variance):\n",
    "    print(f\"Principal Component {i + 1}: Explained Variance = {variance:.4f}\")"
   ]
  },
  {
   "cell_type": "code",
   "execution_count": 24,
   "metadata": {},
   "outputs": [
    {
     "data": {
      "text/plain": [
       "0.8950316570309842"
      ]
     },
     "execution_count": 24,
     "metadata": {},
     "output_type": "execute_result"
    }
   ],
   "source": [
    "total_explained_variance = sum(explained_variance[:3])\n",
    "total_explained_variance"
   ]
  },
  {
   "cell_type": "markdown",
   "metadata": {},
   "source": [
    "#### Answer the following question: \n",
    "\n",
    "**Question:** What is the total explained variance of the three principal components?\n",
    "\n",
    "**Answer:** 0.895031657030984"
   ]
  },
  {
   "cell_type": "code",
   "execution_count": 25,
   "metadata": {},
   "outputs": [
    {
     "data": {
      "text/html": [
       "<div>\n",
       "<style scoped>\n",
       "    .dataframe tbody tr th:only-of-type {\n",
       "        vertical-align: middle;\n",
       "    }\n",
       "\n",
       "    .dataframe tbody tr th {\n",
       "        vertical-align: top;\n",
       "    }\n",
       "\n",
       "    .dataframe thead th {\n",
       "        text-align: right;\n",
       "    }\n",
       "</style>\n",
       "<table border=\"1\" class=\"dataframe\">\n",
       "  <thead>\n",
       "    <tr style=\"text-align: right;\">\n",
       "      <th></th>\n",
       "      <th>PC1</th>\n",
       "      <th>PC2</th>\n",
       "      <th>PC3</th>\n",
       "    </tr>\n",
       "    <tr>\n",
       "      <th>coin_id</th>\n",
       "      <th></th>\n",
       "      <th></th>\n",
       "      <th></th>\n",
       "    </tr>\n",
       "  </thead>\n",
       "  <tbody>\n",
       "    <tr>\n",
       "      <th>bitcoin</th>\n",
       "      <td>-0.600667</td>\n",
       "      <td>0.842760</td>\n",
       "      <td>0.461595</td>\n",
       "    </tr>\n",
       "    <tr>\n",
       "      <th>ethereum</th>\n",
       "      <td>-0.458261</td>\n",
       "      <td>0.458466</td>\n",
       "      <td>0.952877</td>\n",
       "    </tr>\n",
       "    <tr>\n",
       "      <th>tether</th>\n",
       "      <td>-0.433070</td>\n",
       "      <td>-0.168126</td>\n",
       "      <td>-0.641752</td>\n",
       "    </tr>\n",
       "    <tr>\n",
       "      <th>ripple</th>\n",
       "      <td>-0.471835</td>\n",
       "      <td>-0.222660</td>\n",
       "      <td>-0.479053</td>\n",
       "    </tr>\n",
       "    <tr>\n",
       "      <th>bitcoin-cash</th>\n",
       "      <td>-1.157800</td>\n",
       "      <td>2.041209</td>\n",
       "      <td>1.859715</td>\n",
       "    </tr>\n",
       "  </tbody>\n",
       "</table>\n",
       "</div>"
      ],
      "text/plain": [
       "                   PC1       PC2       PC3\n",
       "coin_id                                   \n",
       "bitcoin      -0.600667  0.842760  0.461595\n",
       "ethereum     -0.458261  0.458466  0.952877\n",
       "tether       -0.433070 -0.168126 -0.641752\n",
       "ripple       -0.471835 -0.222660 -0.479053\n",
       "bitcoin-cash -1.157800  2.041209  1.859715"
      ]
     },
     "execution_count": 25,
     "metadata": {},
     "output_type": "execute_result"
    }
   ],
   "source": [
    "# Create a new DataFrame with the PCA data.\n",
    "\n",
    "# Creating a DataFrame with the PCA data\n",
    "\n",
    "# Copy the crypto names from the original data\n",
    "\n",
    "\n",
    "# Set the coinid column as index\n",
    "\n",
    "\n",
    "# Display sample data\n",
    "\n",
    "df_pca.head()"
   ]
  },
  {
   "cell_type": "markdown",
   "metadata": {},
   "source": [
    "---"
   ]
  },
  {
   "cell_type": "markdown",
   "metadata": {},
   "source": [
    "### Find the Best Value for k Using the PCA Data"
   ]
  },
  {
   "cell_type": "code",
   "execution_count": 60,
   "metadata": {},
   "outputs": [],
   "source": [
    "# Create a list with the number of k-values from 1 to 11\n",
    "klist = [1,2,3,4,5,6,7,8,9,10,11]"
   ]
  },
  {
   "cell_type": "code",
   "execution_count": 62,
   "metadata": {},
   "outputs": [
    {
     "name": "stderr",
     "output_type": "stream",
     "text": [
      "/Users/kathia/anaconda3/lib/python3.10/site-packages/sklearn/cluster/_kmeans.py:870: FutureWarning: The default value of `n_init` will change from 10 to 'auto' in 1.4. Set the value of `n_init` explicitly to suppress the warning\n",
      "  warnings.warn(\n",
      "/Users/kathia/anaconda3/lib/python3.10/site-packages/sklearn/cluster/_kmeans.py:870: FutureWarning: The default value of `n_init` will change from 10 to 'auto' in 1.4. Set the value of `n_init` explicitly to suppress the warning\n",
      "  warnings.warn(\n",
      "/Users/kathia/anaconda3/lib/python3.10/site-packages/sklearn/cluster/_kmeans.py:870: FutureWarning: The default value of `n_init` will change from 10 to 'auto' in 1.4. Set the value of `n_init` explicitly to suppress the warning\n",
      "  warnings.warn(\n",
      "/Users/kathia/anaconda3/lib/python3.10/site-packages/sklearn/cluster/_kmeans.py:870: FutureWarning: The default value of `n_init` will change from 10 to 'auto' in 1.4. Set the value of `n_init` explicitly to suppress the warning\n",
      "  warnings.warn(\n",
      "/Users/kathia/anaconda3/lib/python3.10/site-packages/sklearn/cluster/_kmeans.py:870: FutureWarning: The default value of `n_init` will change from 10 to 'auto' in 1.4. Set the value of `n_init` explicitly to suppress the warning\n",
      "  warnings.warn(\n",
      "/Users/kathia/anaconda3/lib/python3.10/site-packages/sklearn/cluster/_kmeans.py:870: FutureWarning: The default value of `n_init` will change from 10 to 'auto' in 1.4. Set the value of `n_init` explicitly to suppress the warning\n",
      "  warnings.warn(\n",
      "/Users/kathia/anaconda3/lib/python3.10/site-packages/sklearn/cluster/_kmeans.py:870: FutureWarning: The default value of `n_init` will change from 10 to 'auto' in 1.4. Set the value of `n_init` explicitly to suppress the warning\n",
      "  warnings.warn(\n",
      "/Users/kathia/anaconda3/lib/python3.10/site-packages/sklearn/cluster/_kmeans.py:870: FutureWarning: The default value of `n_init` will change from 10 to 'auto' in 1.4. Set the value of `n_init` explicitly to suppress the warning\n",
      "  warnings.warn(\n",
      "/Users/kathia/anaconda3/lib/python3.10/site-packages/sklearn/cluster/_kmeans.py:870: FutureWarning: The default value of `n_init` will change from 10 to 'auto' in 1.4. Set the value of `n_init` explicitly to suppress the warning\n",
      "  warnings.warn(\n",
      "/Users/kathia/anaconda3/lib/python3.10/site-packages/sklearn/cluster/_kmeans.py:870: FutureWarning: The default value of `n_init` will change from 10 to 'auto' in 1.4. Set the value of `n_init` explicitly to suppress the warning\n",
      "  warnings.warn(\n",
      "/Users/kathia/anaconda3/lib/python3.10/site-packages/sklearn/cluster/_kmeans.py:870: FutureWarning: The default value of `n_init` will change from 10 to 'auto' in 1.4. Set the value of `n_init` explicitly to suppress the warning\n",
      "  warnings.warn(\n"
     ]
    }
   ],
   "source": [
    "# Create an empty list to store the inertia values\n",
    "inertia_values_pca = []\n",
    "\n",
    "# Create a for loop to compute the inertia with each possible value of k\n",
    "for k in klist:  # Adjust the range as needed\n",
    "    # 1. Create a KMeans model using the loop counter for the n_clusters\n",
    "    kmeans_pca = KMeans(n_clusters=k, random_state=0)\n",
    "    \n",
    "    # 2. Fit the model to the PCA-transformed data using `df_market_data_pca`\n",
    "    kmeans_pca.fit(df_pca)\n",
    "    \n",
    "    # 3. Append the model.inertia_ to the inertia list\n",
    "    inertia_values_pca.append(kmeans_pca.inertia_)"
   ]
  },
  {
   "cell_type": "code",
   "execution_count": 63,
   "metadata": {},
   "outputs": [
    {
     "data": {
      "text/plain": [
       "[256.8740855678926,\n",
       " 165.9019940203601,\n",
       " 93.77462568057297,\n",
       " 49.66549665179738,\n",
       " 37.87874703346251,\n",
       " 27.618971787957445,\n",
       " 21.182775862957335,\n",
       " 17.3898232047689,\n",
       " 13.593650379876738,\n",
       " 10.55935756279343,\n",
       " 8.007418066730596]"
      ]
     },
     "execution_count": 63,
     "metadata": {},
     "output_type": "execute_result"
    }
   ],
   "source": [
    "inertia_values_pca"
   ]
  },
  {
   "cell_type": "code",
   "execution_count": 64,
   "metadata": {},
   "outputs": [],
   "source": [
    "# Create a dictionary with the data for the Elbow curve\n",
    "elbow_data_pca = {\n",
    "    'Number of Clusters (k)': range(1, len(inertia_values_pca) + 1),\n",
    "    'Inertia': inertia_values_pca\n",
    "}\n",
    "\n",
    "# Create a DataFrame with the data for the Elbow curve\n",
    "elbow_df_pca = pd.DataFrame(elbow_data_pca)"
   ]
  },
  {
   "cell_type": "code",
   "execution_count": 65,
   "metadata": {},
   "outputs": [
    {
     "data": {},
     "metadata": {},
     "output_type": "display_data"
    },
    {
     "data": {
      "application/vnd.holoviews_exec.v0+json": "",
      "text/html": [
       "<div id='1729'>\n",
       "  <div class=\"bk-root\" id=\"4f852abc-415c-4c06-b95b-de16c79968ff\" data-root-id=\"1729\"></div>\n",
       "</div>\n",
       "<script type=\"application/javascript\">(function(root) {\n",
       "  function embed_document(root) {\n",
       "    var docs_json = {\"05b1a2e2-5e06-457d-b3e0-418bf0875505\":{\"defs\":[{\"extends\":null,\"module\":null,\"name\":\"ReactiveHTML1\",\"overrides\":[],\"properties\":[]},{\"extends\":null,\"module\":null,\"name\":\"FlexBox1\",\"overrides\":[],\"properties\":[{\"default\":\"flex-start\",\"kind\":null,\"name\":\"align_content\"},{\"default\":\"flex-start\",\"kind\":null,\"name\":\"align_items\"},{\"default\":\"row\",\"kind\":null,\"name\":\"flex_direction\"},{\"default\":\"wrap\",\"kind\":null,\"name\":\"flex_wrap\"},{\"default\":\"flex-start\",\"kind\":null,\"name\":\"justify_content\"}]},{\"extends\":null,\"module\":null,\"name\":\"GridStack1\",\"overrides\":[],\"properties\":[{\"default\":\"warn\",\"kind\":null,\"name\":\"mode\"},{\"default\":null,\"kind\":null,\"name\":\"ncols\"},{\"default\":null,\"kind\":null,\"name\":\"nrows\"},{\"default\":true,\"kind\":null,\"name\":\"allow_resize\"},{\"default\":true,\"kind\":null,\"name\":\"allow_drag\"},{\"default\":[],\"kind\":null,\"name\":\"state\"}]},{\"extends\":null,\"module\":null,\"name\":\"click1\",\"overrides\":[],\"properties\":[{\"default\":\"\",\"kind\":null,\"name\":\"terminal_output\"},{\"default\":\"\",\"kind\":null,\"name\":\"debug_name\"},{\"default\":0,\"kind\":null,\"name\":\"clears\"}]},{\"extends\":null,\"module\":null,\"name\":\"NotificationAreaBase1\",\"overrides\":[],\"properties\":[{\"default\":\"bottom-right\",\"kind\":null,\"name\":\"position\"},{\"default\":0,\"kind\":null,\"name\":\"_clear\"}]},{\"extends\":null,\"module\":null,\"name\":\"NotificationArea1\",\"overrides\":[],\"properties\":[{\"default\":[],\"kind\":null,\"name\":\"notifications\"},{\"default\":\"bottom-right\",\"kind\":null,\"name\":\"position\"},{\"default\":0,\"kind\":null,\"name\":\"_clear\"},{\"default\":[{\"background\":\"#ffc107\",\"icon\":{\"className\":\"fas fa-exclamation-triangle\",\"color\":\"white\",\"tagName\":\"i\"},\"type\":\"warning\"},{\"background\":\"#007bff\",\"icon\":{\"className\":\"fas fa-info-circle\",\"color\":\"white\",\"tagName\":\"i\"},\"type\":\"info\"}],\"kind\":null,\"name\":\"types\"}]},{\"extends\":null,\"module\":null,\"name\":\"Notification\",\"overrides\":[],\"properties\":[{\"default\":null,\"kind\":null,\"name\":\"background\"},{\"default\":3000,\"kind\":null,\"name\":\"duration\"},{\"default\":null,\"kind\":null,\"name\":\"icon\"},{\"default\":\"\",\"kind\":null,\"name\":\"message\"},{\"default\":null,\"kind\":null,\"name\":\"notification_type\"},{\"default\":false,\"kind\":null,\"name\":\"_destroyed\"}]},{\"extends\":null,\"module\":null,\"name\":\"TemplateActions1\",\"overrides\":[],\"properties\":[{\"default\":0,\"kind\":null,\"name\":\"open_modal\"},{\"default\":0,\"kind\":null,\"name\":\"close_modal\"}]},{\"extends\":null,\"module\":null,\"name\":\"MaterialTemplateActions1\",\"overrides\":[],\"properties\":[{\"default\":0,\"kind\":null,\"name\":\"open_modal\"},{\"default\":0,\"kind\":null,\"name\":\"close_modal\"}]}],\"roots\":{\"references\":[{\"attributes\":{\"below\":[{\"id\":\"1742\"}],\"center\":[{\"id\":\"1745\"},{\"id\":\"1749\"}],\"height\":300,\"left\":[{\"id\":\"1746\"}],\"margin\":[5,5,5,5],\"min_border_bottom\":10,\"min_border_left\":10,\"min_border_right\":10,\"min_border_top\":10,\"renderers\":[{\"id\":\"1769\"}],\"sizing_mode\":\"fixed\",\"title\":{\"id\":\"1734\"},\"toolbar\":{\"id\":\"1756\"},\"width\":700,\"x_range\":{\"id\":\"1730\"},\"x_scale\":{\"id\":\"1738\"},\"y_range\":{\"id\":\"1731\"},\"y_scale\":{\"id\":\"1740\"}},\"id\":\"1733\",\"subtype\":\"Figure\",\"type\":\"Plot\"},{\"attributes\":{\"source\":{\"id\":\"1763\"}},\"id\":\"1770\",\"type\":\"CDSView\"},{\"attributes\":{},\"id\":\"1777\",\"type\":\"AllLabels\"},{\"attributes\":{\"callback\":null,\"renderers\":[{\"id\":\"1769\"}],\"tags\":[\"hv_created\"],\"tooltips\":[[\"Number of Clusters (k)\",\"@{Number_of_Clusters_left_parenthesis_k_right_parenthesis}\"],[\"Inertia\",\"@{Inertia}\"]]},\"id\":\"1732\",\"type\":\"HoverTool\"},{\"attributes\":{},\"id\":\"1754\",\"type\":\"ResetTool\"},{\"attributes\":{\"overlay\":{\"id\":\"1755\"}},\"id\":\"1753\",\"type\":\"BoxZoomTool\"},{\"attributes\":{},\"id\":\"1752\",\"type\":\"WheelZoomTool\"},{\"attributes\":{\"line_color\":\"#30a2da\",\"line_width\":2,\"x\":{\"field\":\"Number of Clusters (k)\"},\"y\":{\"field\":\"Inertia\"}},\"id\":\"1771\",\"type\":\"Line\"},{\"attributes\":{},\"id\":\"1743\",\"type\":\"BasicTicker\"},{\"attributes\":{\"line_alpha\":0.1,\"line_color\":\"#30a2da\",\"line_width\":2,\"x\":{\"field\":\"Number of Clusters (k)\"},\"y\":{\"field\":\"Inertia\"}},\"id\":\"1767\",\"type\":\"Line\"},{\"attributes\":{\"active_drag\":{\"id\":\"1751\"},\"active_scroll\":{\"id\":\"1752\"},\"tools\":[{\"id\":\"1732\"},{\"id\":\"1750\"},{\"id\":\"1751\"},{\"id\":\"1752\"},{\"id\":\"1753\"},{\"id\":\"1754\"}]},\"id\":\"1756\",\"type\":\"Toolbar\"},{\"attributes\":{\"line_alpha\":0.2,\"line_color\":\"#30a2da\",\"line_width\":2,\"x\":{\"field\":\"Number of Clusters (k)\"},\"y\":{\"field\":\"Inertia\"}},\"id\":\"1768\",\"type\":\"Line\"},{\"attributes\":{\"coordinates\":null,\"data_source\":{\"id\":\"1763\"},\"glyph\":{\"id\":\"1766\"},\"group\":null,\"hover_glyph\":null,\"muted_glyph\":{\"id\":\"1768\"},\"nonselection_glyph\":{\"id\":\"1767\"},\"selection_glyph\":{\"id\":\"1771\"},\"view\":{\"id\":\"1770\"}},\"id\":\"1769\",\"type\":\"GlyphRenderer\"},{\"attributes\":{\"axis_label\":\"Inertia\",\"coordinates\":null,\"formatter\":{\"id\":\"1776\"},\"group\":null,\"major_label_policy\":{\"id\":\"1777\"},\"ticker\":{\"id\":\"1747\"}},\"id\":\"1746\",\"type\":\"LinearAxis\"},{\"attributes\":{},\"id\":\"1747\",\"type\":\"BasicTicker\"},{\"attributes\":{\"axis_label\":\"Number of Clusters (k)\",\"coordinates\":null,\"formatter\":{\"id\":\"1773\"},\"group\":null,\"major_label_policy\":{\"id\":\"1774\"},\"ticker\":{\"id\":\"1743\"}},\"id\":\"1742\",\"type\":\"LinearAxis\"},{\"attributes\":{\"line_color\":\"#30a2da\",\"line_width\":2,\"x\":{\"field\":\"Number of Clusters (k)\"},\"y\":{\"field\":\"Inertia\"}},\"id\":\"1766\",\"type\":\"Line\"},{\"attributes\":{\"axis\":{\"id\":\"1746\"},\"coordinates\":null,\"dimension\":1,\"grid_line_color\":null,\"group\":null,\"ticker\":null},\"id\":\"1749\",\"type\":\"Grid\"},{\"attributes\":{\"bottom_units\":\"screen\",\"coordinates\":null,\"fill_alpha\":0.5,\"fill_color\":\"lightgrey\",\"group\":null,\"left_units\":\"screen\",\"level\":\"overlay\",\"line_alpha\":1.0,\"line_color\":\"black\",\"line_dash\":[4,4],\"line_width\":2,\"right_units\":\"screen\",\"syncable\":false,\"top_units\":\"screen\"},\"id\":\"1755\",\"type\":\"BoxAnnotation\"},{\"attributes\":{},\"id\":\"1773\",\"type\":\"BasicTickFormatter\"},{\"attributes\":{},\"id\":\"1750\",\"type\":\"SaveTool\"},{\"attributes\":{},\"id\":\"1789\",\"type\":\"UnionRenderers\"},{\"attributes\":{\"end\":281.7607523180088,\"reset_end\":281.7607523180088,\"reset_start\":-16.87924868338561,\"start\":-16.87924868338561,\"tags\":[[[\"Inertia\",\"Inertia\",null]]]},\"id\":\"1731\",\"type\":\"Range1d\"},{\"attributes\":{\"children\":[{\"id\":\"1733\"}],\"height\":300,\"margin\":[0,0,0,0],\"name\":\"Row01597\",\"sizing_mode\":\"fixed\",\"tags\":[\"embedded\"],\"width\":700},\"id\":\"1729\",\"type\":\"Row\"},{\"attributes\":{},\"id\":\"1751\",\"type\":\"PanTool\"},{\"attributes\":{\"coordinates\":null,\"group\":null,\"text\":\"Elbow Curve (PCA Data)\",\"text_color\":\"black\",\"text_font_size\":\"12pt\"},\"id\":\"1734\",\"type\":\"Title\"},{\"attributes\":{},\"id\":\"1738\",\"type\":\"LinearScale\"},{\"attributes\":{\"end\":11.0,\"reset_end\":11.0,\"reset_start\":1.0,\"start\":1.0,\"tags\":[[[\"Number of Clusters (k)\",\"Number of Clusters (k)\",null]]]},\"id\":\"1730\",\"type\":\"Range1d\"},{\"attributes\":{},\"id\":\"1740\",\"type\":\"LinearScale\"},{\"attributes\":{},\"id\":\"1776\",\"type\":\"BasicTickFormatter\"},{\"attributes\":{},\"id\":\"1764\",\"type\":\"Selection\"},{\"attributes\":{\"axis\":{\"id\":\"1742\"},\"coordinates\":null,\"grid_line_color\":null,\"group\":null,\"ticker\":null},\"id\":\"1745\",\"type\":\"Grid\"},{\"attributes\":{},\"id\":\"1774\",\"type\":\"AllLabels\"},{\"attributes\":{\"data\":{\"Inertia\":{\"__ndarray__\":\"EgAmQfwNcEBLVJAi3bxkQPgsl3eTcVdAnIiJ/i7VSEDZFmXIevBCQINsYu90njtAYuYhZsouNUBPtBt0y2MxQDqoTfHyLytApO9NHWQeJUDRAwRNzAMgQA==\",\"dtype\":\"float64\",\"order\":\"little\",\"shape\":[11]},\"Number of Clusters (k)\":[1,2,3,4,5,6,7,8,9,10,11],\"Number_of_Clusters_left_parenthesis_k_right_parenthesis\":[1,2,3,4,5,6,7,8,9,10,11]},\"selected\":{\"id\":\"1764\"},\"selection_policy\":{\"id\":\"1789\"}},\"id\":\"1763\",\"type\":\"ColumnDataSource\"}],\"root_ids\":[\"1729\"]},\"title\":\"Bokeh Application\",\"version\":\"2.4.3\"}};\n",
       "    var render_items = [{\"docid\":\"05b1a2e2-5e06-457d-b3e0-418bf0875505\",\"root_ids\":[\"1729\"],\"roots\":{\"1729\":\"4f852abc-415c-4c06-b95b-de16c79968ff\"}}];\n",
       "    root.Bokeh.embed.embed_items_notebook(docs_json, render_items);\n",
       "    for (const render_item of render_items) {\n",
       "      for (const root_id of render_item.root_ids) {\n",
       "\tconst id_el = document.getElementById(root_id)\n",
       "\tif (id_el.children.length && (id_el.children[0].className === 'bk-root')) {\n",
       "\t  const root_el = id_el.children[0]\n",
       "\t  root_el.id = root_el.id + '-rendered'\n",
       "\t}\n",
       "      }\n",
       "    }\n",
       "  }\n",
       "  if (root.Bokeh !== undefined && root.Bokeh.Panel !== undefined) {\n",
       "    embed_document(root);\n",
       "  } else {\n",
       "    var attempts = 0;\n",
       "    var timer = setInterval(function(root) {\n",
       "      if (root.Bokeh !== undefined && root.Bokeh.Panel !== undefined) {\n",
       "        clearInterval(timer);\n",
       "        embed_document(root);\n",
       "      } else if (document.readyState == \"complete\") {\n",
       "        attempts++;\n",
       "        if (attempts > 200) {\n",
       "          clearInterval(timer);\n",
       "          console.log(\"Bokeh: ERROR: Unable to run BokehJS code because BokehJS library is missing\");\n",
       "        }\n",
       "      }\n",
       "    }, 25, root)\n",
       "  }\n",
       "})(window);</script>"
      ],
      "text/plain": [
       ":Curve   [Number of Clusters (k)]   (Inertia)"
      ]
     },
     "execution_count": 65,
     "metadata": {
      "application/vnd.holoviews_exec.v0+json": {
       "id": "1729"
      }
     },
     "output_type": "execute_result"
    }
   ],
   "source": [
    "# Plot a line chart with all the inertia values computed with \n",
    "# Plot the Elbow curve using hvplot\n",
    "elbow_curve_pca = elbow_df_pca.hvplot.line(x='Number of Clusters (k)', y='Inertia', title='Elbow Curve (PCA Data)')\n",
    "# the different values of k to visually identify the optimal value for k.\n",
    "# Display the interactive Elbow curve plot\n",
    "elbow_curve_pca"
   ]
  },
  {
   "cell_type": "markdown",
   "metadata": {},
   "source": [
    "#### Answer the following questions: \n",
    "\n",
    "* **Question:** What is the best value for `k` when using the PCA data?\n",
    "\n",
    "  * **Answer:** 4\n",
    "\n",
    "\n",
    "* **Question:** Does it differ from the best k value found using the original data?\n",
    "\n",
    "  * **Answer:** No"
   ]
  },
  {
   "cell_type": "markdown",
   "metadata": {},
   "source": [
    "### Cluster Cryptocurrencies with K-means Using the PCA Data"
   ]
  },
  {
   "cell_type": "code",
   "execution_count": 66,
   "metadata": {},
   "outputs": [],
   "source": [
    "# Initialize the K-Means model using the best value for k\n",
    "best_kmeans_model = KMeans(n_clusters=4, random_state=0)"
   ]
  },
  {
   "cell_type": "code",
   "execution_count": 68,
   "metadata": {},
   "outputs": [
    {
     "name": "stderr",
     "output_type": "stream",
     "text": [
      "/Users/kathia/anaconda3/lib/python3.10/site-packages/sklearn/cluster/_kmeans.py:870: FutureWarning: The default value of `n_init` will change from 10 to 'auto' in 1.4. Set the value of `n_init` explicitly to suppress the warning\n",
      "  warnings.warn(\n"
     ]
    },
    {
     "data": {
      "text/html": [
       "<style>#sk-container-id-3 {color: black;background-color: white;}#sk-container-id-3 pre{padding: 0;}#sk-container-id-3 div.sk-toggleable {background-color: white;}#sk-container-id-3 label.sk-toggleable__label {cursor: pointer;display: block;width: 100%;margin-bottom: 0;padding: 0.3em;box-sizing: border-box;text-align: center;}#sk-container-id-3 label.sk-toggleable__label-arrow:before {content: \"▸\";float: left;margin-right: 0.25em;color: #696969;}#sk-container-id-3 label.sk-toggleable__label-arrow:hover:before {color: black;}#sk-container-id-3 div.sk-estimator:hover label.sk-toggleable__label-arrow:before {color: black;}#sk-container-id-3 div.sk-toggleable__content {max-height: 0;max-width: 0;overflow: hidden;text-align: left;background-color: #f0f8ff;}#sk-container-id-3 div.sk-toggleable__content pre {margin: 0.2em;color: black;border-radius: 0.25em;background-color: #f0f8ff;}#sk-container-id-3 input.sk-toggleable__control:checked~div.sk-toggleable__content {max-height: 200px;max-width: 100%;overflow: auto;}#sk-container-id-3 input.sk-toggleable__control:checked~label.sk-toggleable__label-arrow:before {content: \"▾\";}#sk-container-id-3 div.sk-estimator input.sk-toggleable__control:checked~label.sk-toggleable__label {background-color: #d4ebff;}#sk-container-id-3 div.sk-label input.sk-toggleable__control:checked~label.sk-toggleable__label {background-color: #d4ebff;}#sk-container-id-3 input.sk-hidden--visually {border: 0;clip: rect(1px 1px 1px 1px);clip: rect(1px, 1px, 1px, 1px);height: 1px;margin: -1px;overflow: hidden;padding: 0;position: absolute;width: 1px;}#sk-container-id-3 div.sk-estimator {font-family: monospace;background-color: #f0f8ff;border: 1px dotted black;border-radius: 0.25em;box-sizing: border-box;margin-bottom: 0.5em;}#sk-container-id-3 div.sk-estimator:hover {background-color: #d4ebff;}#sk-container-id-3 div.sk-parallel-item::after {content: \"\";width: 100%;border-bottom: 1px solid gray;flex-grow: 1;}#sk-container-id-3 div.sk-label:hover label.sk-toggleable__label {background-color: #d4ebff;}#sk-container-id-3 div.sk-serial::before {content: \"\";position: absolute;border-left: 1px solid gray;box-sizing: border-box;top: 0;bottom: 0;left: 50%;z-index: 0;}#sk-container-id-3 div.sk-serial {display: flex;flex-direction: column;align-items: center;background-color: white;padding-right: 0.2em;padding-left: 0.2em;position: relative;}#sk-container-id-3 div.sk-item {position: relative;z-index: 1;}#sk-container-id-3 div.sk-parallel {display: flex;align-items: stretch;justify-content: center;background-color: white;position: relative;}#sk-container-id-3 div.sk-item::before, #sk-container-id-3 div.sk-parallel-item::before {content: \"\";position: absolute;border-left: 1px solid gray;box-sizing: border-box;top: 0;bottom: 0;left: 50%;z-index: -1;}#sk-container-id-3 div.sk-parallel-item {display: flex;flex-direction: column;z-index: 1;position: relative;background-color: white;}#sk-container-id-3 div.sk-parallel-item:first-child::after {align-self: flex-end;width: 50%;}#sk-container-id-3 div.sk-parallel-item:last-child::after {align-self: flex-start;width: 50%;}#sk-container-id-3 div.sk-parallel-item:only-child::after {width: 0;}#sk-container-id-3 div.sk-dashed-wrapped {border: 1px dashed gray;margin: 0 0.4em 0.5em 0.4em;box-sizing: border-box;padding-bottom: 0.4em;background-color: white;}#sk-container-id-3 div.sk-label label {font-family: monospace;font-weight: bold;display: inline-block;line-height: 1.2em;}#sk-container-id-3 div.sk-label-container {text-align: center;}#sk-container-id-3 div.sk-container {/* jupyter's `normalize.less` sets `[hidden] { display: none; }` but bootstrap.min.css set `[hidden] { display: none !important; }` so we also need the `!important` here to be able to override the default hidden behavior on the sphinx rendered scikit-learn.org. See: https://github.com/scikit-learn/scikit-learn/issues/21755 */display: inline-block !important;position: relative;}#sk-container-id-3 div.sk-text-repr-fallback {display: none;}</style><div id=\"sk-container-id-3\" class=\"sk-top-container\"><div class=\"sk-text-repr-fallback\"><pre>KMeans(n_clusters=4, random_state=0)</pre><b>In a Jupyter environment, please rerun this cell to show the HTML representation or trust the notebook. <br />On GitHub, the HTML representation is unable to render, please try loading this page with nbviewer.org.</b></div><div class=\"sk-container\" hidden><div class=\"sk-item\"><div class=\"sk-estimator sk-toggleable\"><input class=\"sk-toggleable__control sk-hidden--visually\" id=\"sk-estimator-id-3\" type=\"checkbox\" checked><label for=\"sk-estimator-id-3\" class=\"sk-toggleable__label sk-toggleable__label-arrow\">KMeans</label><div class=\"sk-toggleable__content\"><pre>KMeans(n_clusters=4, random_state=0)</pre></div></div></div></div></div>"
      ],
      "text/plain": [
       "KMeans(n_clusters=4, random_state=0)"
      ]
     },
     "execution_count": 68,
     "metadata": {},
     "output_type": "execute_result"
    }
   ],
   "source": [
    "# Fit the K-Means model using the PCA data\n",
    "best_kmeans_model.fit(df_pca)"
   ]
  },
  {
   "cell_type": "code",
   "execution_count": 69,
   "metadata": {},
   "outputs": [
    {
     "name": "stdout",
     "output_type": "stream",
     "text": [
      "[0 0 3 3 0 0 0 0 0 3 3 3 3 0 3 0 3 3 0 3 3 0 3 3 3 3 3 3 0 3 3 3 1 0 3 3 2\n",
      " 3 3 3 3]\n"
     ]
    }
   ],
   "source": [
    "# Predict the clusters to group the cryptocurrencies using the PCA data\n",
    "cluster_labels_pca = best_kmeans_model.predict(df_pca)\n",
    "\n",
    "# Print the resulting array of cluster values.\n",
    "print(cluster_labels_pca)"
   ]
  },
  {
   "cell_type": "code",
   "execution_count": 71,
   "metadata": {},
   "outputs": [
    {
     "data": {
      "text/html": [
       "<div>\n",
       "<style scoped>\n",
       "    .dataframe tbody tr th:only-of-type {\n",
       "        vertical-align: middle;\n",
       "    }\n",
       "\n",
       "    .dataframe tbody tr th {\n",
       "        vertical-align: top;\n",
       "    }\n",
       "\n",
       "    .dataframe thead th {\n",
       "        text-align: right;\n",
       "    }\n",
       "</style>\n",
       "<table border=\"1\" class=\"dataframe\">\n",
       "  <thead>\n",
       "    <tr style=\"text-align: right;\">\n",
       "      <th></th>\n",
       "      <th>PC1</th>\n",
       "      <th>PC2</th>\n",
       "      <th>PC3</th>\n",
       "      <th>Predicted_Cluster</th>\n",
       "    </tr>\n",
       "    <tr>\n",
       "      <th>coin_id</th>\n",
       "      <th></th>\n",
       "      <th></th>\n",
       "      <th></th>\n",
       "      <th></th>\n",
       "    </tr>\n",
       "  </thead>\n",
       "  <tbody>\n",
       "    <tr>\n",
       "      <th>bitcoin</th>\n",
       "      <td>-0.600667</td>\n",
       "      <td>0.842760</td>\n",
       "      <td>0.461595</td>\n",
       "      <td>0</td>\n",
       "    </tr>\n",
       "    <tr>\n",
       "      <th>ethereum</th>\n",
       "      <td>-0.458261</td>\n",
       "      <td>0.458466</td>\n",
       "      <td>0.952877</td>\n",
       "      <td>0</td>\n",
       "    </tr>\n",
       "    <tr>\n",
       "      <th>tether</th>\n",
       "      <td>-0.433070</td>\n",
       "      <td>-0.168126</td>\n",
       "      <td>-0.641752</td>\n",
       "      <td>3</td>\n",
       "    </tr>\n",
       "    <tr>\n",
       "      <th>ripple</th>\n",
       "      <td>-0.471835</td>\n",
       "      <td>-0.222660</td>\n",
       "      <td>-0.479053</td>\n",
       "      <td>3</td>\n",
       "    </tr>\n",
       "    <tr>\n",
       "      <th>bitcoin-cash</th>\n",
       "      <td>-1.157800</td>\n",
       "      <td>2.041209</td>\n",
       "      <td>1.859715</td>\n",
       "      <td>0</td>\n",
       "    </tr>\n",
       "  </tbody>\n",
       "</table>\n",
       "</div>"
      ],
      "text/plain": [
       "                   PC1       PC2       PC3  Predicted_Cluster\n",
       "coin_id                                                      \n",
       "bitcoin      -0.600667  0.842760  0.461595                  0\n",
       "ethereum     -0.458261  0.458466  0.952877                  0\n",
       "tether       -0.433070 -0.168126 -0.641752                  3\n",
       "ripple       -0.471835 -0.222660 -0.479053                  3\n",
       "bitcoin-cash -1.157800  2.041209  1.859715                  0"
      ]
     },
     "execution_count": 71,
     "metadata": {},
     "output_type": "execute_result"
    }
   ],
   "source": [
    "# Create a copy of the DataFrame with the PCA data\n",
    "df_pca_copy = df_pca.copy()\n",
    "\n",
    "\n",
    "# Add a new column to the DataFrame with the predicted clusters\n",
    "df_pca_copy['Predicted_Cluster'] = cluster_labels_pca\n",
    "\n",
    "\n",
    "# Display sample data\n",
    "df_pca_copy.head()"
   ]
  },
  {
   "cell_type": "code",
   "execution_count": 74,
   "metadata": {},
   "outputs": [
    {
     "data": {},
     "metadata": {},
     "output_type": "display_data"
    },
    {
     "data": {
      "application/vnd.holoviews_exec.v0+json": "",
      "text/html": [
       "<div id='2091'>\n",
       "  <div class=\"bk-root\" id=\"3f2fe643-9bdb-4d8d-80b7-fb3ab404591e\" data-root-id=\"2091\"></div>\n",
       "</div>\n",
       "<script type=\"application/javascript\">(function(root) {\n",
       "  function embed_document(root) {\n",
       "    var docs_json = {\"fd1f938a-00ff-497e-ae2d-7f3a50fbfd75\":{\"defs\":[{\"extends\":null,\"module\":null,\"name\":\"ReactiveHTML1\",\"overrides\":[],\"properties\":[]},{\"extends\":null,\"module\":null,\"name\":\"FlexBox1\",\"overrides\":[],\"properties\":[{\"default\":\"flex-start\",\"kind\":null,\"name\":\"align_content\"},{\"default\":\"flex-start\",\"kind\":null,\"name\":\"align_items\"},{\"default\":\"row\",\"kind\":null,\"name\":\"flex_direction\"},{\"default\":\"wrap\",\"kind\":null,\"name\":\"flex_wrap\"},{\"default\":\"flex-start\",\"kind\":null,\"name\":\"justify_content\"}]},{\"extends\":null,\"module\":null,\"name\":\"GridStack1\",\"overrides\":[],\"properties\":[{\"default\":\"warn\",\"kind\":null,\"name\":\"mode\"},{\"default\":null,\"kind\":null,\"name\":\"ncols\"},{\"default\":null,\"kind\":null,\"name\":\"nrows\"},{\"default\":true,\"kind\":null,\"name\":\"allow_resize\"},{\"default\":true,\"kind\":null,\"name\":\"allow_drag\"},{\"default\":[],\"kind\":null,\"name\":\"state\"}]},{\"extends\":null,\"module\":null,\"name\":\"click1\",\"overrides\":[],\"properties\":[{\"default\":\"\",\"kind\":null,\"name\":\"terminal_output\"},{\"default\":\"\",\"kind\":null,\"name\":\"debug_name\"},{\"default\":0,\"kind\":null,\"name\":\"clears\"}]},{\"extends\":null,\"module\":null,\"name\":\"NotificationAreaBase1\",\"overrides\":[],\"properties\":[{\"default\":\"bottom-right\",\"kind\":null,\"name\":\"position\"},{\"default\":0,\"kind\":null,\"name\":\"_clear\"}]},{\"extends\":null,\"module\":null,\"name\":\"NotificationArea1\",\"overrides\":[],\"properties\":[{\"default\":[],\"kind\":null,\"name\":\"notifications\"},{\"default\":\"bottom-right\",\"kind\":null,\"name\":\"position\"},{\"default\":0,\"kind\":null,\"name\":\"_clear\"},{\"default\":[{\"background\":\"#ffc107\",\"icon\":{\"className\":\"fas fa-exclamation-triangle\",\"color\":\"white\",\"tagName\":\"i\"},\"type\":\"warning\"},{\"background\":\"#007bff\",\"icon\":{\"className\":\"fas fa-info-circle\",\"color\":\"white\",\"tagName\":\"i\"},\"type\":\"info\"}],\"kind\":null,\"name\":\"types\"}]},{\"extends\":null,\"module\":null,\"name\":\"Notification\",\"overrides\":[],\"properties\":[{\"default\":null,\"kind\":null,\"name\":\"background\"},{\"default\":3000,\"kind\":null,\"name\":\"duration\"},{\"default\":null,\"kind\":null,\"name\":\"icon\"},{\"default\":\"\",\"kind\":null,\"name\":\"message\"},{\"default\":null,\"kind\":null,\"name\":\"notification_type\"},{\"default\":false,\"kind\":null,\"name\":\"_destroyed\"}]},{\"extends\":null,\"module\":null,\"name\":\"TemplateActions1\",\"overrides\":[],\"properties\":[{\"default\":0,\"kind\":null,\"name\":\"open_modal\"},{\"default\":0,\"kind\":null,\"name\":\"close_modal\"}]},{\"extends\":null,\"module\":null,\"name\":\"MaterialTemplateActions1\",\"overrides\":[],\"properties\":[{\"default\":0,\"kind\":null,\"name\":\"open_modal\"},{\"default\":0,\"kind\":null,\"name\":\"close_modal\"}]}],\"roots\":{\"references\":[{\"attributes\":{\"overlay\":{\"id\":\"2117\"}},\"id\":\"2115\",\"type\":\"BoxZoomTool\"},{\"attributes\":{\"source\":{\"id\":\"2126\"}},\"id\":\"2135\",\"type\":\"CDSView\"},{\"attributes\":{},\"id\":\"2116\",\"type\":\"ResetTool\"},{\"attributes\":{},\"id\":\"2100\",\"type\":\"LinearScale\"},{\"attributes\":{\"fill_alpha\":{\"value\":0.2},\"fill_color\":{\"field\":\"color\",\"transform\":{\"id\":\"2125\"}},\"hatch_alpha\":{\"value\":0.2},\"hatch_color\":{\"field\":\"color\",\"transform\":{\"id\":\"2125\"}},\"line_alpha\":{\"value\":0.2},\"line_color\":{\"field\":\"color\",\"transform\":{\"id\":\"2125\"}},\"size\":{\"value\":6.324555320336759},\"x\":{\"field\":\"PC1\"},\"y\":{\"field\":\"PC2\"}},\"id\":\"2133\",\"type\":\"Scatter\"},{\"attributes\":{\"bottom_units\":\"screen\",\"coordinates\":null,\"fill_alpha\":0.5,\"fill_color\":\"lightgrey\",\"group\":null,\"left_units\":\"screen\",\"level\":\"overlay\",\"line_alpha\":1.0,\"line_color\":\"black\",\"line_dash\":[4,4],\"line_width\":2,\"right_units\":\"screen\",\"syncable\":false,\"top_units\":\"screen\"},\"id\":\"2117\",\"type\":\"BoxAnnotation\"},{\"attributes\":{},\"id\":\"2102\",\"type\":\"LinearScale\"},{\"attributes\":{},\"id\":\"2152\",\"type\":\"NoOverlap\"},{\"attributes\":{\"high\":3,\"low\":0,\"palette\":[\"#1f77b4\",\"#1f77b4\",\"#1f77b4\",\"#1f77b4\",\"#1f77b4\",\"#1f77b4\",\"#1f77b4\",\"#1f77b4\",\"#1f77b4\",\"#1f77b4\",\"#1f77b4\",\"#1f77b4\",\"#1f77b4\",\"#aec7e8\",\"#aec7e8\",\"#aec7e8\",\"#aec7e8\",\"#aec7e8\",\"#aec7e8\",\"#aec7e8\",\"#aec7e8\",\"#aec7e8\",\"#aec7e8\",\"#aec7e8\",\"#aec7e8\",\"#aec7e8\",\"#ff7f0e\",\"#ff7f0e\",\"#ff7f0e\",\"#ff7f0e\",\"#ff7f0e\",\"#ff7f0e\",\"#ff7f0e\",\"#ff7f0e\",\"#ff7f0e\",\"#ff7f0e\",\"#ff7f0e\",\"#ff7f0e\",\"#ff7f0e\",\"#ffbb78\",\"#ffbb78\",\"#ffbb78\",\"#ffbb78\",\"#ffbb78\",\"#ffbb78\",\"#ffbb78\",\"#ffbb78\",\"#ffbb78\",\"#ffbb78\",\"#ffbb78\",\"#ffbb78\",\"#ffbb78\",\"#2ca02c\",\"#2ca02c\",\"#2ca02c\",\"#2ca02c\",\"#2ca02c\",\"#2ca02c\",\"#2ca02c\",\"#2ca02c\",\"#2ca02c\",\"#2ca02c\",\"#2ca02c\",\"#2ca02c\",\"#98df8a\",\"#98df8a\",\"#98df8a\",\"#98df8a\",\"#98df8a\",\"#98df8a\",\"#98df8a\",\"#98df8a\",\"#98df8a\",\"#98df8a\",\"#98df8a\",\"#98df8a\",\"#98df8a\",\"#d62728\",\"#d62728\",\"#d62728\",\"#d62728\",\"#d62728\",\"#d62728\",\"#d62728\",\"#d62728\",\"#d62728\",\"#d62728\",\"#d62728\",\"#d62728\",\"#d62728\",\"#ff9896\",\"#ff9896\",\"#ff9896\",\"#ff9896\",\"#ff9896\",\"#ff9896\",\"#ff9896\",\"#ff9896\",\"#ff9896\",\"#ff9896\",\"#ff9896\",\"#ff9896\",\"#ff9896\",\"#9467bd\",\"#9467bd\",\"#9467bd\",\"#9467bd\",\"#9467bd\",\"#9467bd\",\"#9467bd\",\"#9467bd\",\"#9467bd\",\"#9467bd\",\"#9467bd\",\"#9467bd\",\"#c5b0d5\",\"#c5b0d5\",\"#c5b0d5\",\"#c5b0d5\",\"#c5b0d5\",\"#c5b0d5\",\"#c5b0d5\",\"#c5b0d5\",\"#c5b0d5\",\"#c5b0d5\",\"#c5b0d5\",\"#c5b0d5\",\"#c5b0d5\",\"#8c564b\",\"#8c564b\",\"#8c564b\",\"#8c564b\",\"#8c564b\",\"#8c564b\",\"#8c564b\",\"#8c564b\",\"#8c564b\",\"#8c564b\",\"#8c564b\",\"#8c564b\",\"#8c564b\",\"#c49c94\",\"#c49c94\",\"#c49c94\",\"#c49c94\",\"#c49c94\",\"#c49c94\",\"#c49c94\",\"#c49c94\",\"#c49c94\",\"#c49c94\",\"#c49c94\",\"#c49c94\",\"#c49c94\",\"#e377c2\",\"#e377c2\",\"#e377c2\",\"#e377c2\",\"#e377c2\",\"#e377c2\",\"#e377c2\",\"#e377c2\",\"#e377c2\",\"#e377c2\",\"#e377c2\",\"#e377c2\",\"#f7b6d2\",\"#f7b6d2\",\"#f7b6d2\",\"#f7b6d2\",\"#f7b6d2\",\"#f7b6d2\",\"#f7b6d2\",\"#f7b6d2\",\"#f7b6d2\",\"#f7b6d2\",\"#f7b6d2\",\"#f7b6d2\",\"#f7b6d2\",\"#7f7f7f\",\"#7f7f7f\",\"#7f7f7f\",\"#7f7f7f\",\"#7f7f7f\",\"#7f7f7f\",\"#7f7f7f\",\"#7f7f7f\",\"#7f7f7f\",\"#7f7f7f\",\"#7f7f7f\",\"#7f7f7f\",\"#7f7f7f\",\"#c7c7c7\",\"#c7c7c7\",\"#c7c7c7\",\"#c7c7c7\",\"#c7c7c7\",\"#c7c7c7\",\"#c7c7c7\",\"#c7c7c7\",\"#c7c7c7\",\"#c7c7c7\",\"#c7c7c7\",\"#c7c7c7\",\"#c7c7c7\",\"#bcbd22\",\"#bcbd22\",\"#bcbd22\",\"#bcbd22\",\"#bcbd22\",\"#bcbd22\",\"#bcbd22\",\"#bcbd22\",\"#bcbd22\",\"#bcbd22\",\"#bcbd22\",\"#bcbd22\",\"#dbdb8d\",\"#dbdb8d\",\"#dbdb8d\",\"#dbdb8d\",\"#dbdb8d\",\"#dbdb8d\",\"#dbdb8d\",\"#dbdb8d\",\"#dbdb8d\",\"#dbdb8d\",\"#dbdb8d\",\"#dbdb8d\",\"#dbdb8d\",\"#17becf\",\"#17becf\",\"#17becf\",\"#17becf\",\"#17becf\",\"#17becf\",\"#17becf\",\"#17becf\",\"#17becf\",\"#17becf\",\"#17becf\",\"#17becf\",\"#17becf\",\"#9edae5\",\"#9edae5\",\"#9edae5\",\"#9edae5\",\"#9edae5\",\"#9edae5\",\"#9edae5\",\"#9edae5\",\"#9edae5\",\"#9edae5\",\"#9edae5\",\"#9edae5\",\"#9edae5\"]},\"id\":\"2125\",\"type\":\"LinearColorMapper\"},{\"attributes\":{\"fill_color\":{\"field\":\"color\",\"transform\":{\"id\":\"2125\"}},\"hatch_color\":{\"field\":\"color\",\"transform\":{\"id\":\"2125\"}},\"line_color\":{\"field\":\"color\",\"transform\":{\"id\":\"2125\"}},\"size\":{\"value\":6.324555320336759},\"x\":{\"field\":\"PC1\"},\"y\":{\"field\":\"PC2\"}},\"id\":\"2132\",\"type\":\"Scatter\"},{\"attributes\":{\"fill_color\":{\"field\":\"color\",\"transform\":{\"id\":\"2125\"}},\"hatch_color\":{\"field\":\"color\",\"transform\":{\"id\":\"2125\"}},\"line_color\":{\"field\":\"color\",\"transform\":{\"id\":\"2125\"}},\"size\":{\"value\":6.324555320336759},\"x\":{\"field\":\"PC1\"},\"y\":{\"field\":\"PC2\"}},\"id\":\"2129\",\"type\":\"Scatter\"},{\"attributes\":{},\"id\":\"2142\",\"type\":\"BasicTickFormatter\"},{\"attributes\":{\"coordinates\":null,\"data_source\":{\"id\":\"2126\"},\"glyph\":{\"id\":\"2129\"},\"group\":null,\"hover_glyph\":{\"id\":\"2132\"},\"muted_glyph\":{\"id\":\"2133\"},\"nonselection_glyph\":{\"id\":\"2130\"},\"selection_glyph\":{\"id\":\"2131\"},\"view\":{\"id\":\"2135\"}},\"id\":\"2134\",\"type\":\"GlyphRenderer\"},{\"attributes\":{},\"id\":\"2136\",\"type\":\"BasicTicker\"},{\"attributes\":{\"children\":[{\"id\":\"2095\"}],\"height\":300,\"margin\":[0,0,0,0],\"name\":\"Row01929\",\"sizing_mode\":\"fixed\",\"tags\":[\"embedded\"],\"width\":700},\"id\":\"2091\",\"type\":\"Row\"},{\"attributes\":{},\"id\":\"2139\",\"type\":\"BasicTickFormatter\"},{\"attributes\":{\"end\":7.834135596337113,\"reset_end\":7.834135596337113,\"reset_start\":-4.963347456561435,\"start\":-4.963347456561435,\"tags\":[[[\"PC2\",\"PC2\",null]]]},\"id\":\"2093\",\"type\":\"Range1d\"},{\"attributes\":{},\"id\":\"2140\",\"type\":\"AllLabels\"},{\"attributes\":{\"active_drag\":{\"id\":\"2113\"},\"active_scroll\":{\"id\":\"2114\"},\"tools\":[{\"id\":\"2094\"},{\"id\":\"2112\"},{\"id\":\"2113\"},{\"id\":\"2114\"},{\"id\":\"2115\"},{\"id\":\"2116\"}]},\"id\":\"2118\",\"type\":\"Toolbar\"},{\"attributes\":{\"bar_line_color\":\"black\",\"color_mapper\":{\"id\":\"2125\"},\"coordinates\":null,\"group\":null,\"label_standoff\":8,\"location\":[0,0],\"major_label_policy\":{\"id\":\"2152\"},\"major_tick_line_color\":\"black\",\"ticker\":{\"id\":\"2136\"}},\"id\":\"2137\",\"type\":\"ColorBar\"},{\"attributes\":{\"end\":8.485310422788704,\"reset_end\":8.485310422788704,\"reset_start\":-1.5540921804637438,\"start\":-1.5540921804637438,\"tags\":[[[\"PC1\",\"PC1\",null]]]},\"id\":\"2092\",\"type\":\"Range1d\"},{\"attributes\":{},\"id\":\"2143\",\"type\":\"AllLabels\"},{\"attributes\":{\"axis\":{\"id\":\"2104\"},\"coordinates\":null,\"grid_line_color\":null,\"group\":null,\"ticker\":null},\"id\":\"2107\",\"type\":\"Grid\"},{\"attributes\":{},\"id\":\"2156\",\"type\":\"UnionRenderers\"},{\"attributes\":{\"below\":[{\"id\":\"2104\"}],\"center\":[{\"id\":\"2107\"},{\"id\":\"2111\"}],\"height\":300,\"left\":[{\"id\":\"2108\"}],\"margin\":[5,5,5,5],\"min_border_bottom\":10,\"min_border_left\":10,\"min_border_right\":10,\"min_border_top\":10,\"renderers\":[{\"id\":\"2134\"}],\"right\":[{\"id\":\"2137\"}],\"sizing_mode\":\"fixed\",\"title\":{\"id\":\"2096\"},\"toolbar\":{\"id\":\"2118\"},\"width\":700,\"x_range\":{\"id\":\"2092\"},\"x_scale\":{\"id\":\"2100\"},\"y_range\":{\"id\":\"2093\"},\"y_scale\":{\"id\":\"2102\"}},\"id\":\"2095\",\"subtype\":\"Figure\",\"type\":\"Plot\"},{\"attributes\":{},\"id\":\"2127\",\"type\":\"Selection\"},{\"attributes\":{\"data\":{\"PC1\":{\"__ndarray__\":\"//TQrqo447+Z0e2+JFTdv06WfGpqt9u/Q2F8Nosy3r8eE49DWYbyv8TSCdRxh+C/u1pHYHTY3L+o/cd7Th7Wv39tTPNwyOS/6/Jrm9dJ6L/L/HOg98TPv5qH9NfeDty/sBkZU4ow5r9pv0+KvvmuP5FMI6evLNm/wjHFU0V66b87ArsJMGewPx+zldMFTN+/ds6LH/eZ078Z6SrB0W7gv1sXiTH7LNe/pt1vxyJW47/tEjtnb3Pav+gRKLozFNq/qWXZqrZ84z/9TdZjQtDcv7HYvTIjeOi/bbLvblTN4b8i8+bQmjXbv+xGFZE5agVAvyC8UEGl47/RvuS6vI7ivzxVosuTLSBAnUmjFh7m2L/jCSsnUrTrP6aTuv+8lrw/hRQ7s2krE0D/XMBgQDzkv5cbmkYF++K/Ir1JmQJS3b8T4q/49hDTvw==\",\"dtype\":\"float64\",\"order\":\"little\",\"shape\":[41]},\"PC2\":{\"__ndarray__\":\"ugJY8+P36j+QP81egFfdPwXRe08qhcW/UI9VGiCAzL+yRDd7ZVQAQHykcU7LNvY/u2TwvP2Q4D+RxP1IkVfnP5gtO/eXqNs/1eDMJurAyb/BOhRjIAX2vz5mxoRtcca/6cggkvpS3r+S9tOGdUYHQNEqtCB4sru/HqSem2Sk379tgFApNFH0v+egJl5vcue/c0Nue2CC5j9JkppKWUfCv5uIS4bNlO+/eQsYmwp66j9D+cMuWpLlv1Dd4x5qM8u/hxdkhXQI4j/rLSH9mlTDvwDrhbGEkuC/PW24gOcC/7/7dLLu64zfPzScJoz3k4y/So8PRXSt3r/A3rYoLM7Wv7AN8PHULA/Ay0ntLg0gxT9y/tbKVRgCwAIiKIaGads/AlrQWxoSG0A3qFKDbN0AwI8T7msnAJY/1/Stmbtfwb+wR/DBzXbIvw==\",\"dtype\":\"float64\",\"order\":\"little\",\"shape\":[41]},\"Predicted_Cluster\":{\"__ndarray__\":\"AAAAAAAAAAADAAAAAwAAAAAAAAAAAAAAAAAAAAAAAAAAAAAAAwAAAAMAAAADAAAAAwAAAAAAAAADAAAAAAAAAAMAAAADAAAAAAAAAAMAAAADAAAAAAAAAAMAAAADAAAAAwAAAAMAAAADAAAAAwAAAAAAAAADAAAAAwAAAAMAAAABAAAAAAAAAAMAAAADAAAAAgAAAAMAAAADAAAAAwAAAAMAAAA=\",\"dtype\":\"int32\",\"order\":\"little\",\"shape\":[41]},\"color\":{\"__ndarray__\":\"AAAAAAAAAAADAAAAAwAAAAAAAAAAAAAAAAAAAAAAAAAAAAAAAwAAAAMAAAADAAAAAwAAAAAAAAADAAAAAAAAAAMAAAADAAAAAAAAAAMAAAADAAAAAAAAAAMAAAADAAAAAwAAAAMAAAADAAAAAwAAAAAAAAADAAAAAwAAAAMAAAABAAAAAAAAAAMAAAADAAAAAgAAAAMAAAADAAAAAwAAAAMAAAA=\",\"dtype\":\"int32\",\"order\":\"little\",\"shape\":[41]}},\"selected\":{\"id\":\"2127\"},\"selection_policy\":{\"id\":\"2156\"}},\"id\":\"2126\",\"type\":\"ColumnDataSource\"},{\"attributes\":{\"coordinates\":null,\"group\":null,\"text_color\":\"black\",\"text_font_size\":\"12pt\"},\"id\":\"2096\",\"type\":\"Title\"},{\"attributes\":{\"axis_label\":\"PC1\",\"coordinates\":null,\"formatter\":{\"id\":\"2139\"},\"group\":null,\"major_label_policy\":{\"id\":\"2140\"},\"ticker\":{\"id\":\"2105\"}},\"id\":\"2104\",\"type\":\"LinearAxis\"},{\"attributes\":{},\"id\":\"2105\",\"type\":\"BasicTicker\"},{\"attributes\":{\"fill_alpha\":{\"value\":0.1},\"fill_color\":{\"field\":\"color\",\"transform\":{\"id\":\"2125\"}},\"hatch_alpha\":{\"value\":0.1},\"hatch_color\":{\"field\":\"color\",\"transform\":{\"id\":\"2125\"}},\"line_alpha\":{\"value\":0.1},\"line_color\":{\"field\":\"color\",\"transform\":{\"id\":\"2125\"}},\"size\":{\"value\":6.324555320336759},\"x\":{\"field\":\"PC1\"},\"y\":{\"field\":\"PC2\"}},\"id\":\"2130\",\"type\":\"Scatter\"},{\"attributes\":{\"axis\":{\"id\":\"2108\"},\"coordinates\":null,\"dimension\":1,\"grid_line_color\":null,\"group\":null,\"ticker\":null},\"id\":\"2111\",\"type\":\"Grid\"},{\"attributes\":{\"axis_label\":\"PC2\",\"coordinates\":null,\"formatter\":{\"id\":\"2142\"},\"group\":null,\"major_label_policy\":{\"id\":\"2143\"},\"ticker\":{\"id\":\"2109\"}},\"id\":\"2108\",\"type\":\"LinearAxis\"},{\"attributes\":{\"fill_color\":{\"field\":\"color\",\"transform\":{\"id\":\"2125\"}},\"hatch_color\":{\"field\":\"color\",\"transform\":{\"id\":\"2125\"}},\"line_color\":{\"field\":\"color\",\"transform\":{\"id\":\"2125\"}},\"size\":{\"value\":6.324555320336759},\"x\":{\"field\":\"PC1\"},\"y\":{\"field\":\"PC2\"}},\"id\":\"2131\",\"type\":\"Scatter\"},{\"attributes\":{},\"id\":\"2113\",\"type\":\"PanTool\"},{\"attributes\":{\"callback\":null,\"renderers\":[{\"id\":\"2134\"}],\"tags\":[\"hv_created\"],\"tooltips\":[[\"PC1\",\"@{PC1}\"],[\"PC2\",\"@{PC2}\"],[\"Predicted_Cluster\",\"@{Predicted_Cluster}\"]]},\"id\":\"2094\",\"type\":\"HoverTool\"},{\"attributes\":{},\"id\":\"2109\",\"type\":\"BasicTicker\"},{\"attributes\":{},\"id\":\"2114\",\"type\":\"WheelZoomTool\"},{\"attributes\":{},\"id\":\"2112\",\"type\":\"SaveTool\"}],\"root_ids\":[\"2091\"]},\"title\":\"Bokeh Application\",\"version\":\"2.4.3\"}};\n",
       "    var render_items = [{\"docid\":\"fd1f938a-00ff-497e-ae2d-7f3a50fbfd75\",\"root_ids\":[\"2091\"],\"roots\":{\"2091\":\"3f2fe643-9bdb-4d8d-80b7-fb3ab404591e\"}}];\n",
       "    root.Bokeh.embed.embed_items_notebook(docs_json, render_items);\n",
       "    for (const render_item of render_items) {\n",
       "      for (const root_id of render_item.root_ids) {\n",
       "\tconst id_el = document.getElementById(root_id)\n",
       "\tif (id_el.children.length && (id_el.children[0].className === 'bk-root')) {\n",
       "\t  const root_el = id_el.children[0]\n",
       "\t  root_el.id = root_el.id + '-rendered'\n",
       "\t}\n",
       "      }\n",
       "    }\n",
       "  }\n",
       "  if (root.Bokeh !== undefined && root.Bokeh.Panel !== undefined) {\n",
       "    embed_document(root);\n",
       "  } else {\n",
       "    var attempts = 0;\n",
       "    var timer = setInterval(function(root) {\n",
       "      if (root.Bokeh !== undefined && root.Bokeh.Panel !== undefined) {\n",
       "        clearInterval(timer);\n",
       "        embed_document(root);\n",
       "      } else if (document.readyState == \"complete\") {\n",
       "        attempts++;\n",
       "        if (attempts > 200) {\n",
       "          clearInterval(timer);\n",
       "          console.log(\"Bokeh: ERROR: Unable to run BokehJS code because BokehJS library is missing\");\n",
       "        }\n",
       "      }\n",
       "    }, 25, root)\n",
       "  }\n",
       "})(window);</script>"
      ],
      "text/plain": [
       ":Scatter   [PC1]   (PC2,Predicted_Cluster)"
      ]
     },
     "execution_count": 74,
     "metadata": {
      "application/vnd.holoviews_exec.v0+json": {
       "id": "2091"
      }
     },
     "output_type": "execute_result"
    }
   ],
   "source": [
    "# Create a scatter plot using hvPlot by setting \n",
    "# `x=\"PC1\"` and `y=\"PC2\"`. \n",
    "# Color the graph points with the labels found using K-Means and \n",
    "# add the crypto name in the `hover_cols` parameter to identify \n",
    "# the cryptocurrency represented by each data point.\n",
    "\n",
    "\n",
    "scatter_plot_pca = df_pca_copy.hvplot.scatter(\n",
    "    x=\"PC1\",\n",
    "    y=\"PC2\",\n",
    "    c=\"Predicted_Cluster\",  # Color the points by predicted clusters\n",
    "    cmap='Category20',  # Choose a colormap for the colors\n",
    "    hover_cols=[\"crypto_name\"],  # Display cryptocurrency names on hover\n",
    "    size=40  # Adjust point size as needed\n",
    ")\n",
    "\n",
    "# Display the scatter plot\n",
    "scatter_plot_pca"
   ]
  },
  {
   "cell_type": "markdown",
   "metadata": {},
   "source": [
    "### Visualize and Compare the Results\n",
    "\n",
    "In this section, you will visually analyze the cluster analysis results by contrasting the outcome with and without using the optimization techniques."
   ]
  },
  {
   "cell_type": "code",
   "execution_count": 75,
   "metadata": {},
   "outputs": [],
   "source": [
    "# Composite plot to contrast the Elbow \n",
    "elbow_curve_original = elbow_df.hvplot.line(x='Number of Clusters (k)', y='Inertia', title='Elbow Curve (Original Data)')\n",
    "elbow_curve_pca = elbow_df_pca.hvplot.line(x='Number of Clusters (k)', y='Inertia', title='Elbow Curve (PCA Data)')"
   ]
  },
  {
   "cell_type": "code",
   "execution_count": 76,
   "metadata": {},
   "outputs": [],
   "source": [
    " df_pca_copy[\"crypto_name\"]= df_pca_copy.index"
   ]
  },
  {
   "cell_type": "code",
   "execution_count": 77,
   "metadata": {},
   "outputs": [
    {
     "data": {},
     "metadata": {},
     "output_type": "display_data"
    },
    {
     "data": {
      "application/vnd.holoviews_exec.v0+json": "",
      "text/html": [
       "<div id='2215'>\n",
       "  <div class=\"bk-root\" id=\"20b435e9-6a4b-4b8c-9af2-10cd7c870a4d\" data-root-id=\"2215\"></div>\n",
       "</div>\n",
       "<script type=\"application/javascript\">(function(root) {\n",
       "  function embed_document(root) {\n",
       "    var docs_json = {\"012b8539-e1b8-4ff9-a024-3166aa989a1b\":{\"defs\":[{\"extends\":null,\"module\":null,\"name\":\"ReactiveHTML1\",\"overrides\":[],\"properties\":[]},{\"extends\":null,\"module\":null,\"name\":\"FlexBox1\",\"overrides\":[],\"properties\":[{\"default\":\"flex-start\",\"kind\":null,\"name\":\"align_content\"},{\"default\":\"flex-start\",\"kind\":null,\"name\":\"align_items\"},{\"default\":\"row\",\"kind\":null,\"name\":\"flex_direction\"},{\"default\":\"wrap\",\"kind\":null,\"name\":\"flex_wrap\"},{\"default\":\"flex-start\",\"kind\":null,\"name\":\"justify_content\"}]},{\"extends\":null,\"module\":null,\"name\":\"GridStack1\",\"overrides\":[],\"properties\":[{\"default\":\"warn\",\"kind\":null,\"name\":\"mode\"},{\"default\":null,\"kind\":null,\"name\":\"ncols\"},{\"default\":null,\"kind\":null,\"name\":\"nrows\"},{\"default\":true,\"kind\":null,\"name\":\"allow_resize\"},{\"default\":true,\"kind\":null,\"name\":\"allow_drag\"},{\"default\":[],\"kind\":null,\"name\":\"state\"}]},{\"extends\":null,\"module\":null,\"name\":\"click1\",\"overrides\":[],\"properties\":[{\"default\":\"\",\"kind\":null,\"name\":\"terminal_output\"},{\"default\":\"\",\"kind\":null,\"name\":\"debug_name\"},{\"default\":0,\"kind\":null,\"name\":\"clears\"}]},{\"extends\":null,\"module\":null,\"name\":\"NotificationAreaBase1\",\"overrides\":[],\"properties\":[{\"default\":\"bottom-right\",\"kind\":null,\"name\":\"position\"},{\"default\":0,\"kind\":null,\"name\":\"_clear\"}]},{\"extends\":null,\"module\":null,\"name\":\"NotificationArea1\",\"overrides\":[],\"properties\":[{\"default\":[],\"kind\":null,\"name\":\"notifications\"},{\"default\":\"bottom-right\",\"kind\":null,\"name\":\"position\"},{\"default\":0,\"kind\":null,\"name\":\"_clear\"},{\"default\":[{\"background\":\"#ffc107\",\"icon\":{\"className\":\"fas fa-exclamation-triangle\",\"color\":\"white\",\"tagName\":\"i\"},\"type\":\"warning\"},{\"background\":\"#007bff\",\"icon\":{\"className\":\"fas fa-info-circle\",\"color\":\"white\",\"tagName\":\"i\"},\"type\":\"info\"}],\"kind\":null,\"name\":\"types\"}]},{\"extends\":null,\"module\":null,\"name\":\"Notification\",\"overrides\":[],\"properties\":[{\"default\":null,\"kind\":null,\"name\":\"background\"},{\"default\":3000,\"kind\":null,\"name\":\"duration\"},{\"default\":null,\"kind\":null,\"name\":\"icon\"},{\"default\":\"\",\"kind\":null,\"name\":\"message\"},{\"default\":null,\"kind\":null,\"name\":\"notification_type\"},{\"default\":false,\"kind\":null,\"name\":\"_destroyed\"}]},{\"extends\":null,\"module\":null,\"name\":\"TemplateActions1\",\"overrides\":[],\"properties\":[{\"default\":0,\"kind\":null,\"name\":\"open_modal\"},{\"default\":0,\"kind\":null,\"name\":\"close_modal\"}]},{\"extends\":null,\"module\":null,\"name\":\"MaterialTemplateActions1\",\"overrides\":[],\"properties\":[{\"default\":0,\"kind\":null,\"name\":\"open_modal\"},{\"default\":0,\"kind\":null,\"name\":\"close_modal\"}]}],\"roots\":{\"references\":[{\"attributes\":{},\"id\":\"2422\",\"type\":\"AllLabels\"},{\"attributes\":{\"axis_label\":\"Number of Clusters (k)\",\"coordinates\":null,\"formatter\":{\"id\":\"2309\"},\"group\":null,\"major_label_policy\":{\"id\":\"2310\"},\"ticker\":{\"id\":\"2279\"}},\"id\":\"2278\",\"type\":\"LinearAxis\"},{\"attributes\":{\"fill_color\":{\"field\":\"color\",\"transform\":{\"id\":\"2407\"}},\"hatch_color\":{\"field\":\"color\",\"transform\":{\"id\":\"2407\"}},\"line_color\":{\"field\":\"color\",\"transform\":{\"id\":\"2407\"}},\"size\":{\"value\":5.477225575051661},\"x\":{\"field\":\"PC1\"},\"y\":{\"field\":\"PC2\"}},\"id\":\"2414\",\"type\":\"Scatter\"},{\"attributes\":{\"fill_color\":{\"field\":\"color\",\"transform\":{\"id\":\"2351\"}},\"hatch_color\":{\"field\":\"color\",\"transform\":{\"id\":\"2351\"}},\"line_color\":{\"field\":\"color\",\"transform\":{\"id\":\"2351\"}},\"size\":{\"value\":5.477225575051661},\"x\":{\"field\":\"price_change_percentage_24h\"},\"y\":{\"field\":\"price_change_percentage_7d\"}},\"id\":\"2357\",\"type\":\"Scatter\"},{\"attributes\":{},\"id\":\"2472\",\"type\":\"UnionRenderers\"},{\"attributes\":{},\"id\":\"2287\",\"type\":\"PanTool\"},{\"attributes\":{\"fill_color\":{\"field\":\"color\",\"transform\":{\"id\":\"2407\"}},\"hatch_color\":{\"field\":\"color\",\"transform\":{\"id\":\"2407\"}},\"line_color\":{\"field\":\"color\",\"transform\":{\"id\":\"2407\"}},\"size\":{\"value\":5.477225575051661},\"x\":{\"field\":\"PC1\"},\"y\":{\"field\":\"PC2\"}},\"id\":\"2411\",\"type\":\"Scatter\"},{\"attributes\":{},\"id\":\"2276\",\"type\":\"LinearScale\"},{\"attributes\":{\"coordinates\":null,\"group\":null,\"text\":\"Elbow Curve (PCA Data)\",\"text_color\":\"black\",\"text_font_size\":\"12pt\"},\"id\":\"2270\",\"type\":\"Title\"},{\"attributes\":{\"high\":3,\"low\":0,\"palette\":[\"#1f77b4\",\"#1f77b4\",\"#1f77b4\",\"#1f77b4\",\"#1f77b4\",\"#1f77b4\",\"#1f77b4\",\"#1f77b4\",\"#1f77b4\",\"#1f77b4\",\"#1f77b4\",\"#1f77b4\",\"#1f77b4\",\"#aec7e8\",\"#aec7e8\",\"#aec7e8\",\"#aec7e8\",\"#aec7e8\",\"#aec7e8\",\"#aec7e8\",\"#aec7e8\",\"#aec7e8\",\"#aec7e8\",\"#aec7e8\",\"#aec7e8\",\"#aec7e8\",\"#ff7f0e\",\"#ff7f0e\",\"#ff7f0e\",\"#ff7f0e\",\"#ff7f0e\",\"#ff7f0e\",\"#ff7f0e\",\"#ff7f0e\",\"#ff7f0e\",\"#ff7f0e\",\"#ff7f0e\",\"#ff7f0e\",\"#ff7f0e\",\"#ffbb78\",\"#ffbb78\",\"#ffbb78\",\"#ffbb78\",\"#ffbb78\",\"#ffbb78\",\"#ffbb78\",\"#ffbb78\",\"#ffbb78\",\"#ffbb78\",\"#ffbb78\",\"#ffbb78\",\"#ffbb78\",\"#2ca02c\",\"#2ca02c\",\"#2ca02c\",\"#2ca02c\",\"#2ca02c\",\"#2ca02c\",\"#2ca02c\",\"#2ca02c\",\"#2ca02c\",\"#2ca02c\",\"#2ca02c\",\"#2ca02c\",\"#98df8a\",\"#98df8a\",\"#98df8a\",\"#98df8a\",\"#98df8a\",\"#98df8a\",\"#98df8a\",\"#98df8a\",\"#98df8a\",\"#98df8a\",\"#98df8a\",\"#98df8a\",\"#98df8a\",\"#d62728\",\"#d62728\",\"#d62728\",\"#d62728\",\"#d62728\",\"#d62728\",\"#d62728\",\"#d62728\",\"#d62728\",\"#d62728\",\"#d62728\",\"#d62728\",\"#d62728\",\"#ff9896\",\"#ff9896\",\"#ff9896\",\"#ff9896\",\"#ff9896\",\"#ff9896\",\"#ff9896\",\"#ff9896\",\"#ff9896\",\"#ff9896\",\"#ff9896\",\"#ff9896\",\"#ff9896\",\"#9467bd\",\"#9467bd\",\"#9467bd\",\"#9467bd\",\"#9467bd\",\"#9467bd\",\"#9467bd\",\"#9467bd\",\"#9467bd\",\"#9467bd\",\"#9467bd\",\"#9467bd\",\"#c5b0d5\",\"#c5b0d5\",\"#c5b0d5\",\"#c5b0d5\",\"#c5b0d5\",\"#c5b0d5\",\"#c5b0d5\",\"#c5b0d5\",\"#c5b0d5\",\"#c5b0d5\",\"#c5b0d5\",\"#c5b0d5\",\"#c5b0d5\",\"#8c564b\",\"#8c564b\",\"#8c564b\",\"#8c564b\",\"#8c564b\",\"#8c564b\",\"#8c564b\",\"#8c564b\",\"#8c564b\",\"#8c564b\",\"#8c564b\",\"#8c564b\",\"#8c564b\",\"#c49c94\",\"#c49c94\",\"#c49c94\",\"#c49c94\",\"#c49c94\",\"#c49c94\",\"#c49c94\",\"#c49c94\",\"#c49c94\",\"#c49c94\",\"#c49c94\",\"#c49c94\",\"#c49c94\",\"#e377c2\",\"#e377c2\",\"#e377c2\",\"#e377c2\",\"#e377c2\",\"#e377c2\",\"#e377c2\",\"#e377c2\",\"#e377c2\",\"#e377c2\",\"#e377c2\",\"#e377c2\",\"#f7b6d2\",\"#f7b6d2\",\"#f7b6d2\",\"#f7b6d2\",\"#f7b6d2\",\"#f7b6d2\",\"#f7b6d2\",\"#f7b6d2\",\"#f7b6d2\",\"#f7b6d2\",\"#f7b6d2\",\"#f7b6d2\",\"#f7b6d2\",\"#7f7f7f\",\"#7f7f7f\",\"#7f7f7f\",\"#7f7f7f\",\"#7f7f7f\",\"#7f7f7f\",\"#7f7f7f\",\"#7f7f7f\",\"#7f7f7f\",\"#7f7f7f\",\"#7f7f7f\",\"#7f7f7f\",\"#7f7f7f\",\"#c7c7c7\",\"#c7c7c7\",\"#c7c7c7\",\"#c7c7c7\",\"#c7c7c7\",\"#c7c7c7\",\"#c7c7c7\",\"#c7c7c7\",\"#c7c7c7\",\"#c7c7c7\",\"#c7c7c7\",\"#c7c7c7\",\"#c7c7c7\",\"#bcbd22\",\"#bcbd22\",\"#bcbd22\",\"#bcbd22\",\"#bcbd22\",\"#bcbd22\",\"#bcbd22\",\"#bcbd22\",\"#bcbd22\",\"#bcbd22\",\"#bcbd22\",\"#bcbd22\",\"#dbdb8d\",\"#dbdb8d\",\"#dbdb8d\",\"#dbdb8d\",\"#dbdb8d\",\"#dbdb8d\",\"#dbdb8d\",\"#dbdb8d\",\"#dbdb8d\",\"#dbdb8d\",\"#dbdb8d\",\"#dbdb8d\",\"#dbdb8d\",\"#17becf\",\"#17becf\",\"#17becf\",\"#17becf\",\"#17becf\",\"#17becf\",\"#17becf\",\"#17becf\",\"#17becf\",\"#17becf\",\"#17becf\",\"#17becf\",\"#17becf\",\"#9edae5\",\"#9edae5\",\"#9edae5\",\"#9edae5\",\"#9edae5\",\"#9edae5\",\"#9edae5\",\"#9edae5\",\"#9edae5\",\"#9edae5\",\"#9edae5\",\"#9edae5\",\"#9edae5\"]},\"id\":\"2407\",\"type\":\"LinearColorMapper\"},{\"attributes\":{\"axis\":{\"id\":\"2278\"},\"coordinates\":null,\"grid_line_color\":null,\"group\":null,\"ticker\":null},\"id\":\"2281\",\"type\":\"Grid\"},{\"attributes\":{},\"id\":\"2309\",\"type\":\"BasicTickFormatter\"},{\"attributes\":{},\"id\":\"2362\",\"type\":\"BasicTicker\"},{\"attributes\":{},\"id\":\"2279\",\"type\":\"BasicTicker\"},{\"attributes\":{\"axis\":{\"id\":\"2282\"},\"coordinates\":null,\"dimension\":1,\"grid_line_color\":null,\"group\":null,\"ticker\":null},\"id\":\"2285\",\"type\":\"Grid\"},{\"attributes\":{\"fill_alpha\":{\"value\":0.2},\"fill_color\":{\"field\":\"color\",\"transform\":{\"id\":\"2407\"}},\"hatch_alpha\":{\"value\":0.2},\"hatch_color\":{\"field\":\"color\",\"transform\":{\"id\":\"2407\"}},\"line_alpha\":{\"value\":0.2},\"line_color\":{\"field\":\"color\",\"transform\":{\"id\":\"2407\"}},\"size\":{\"value\":5.477225575051661},\"x\":{\"field\":\"PC1\"},\"y\":{\"field\":\"PC2\"}},\"id\":\"2415\",\"type\":\"Scatter\"},{\"attributes\":{\"axis_label\":\"Inertia\",\"coordinates\":null,\"formatter\":{\"id\":\"2312\"},\"group\":null,\"major_label_policy\":{\"id\":\"2313\"},\"ticker\":{\"id\":\"2283\"}},\"id\":\"2282\",\"type\":\"LinearAxis\"},{\"attributes\":{},\"id\":\"2288\",\"type\":\"WheelZoomTool\"},{\"attributes\":{},\"id\":\"2283\",\"type\":\"BasicTicker\"},{\"attributes\":{\"source\":{\"id\":\"2408\"}},\"id\":\"2417\",\"type\":\"CDSView\"},{\"attributes\":{},\"id\":\"2286\",\"type\":\"SaveTool\"},{\"attributes\":{\"active_drag\":{\"id\":\"2339\"},\"active_scroll\":{\"id\":\"2340\"},\"tools\":[{\"id\":\"2320\"},{\"id\":\"2338\"},{\"id\":\"2339\"},{\"id\":\"2340\"},{\"id\":\"2341\"},{\"id\":\"2342\"}]},\"id\":\"2344\",\"type\":\"Toolbar\"},{\"attributes\":{\"coordinates\":null,\"data_source\":{\"id\":\"2408\"},\"glyph\":{\"id\":\"2411\"},\"group\":null,\"hover_glyph\":{\"id\":\"2414\"},\"muted_glyph\":{\"id\":\"2415\"},\"nonselection_glyph\":{\"id\":\"2412\"},\"selection_glyph\":{\"id\":\"2413\"},\"view\":{\"id\":\"2417\"}},\"id\":\"2416\",\"type\":\"GlyphRenderer\"},{\"attributes\":{\"fill_alpha\":{\"value\":0.2},\"fill_color\":{\"field\":\"color\",\"transform\":{\"id\":\"2351\"}},\"hatch_alpha\":{\"value\":0.2},\"hatch_color\":{\"field\":\"color\",\"transform\":{\"id\":\"2351\"}},\"line_alpha\":{\"value\":0.2},\"line_color\":{\"field\":\"color\",\"transform\":{\"id\":\"2351\"}},\"size\":{\"value\":5.477225575051661},\"x\":{\"field\":\"price_change_percentage_24h\"},\"y\":{\"field\":\"price_change_percentage_7d\"}},\"id\":\"2359\",\"type\":\"Scatter\"},{\"attributes\":{\"overlay\":{\"id\":\"2291\"}},\"id\":\"2289\",\"type\":\"BoxZoomTool\"},{\"attributes\":{},\"id\":\"2290\",\"type\":\"ResetTool\"},{\"attributes\":{\"bar_line_color\":\"black\",\"color_mapper\":{\"id\":\"2407\"},\"coordinates\":null,\"group\":null,\"label_standoff\":8,\"location\":[0,0],\"major_label_policy\":{\"id\":\"2468\"},\"major_tick_line_color\":\"black\",\"ticker\":{\"id\":\"2418\"}},\"id\":\"2419\",\"type\":\"ColorBar\"},{\"attributes\":{\"bottom_units\":\"screen\",\"coordinates\":null,\"fill_alpha\":0.5,\"fill_color\":\"lightgrey\",\"group\":null,\"left_units\":\"screen\",\"level\":\"overlay\",\"line_alpha\":1.0,\"line_color\":\"black\",\"line_dash\":[4,4],\"line_width\":2,\"right_units\":\"screen\",\"syncable\":false,\"top_units\":\"screen\"},\"id\":\"2291\",\"type\":\"BoxAnnotation\"},{\"attributes\":{\"coordinates\":null,\"data_source\":{\"id\":\"2352\"},\"glyph\":{\"id\":\"2355\"},\"group\":null,\"hover_glyph\":{\"id\":\"2358\"},\"muted_glyph\":{\"id\":\"2359\"},\"nonselection_glyph\":{\"id\":\"2356\"},\"selection_glyph\":{\"id\":\"2357\"},\"view\":{\"id\":\"2361\"}},\"id\":\"2360\",\"type\":\"GlyphRenderer\"},{\"attributes\":{\"coordinates\":null,\"data_source\":{\"id\":\"2299\"},\"glyph\":{\"id\":\"2302\"},\"group\":null,\"hover_glyph\":null,\"muted_glyph\":{\"id\":\"2304\"},\"nonselection_glyph\":{\"id\":\"2303\"},\"selection_glyph\":{\"id\":\"2307\"},\"view\":{\"id\":\"2306\"}},\"id\":\"2305\",\"type\":\"GlyphRenderer\"},{\"attributes\":{\"line_alpha\":0.1,\"line_color\":\"#30a2da\",\"line_width\":2,\"x\":{\"field\":\"Number of Clusters (k)\"},\"y\":{\"field\":\"Inertia\"}},\"id\":\"2303\",\"type\":\"Line\"},{\"attributes\":{\"line_alpha\":0.2,\"line_color\":\"#30a2da\",\"line_width\":2,\"x\":{\"field\":\"Number of Clusters (k)\"},\"y\":{\"field\":\"Inertia\"}},\"id\":\"2304\",\"type\":\"Line\"},{\"attributes\":{},\"id\":\"2300\",\"type\":\"Selection\"},{\"attributes\":{\"line_color\":\"#30a2da\",\"line_width\":2,\"x\":{\"field\":\"Number of Clusters (k)\"},\"y\":{\"field\":\"Inertia\"}},\"id\":\"2307\",\"type\":\"Line\"},{\"attributes\":{\"fill_color\":{\"field\":\"color\",\"transform\":{\"id\":\"2351\"}},\"hatch_color\":{\"field\":\"color\",\"transform\":{\"id\":\"2351\"}},\"line_color\":{\"field\":\"color\",\"transform\":{\"id\":\"2351\"}},\"size\":{\"value\":5.477225575051661},\"x\":{\"field\":\"price_change_percentage_24h\"},\"y\":{\"field\":\"price_change_percentage_7d\"}},\"id\":\"2358\",\"type\":\"Scatter\"},{\"attributes\":{},\"id\":\"2418\",\"type\":\"BasicTicker\"},{\"attributes\":{},\"id\":\"2424\",\"type\":\"BasicTickFormatter\"},{\"attributes\":{},\"id\":\"2353\",\"type\":\"Selection\"},{\"attributes\":{},\"id\":\"2421\",\"type\":\"BasicTickFormatter\"},{\"attributes\":{},\"id\":\"2425\",\"type\":\"AllLabels\"},{\"attributes\":{},\"id\":\"2312\",\"type\":\"BasicTickFormatter\"},{\"attributes\":{\"callback\":null,\"renderers\":[{\"id\":\"2360\"}],\"tags\":[\"hv_created\"],\"tooltips\":[[\"price_change_percentage_24h\",\"@{price_change_percentage_24h}\"],[\"price_change_percentage_7d\",\"@{price_change_percentage_7d}\"],[\"Cluster\",\"@{Cluster}\"],[\"crypto_name\",\"@{crypto_name}\"]]},\"id\":\"2320\",\"type\":\"HoverTool\"},{\"attributes\":{},\"id\":\"2409\",\"type\":\"Selection\"},{\"attributes\":{\"end\":7.834135596337113,\"reset_end\":7.834135596337113,\"reset_start\":-4.963347456561435,\"start\":-4.963347456561435,\"tags\":[[[\"PC2\",\"PC2\",null]]]},\"id\":\"2375\",\"type\":\"Range1d\"},{\"attributes\":{},\"id\":\"2310\",\"type\":\"AllLabels\"},{\"attributes\":{},\"id\":\"2456\",\"type\":\"NoOverlap\"},{\"attributes\":{},\"id\":\"2313\",\"type\":\"AllLabels\"},{\"attributes\":{\"axis\":{\"id\":\"2334\"},\"coordinates\":null,\"dimension\":1,\"grid_line_color\":null,\"group\":null,\"ticker\":null},\"id\":\"2337\",\"type\":\"Grid\"},{\"attributes\":{\"callback\":null,\"renderers\":[{\"id\":\"2255\"}],\"tags\":[\"hv_created\"],\"tooltips\":[[\"Number of Clusters (k)\",\"@{Number_of_Clusters_left_parenthesis_k_right_parenthesis}\"],[\"Inertia\",\"@{Inertia}\"]]},\"id\":\"2218\",\"type\":\"HoverTool\"},{\"attributes\":{},\"id\":\"2259\",\"type\":\"BasicTickFormatter\"},{\"attributes\":{\"data\":{\"Cluster\":{\"__ndarray__\":\"AAAAAAAAAAADAAAAAwAAAAAAAAAAAAAAAAAAAAAAAAAAAAAAAwAAAAMAAAADAAAAAwAAAAAAAAADAAAAAAAAAAMAAAADAAAAAAAAAAMAAAADAAAAAAAAAAMAAAADAAAAAwAAAAMAAAADAAAAAwAAAAAAAAADAAAAAwAAAAMAAAABAAAAAAAAAAMAAAADAAAAAgAAAAMAAAADAAAAAwAAAAMAAAA=\",\"dtype\":\"int32\",\"order\":\"little\",\"shape\":[41]},\"color\":{\"__ndarray__\":\"AAAAAAAAAAADAAAAAwAAAAAAAAAAAAAAAAAAAAAAAAAAAAAAAwAAAAMAAAADAAAAAwAAAAAAAAADAAAAAAAAAAMAAAADAAAAAAAAAAMAAAADAAAAAAAAAAMAAAADAAAAAwAAAAMAAAADAAAAAwAAAAAAAAADAAAAAwAAAAMAAAABAAAAAAAAAAMAAAADAAAAAgAAAAMAAAADAAAAAwAAAAMAAAA=\",\"dtype\":\"int32\",\"order\":\"little\",\"shape\":[41]},\"crypto_name\":[\"bitcoin\",\"ethereum\",\"tether\",\"ripple\",\"bitcoin-cash\",\"binancecoin\",\"chainlink\",\"cardano\",\"litecoin\",\"bitcoin-cash-sv\",\"crypto-com-chain\",\"usd-coin\",\"eos\",\"monero\",\"tron\",\"tezos\",\"okb\",\"stellar\",\"cosmos\",\"cdai\",\"neo\",\"wrapped-bitcoin\",\"leo-token\",\"huobi-token\",\"nem\",\"binance-usd\",\"iota\",\"vechain\",\"zcash\",\"theta-token\",\"dash\",\"ethereum-classic\",\"ethlend\",\"maker\",\"havven\",\"omisego\",\"celsius-degree-token\",\"ontology\",\"ftx-token\",\"true-usd\",\"digibyte\"],\"price_change_percentage_24h\":{\"__ndarray__\":\"DdlqYN9F4D86azDosLzHP5giRdTpS5Y/5iURtxHfpL8wCyMArRbzP/cOjHA0iuw/1QxzqW9Xhz8zBL2hZD+6P0nbN/ba1rM/WpkZGJ+73D/+slcesDPVP/IxOp6elqE/H2STd0ruwz9Epj8/c9DQPxk0XoR2pcA/jEB40RVnw790fnl54Irtv9XPDahDw9G/qq8st/Fh0L/5U5ZBISbHP6Slu6TDVtI/BVlpN5h+4D+njODODoCqPwXDDo/fo6q/woaukuXmy79od0yHwmevP8HhEPEMldA/ypmU5gu54j+sKNPN2lDAv1YH9WGFy/m/N7JuVBEB07/EU4GAhEGyv91nhz6W7BPA/ACFOIMFwL/DnH9IcNv2v5azwSWNt/4/VLqXBn668D/IKcQzxy3av5WrmDyeito/Bf22eE/6sz9Y362Ir3rzPw==\",\"dtype\":\"float64\",\"order\":\"little\",\"shape\":[41]},\"price_change_percentage_7d\":{\"__ndarray__\":\"U1k8q3mQ3z9yoPpI+ebtP22UiL5Pmua/Ubo8ah/z6b8wAdnT9gEAQIJpDjGZPPU/BTbpSPiTBEAmUWkixiD4P/OMI2gdZdU/DZTtp1doyL936vtUZtb5v0QZLH/ydOe/it8GjguF7b8rMp3jf678PwRAcFxBAKW/ZWZRGoqp5j8Udj8VbP/2vySelkVDp9i/XK6ZksNx/T/tJm9WzI7mvy674lUf4tS/Q3zKstaO3T84jfoETLXtv6NqpXs9Q92/wrTyyiEu678mI2rMB53mv1Euo6Hk788/3UZrgr7Q778kzwwdV7vtP/9TV66U6fq/ZWX+mWVCuD8GJ0pHuV/Nv3SFotqbIae/srW7TleV4j/JyBNmVh+av008Y/5ntdc/Nv03JFjJ47+Htdvf1gXtv2Avihmzf9o/e31xtwIC5r/STlu6Y3Ljvw==\",\"dtype\":\"float64\",\"order\":\"little\",\"shape\":[41]}},\"selected\":{\"id\":\"2353\"},\"selection_policy\":{\"id\":\"2460\"}},\"id\":\"2352\",\"type\":\"ColumnDataSource\"},{\"attributes\":{\"axis_label\":\"price_change_percentage_7d\",\"coordinates\":null,\"formatter\":{\"id\":\"2368\"},\"group\":null,\"major_label_policy\":{\"id\":\"2369\"},\"ticker\":{\"id\":\"2335\"}},\"id\":\"2334\",\"type\":\"LinearAxis\"},{\"attributes\":{},\"id\":\"2460\",\"type\":\"UnionRenderers\"},{\"attributes\":{\"active_drag\":{\"id\":\"2395\"},\"active_scroll\":{\"id\":\"2396\"},\"tools\":[{\"id\":\"2376\"},{\"id\":\"2394\"},{\"id\":\"2395\"},{\"id\":\"2396\"},{\"id\":\"2397\"},{\"id\":\"2398\"}]},\"id\":\"2400\",\"type\":\"Toolbar\"},{\"attributes\":{},\"id\":\"2339\",\"type\":\"PanTool\"},{\"attributes\":{\"data\":{\"PC1\":{\"__ndarray__\":\"//TQrqo447+Z0e2+JFTdv06WfGpqt9u/Q2F8Nosy3r8eE49DWYbyv8TSCdRxh+C/u1pHYHTY3L+o/cd7Th7Wv39tTPNwyOS/6/Jrm9dJ6L/L/HOg98TPv5qH9NfeDty/sBkZU4ow5r9pv0+KvvmuP5FMI6evLNm/wjHFU0V66b87ArsJMGewPx+zldMFTN+/ds6LH/eZ078Z6SrB0W7gv1sXiTH7LNe/pt1vxyJW47/tEjtnb3Pav+gRKLozFNq/qWXZqrZ84z/9TdZjQtDcv7HYvTIjeOi/bbLvblTN4b8i8+bQmjXbv+xGFZE5agVAvyC8UEGl47/RvuS6vI7ivzxVosuTLSBAnUmjFh7m2L/jCSsnUrTrP6aTuv+8lrw/hRQ7s2krE0D/XMBgQDzkv5cbmkYF++K/Ir1JmQJS3b8T4q/49hDTvw==\",\"dtype\":\"float64\",\"order\":\"little\",\"shape\":[41]},\"PC2\":{\"__ndarray__\":\"ugJY8+P36j+QP81egFfdPwXRe08qhcW/UI9VGiCAzL+yRDd7ZVQAQHykcU7LNvY/u2TwvP2Q4D+RxP1IkVfnP5gtO/eXqNs/1eDMJurAyb/BOhRjIAX2vz5mxoRtcca/6cggkvpS3r+S9tOGdUYHQNEqtCB4sru/HqSem2Sk379tgFApNFH0v+egJl5vcue/c0Nue2CC5j9JkppKWUfCv5uIS4bNlO+/eQsYmwp66j9D+cMuWpLlv1Dd4x5qM8u/hxdkhXQI4j/rLSH9mlTDvwDrhbGEkuC/PW24gOcC/7/7dLLu64zfPzScJoz3k4y/So8PRXSt3r/A3rYoLM7Wv7AN8PHULA/Ay0ntLg0gxT9y/tbKVRgCwAIiKIaGads/AlrQWxoSG0A3qFKDbN0AwI8T7msnAJY/1/Stmbtfwb+wR/DBzXbIvw==\",\"dtype\":\"float64\",\"order\":\"little\",\"shape\":[41]},\"Predicted_Cluster\":{\"__ndarray__\":\"AAAAAAAAAAADAAAAAwAAAAAAAAAAAAAAAAAAAAAAAAAAAAAAAwAAAAMAAAADAAAAAwAAAAAAAAADAAAAAAAAAAMAAAADAAAAAAAAAAMAAAADAAAAAAAAAAMAAAADAAAAAwAAAAMAAAADAAAAAwAAAAAAAAADAAAAAwAAAAMAAAABAAAAAAAAAAMAAAADAAAAAgAAAAMAAAADAAAAAwAAAAMAAAA=\",\"dtype\":\"int32\",\"order\":\"little\",\"shape\":[41]},\"color\":{\"__ndarray__\":\"AAAAAAAAAAADAAAAAwAAAAAAAAAAAAAAAAAAAAAAAAAAAAAAAwAAAAMAAAADAAAAAwAAAAAAAAADAAAAAAAAAAMAAAADAAAAAAAAAAMAAAADAAAAAAAAAAMAAAADAAAAAwAAAAMAAAADAAAAAwAAAAAAAAADAAAAAwAAAAMAAAABAAAAAAAAAAMAAAADAAAAAgAAAAMAAAADAAAAAwAAAAMAAAA=\",\"dtype\":\"int32\",\"order\":\"little\",\"shape\":[41]},\"crypto_name\":[\"bitcoin\",\"ethereum\",\"tether\",\"ripple\",\"bitcoin-cash\",\"binancecoin\",\"chainlink\",\"cardano\",\"litecoin\",\"bitcoin-cash-sv\",\"crypto-com-chain\",\"usd-coin\",\"eos\",\"monero\",\"tron\",\"tezos\",\"okb\",\"stellar\",\"cosmos\",\"cdai\",\"neo\",\"wrapped-bitcoin\",\"leo-token\",\"huobi-token\",\"nem\",\"binance-usd\",\"iota\",\"vechain\",\"zcash\",\"theta-token\",\"dash\",\"ethereum-classic\",\"ethlend\",\"maker\",\"havven\",\"omisego\",\"celsius-degree-token\",\"ontology\",\"ftx-token\",\"true-usd\",\"digibyte\"]},\"selected\":{\"id\":\"2409\"},\"selection_policy\":{\"id\":\"2472\"}},\"id\":\"2408\",\"type\":\"ColumnDataSource\"},{\"attributes\":{},\"id\":\"2340\",\"type\":\"WheelZoomTool\"},{\"attributes\":{\"children\":[[{\"id\":\"2219\"},0,0],[{\"id\":\"2269\"},0,1],[{\"id\":\"2321\"},1,0],[{\"id\":\"2377\"},1,1]]},\"id\":\"2476\",\"type\":\"GridBox\"},{\"attributes\":{\"fill_color\":{\"field\":\"color\",\"transform\":{\"id\":\"2351\"}},\"hatch_color\":{\"field\":\"color\",\"transform\":{\"id\":\"2351\"}},\"line_color\":{\"field\":\"color\",\"transform\":{\"id\":\"2351\"}},\"size\":{\"value\":5.477225575051661},\"x\":{\"field\":\"price_change_percentage_24h\"},\"y\":{\"field\":\"price_change_percentage_7d\"}},\"id\":\"2355\",\"type\":\"Scatter\"},{\"attributes\":{\"toolbar\":{\"id\":\"2477\"},\"toolbar_location\":\"above\"},\"id\":\"2478\",\"type\":\"ToolbarBox\"},{\"attributes\":{\"children\":[{\"id\":\"2478\"},{\"id\":\"2476\"}]},\"id\":\"2479\",\"type\":\"Column\"},{\"attributes\":{},\"id\":\"2338\",\"type\":\"SaveTool\"},{\"attributes\":{\"bottom_units\":\"screen\",\"coordinates\":null,\"fill_alpha\":0.5,\"fill_color\":\"lightgrey\",\"group\":null,\"left_units\":\"screen\",\"level\":\"overlay\",\"line_alpha\":1.0,\"line_color\":\"black\",\"line_dash\":[4,4],\"line_width\":2,\"right_units\":\"screen\",\"syncable\":false,\"top_units\":\"screen\"},\"id\":\"2343\",\"type\":\"BoxAnnotation\"},{\"attributes\":{\"coordinates\":null,\"group\":null,\"text\":\"Cluster Plot (Original Data)\",\"text_color\":\"black\",\"text_font_size\":\"12pt\"},\"id\":\"2322\",\"type\":\"Title\"},{\"attributes\":{\"overlay\":{\"id\":\"2343\"}},\"id\":\"2341\",\"type\":\"BoxZoomTool\"},{\"attributes\":{\"end\":314.89925819332694,\"reset_end\":314.89925819332694,\"reset_start\":-19.891840126596342,\"start\":-19.891840126596342,\"tags\":[[[\"Inertia\",\"Inertia\",null]]]},\"id\":\"2217\",\"type\":\"Range1d\"},{\"attributes\":{},\"id\":\"2326\",\"type\":\"LinearScale\"},{\"attributes\":{},\"id\":\"2335\",\"type\":\"BasicTicker\"},{\"attributes\":{\"end\":11.0,\"reset_end\":11.0,\"reset_start\":1.0,\"start\":1.0,\"tags\":[[[\"Number of Clusters (k)\",\"Number of Clusters (k)\",null]]]},\"id\":\"2216\",\"type\":\"Range1d\"},{\"attributes\":{\"fill_color\":{\"field\":\"color\",\"transform\":{\"id\":\"2407\"}},\"hatch_color\":{\"field\":\"color\",\"transform\":{\"id\":\"2407\"}},\"line_color\":{\"field\":\"color\",\"transform\":{\"id\":\"2407\"}},\"size\":{\"value\":5.477225575051661},\"x\":{\"field\":\"PC1\"},\"y\":{\"field\":\"PC2\"}},\"id\":\"2413\",\"type\":\"Scatter\"},{\"attributes\":{\"below\":[{\"id\":\"2228\"}],\"center\":[{\"id\":\"2231\"},{\"id\":\"2235\"}],\"height\":300,\"left\":[{\"id\":\"2232\"}],\"margin\":null,\"min_border_bottom\":10,\"min_border_left\":10,\"min_border_right\":10,\"min_border_top\":10,\"renderers\":[{\"id\":\"2255\"}],\"sizing_mode\":\"fixed\",\"title\":{\"id\":\"2220\"},\"toolbar\":{\"id\":\"2242\"},\"toolbar_location\":null,\"width\":700,\"x_range\":{\"id\":\"2216\"},\"x_scale\":{\"id\":\"2224\"},\"y_range\":{\"id\":\"2217\"},\"y_scale\":{\"id\":\"2226\"}},\"id\":\"2219\",\"subtype\":\"Figure\",\"type\":\"Plot\"},{\"attributes\":{\"bar_line_color\":\"black\",\"color_mapper\":{\"id\":\"2351\"},\"coordinates\":null,\"group\":null,\"label_standoff\":8,\"location\":[0,0],\"major_label_policy\":{\"id\":\"2456\"},\"major_tick_line_color\":\"black\",\"ticker\":{\"id\":\"2362\"}},\"id\":\"2363\",\"type\":\"ColorBar\"},{\"attributes\":{},\"id\":\"2226\",\"type\":\"LinearScale\"},{\"attributes\":{},\"id\":\"2342\",\"type\":\"ResetTool\"},{\"attributes\":{},\"id\":\"2224\",\"type\":\"LinearScale\"},{\"attributes\":{},\"id\":\"2237\",\"type\":\"PanTool\"},{\"attributes\":{\"coordinates\":null,\"group\":null,\"text\":\"Elbow Curve (Original Data)\",\"text_color\":\"black\",\"text_font_size\":\"12pt\"},\"id\":\"2220\",\"type\":\"Title\"},{\"attributes\":{\"axis\":{\"id\":\"2228\"},\"coordinates\":null,\"grid_line_color\":null,\"group\":null,\"ticker\":null},\"id\":\"2231\",\"type\":\"Grid\"},{\"attributes\":{},\"id\":\"2437\",\"type\":\"UnionRenderers\"},{\"attributes\":{\"axis_label\":\"Number of Clusters (k)\",\"coordinates\":null,\"formatter\":{\"id\":\"2259\"},\"group\":null,\"major_label_policy\":{\"id\":\"2260\"},\"ticker\":{\"id\":\"2229\"}},\"id\":\"2228\",\"type\":\"LinearAxis\"},{\"attributes\":{\"callback\":null,\"renderers\":[{\"id\":\"2416\"}],\"tags\":[\"hv_created\"],\"tooltips\":[[\"PC1\",\"@{PC1}\"],[\"PC2\",\"@{PC2}\"],[\"Predicted_Cluster\",\"@{Predicted_Cluster}\"],[\"crypto_name\",\"@{crypto_name}\"]]},\"id\":\"2376\",\"type\":\"HoverTool\"},{\"attributes\":{},\"id\":\"2229\",\"type\":\"BasicTicker\"},{\"attributes\":{\"coordinates\":null,\"group\":null,\"text\":\"Cluster Plot (PCA Data)\",\"text_color\":\"black\",\"text_font_size\":\"12pt\"},\"id\":\"2378\",\"type\":\"Title\"},{\"attributes\":{\"axis_label\":\"Inertia\",\"coordinates\":null,\"formatter\":{\"id\":\"2262\"},\"group\":null,\"major_label_policy\":{\"id\":\"2263\"},\"ticker\":{\"id\":\"2233\"}},\"id\":\"2232\",\"type\":\"LinearAxis\"},{\"attributes\":{\"end\":2.997678656273595,\"reset_end\":2.997678656273595,\"reset_start\":-2.107454305728652,\"start\":-2.107454305728652,\"tags\":[[[\"price_change_percentage_7d\",\"price_change_percentage_7d\",null]]]},\"id\":\"2319\",\"type\":\"Range1d\"},{\"attributes\":{\"axis\":{\"id\":\"2232\"},\"coordinates\":null,\"dimension\":1,\"grid_line_color\":null,\"group\":null,\"ticker\":null},\"id\":\"2235\",\"type\":\"Grid\"},{\"attributes\":{\"end\":2.2155632386560065,\"reset_end\":2.2155632386560065,\"reset_start\":-5.276792781891412,\"start\":-5.276792781891412,\"tags\":[[[\"price_change_percentage_24h\",\"price_change_percentage_24h\",null]]]},\"id\":\"2318\",\"type\":\"Range1d\"},{\"attributes\":{},\"id\":\"2233\",\"type\":\"BasicTicker\"},{\"attributes\":{},\"id\":\"2238\",\"type\":\"WheelZoomTool\"},{\"attributes\":{},\"id\":\"2236\",\"type\":\"SaveTool\"},{\"attributes\":{\"overlay\":{\"id\":\"2241\"}},\"id\":\"2239\",\"type\":\"BoxZoomTool\"},{\"attributes\":{\"high\":3,\"low\":0,\"palette\":[\"#1f77b4\",\"#1f77b4\",\"#1f77b4\",\"#1f77b4\",\"#1f77b4\",\"#1f77b4\",\"#1f77b4\",\"#1f77b4\",\"#1f77b4\",\"#1f77b4\",\"#1f77b4\",\"#1f77b4\",\"#1f77b4\",\"#aec7e8\",\"#aec7e8\",\"#aec7e8\",\"#aec7e8\",\"#aec7e8\",\"#aec7e8\",\"#aec7e8\",\"#aec7e8\",\"#aec7e8\",\"#aec7e8\",\"#aec7e8\",\"#aec7e8\",\"#aec7e8\",\"#ff7f0e\",\"#ff7f0e\",\"#ff7f0e\",\"#ff7f0e\",\"#ff7f0e\",\"#ff7f0e\",\"#ff7f0e\",\"#ff7f0e\",\"#ff7f0e\",\"#ff7f0e\",\"#ff7f0e\",\"#ff7f0e\",\"#ff7f0e\",\"#ffbb78\",\"#ffbb78\",\"#ffbb78\",\"#ffbb78\",\"#ffbb78\",\"#ffbb78\",\"#ffbb78\",\"#ffbb78\",\"#ffbb78\",\"#ffbb78\",\"#ffbb78\",\"#ffbb78\",\"#ffbb78\",\"#2ca02c\",\"#2ca02c\",\"#2ca02c\",\"#2ca02c\",\"#2ca02c\",\"#2ca02c\",\"#2ca02c\",\"#2ca02c\",\"#2ca02c\",\"#2ca02c\",\"#2ca02c\",\"#2ca02c\",\"#98df8a\",\"#98df8a\",\"#98df8a\",\"#98df8a\",\"#98df8a\",\"#98df8a\",\"#98df8a\",\"#98df8a\",\"#98df8a\",\"#98df8a\",\"#98df8a\",\"#98df8a\",\"#98df8a\",\"#d62728\",\"#d62728\",\"#d62728\",\"#d62728\",\"#d62728\",\"#d62728\",\"#d62728\",\"#d62728\",\"#d62728\",\"#d62728\",\"#d62728\",\"#d62728\",\"#d62728\",\"#ff9896\",\"#ff9896\",\"#ff9896\",\"#ff9896\",\"#ff9896\",\"#ff9896\",\"#ff9896\",\"#ff9896\",\"#ff9896\",\"#ff9896\",\"#ff9896\",\"#ff9896\",\"#ff9896\",\"#9467bd\",\"#9467bd\",\"#9467bd\",\"#9467bd\",\"#9467bd\",\"#9467bd\",\"#9467bd\",\"#9467bd\",\"#9467bd\",\"#9467bd\",\"#9467bd\",\"#9467bd\",\"#c5b0d5\",\"#c5b0d5\",\"#c5b0d5\",\"#c5b0d5\",\"#c5b0d5\",\"#c5b0d5\",\"#c5b0d5\",\"#c5b0d5\",\"#c5b0d5\",\"#c5b0d5\",\"#c5b0d5\",\"#c5b0d5\",\"#c5b0d5\",\"#8c564b\",\"#8c564b\",\"#8c564b\",\"#8c564b\",\"#8c564b\",\"#8c564b\",\"#8c564b\",\"#8c564b\",\"#8c564b\",\"#8c564b\",\"#8c564b\",\"#8c564b\",\"#8c564b\",\"#c49c94\",\"#c49c94\",\"#c49c94\",\"#c49c94\",\"#c49c94\",\"#c49c94\",\"#c49c94\",\"#c49c94\",\"#c49c94\",\"#c49c94\",\"#c49c94\",\"#c49c94\",\"#c49c94\",\"#e377c2\",\"#e377c2\",\"#e377c2\",\"#e377c2\",\"#e377c2\",\"#e377c2\",\"#e377c2\",\"#e377c2\",\"#e377c2\",\"#e377c2\",\"#e377c2\",\"#e377c2\",\"#f7b6d2\",\"#f7b6d2\",\"#f7b6d2\",\"#f7b6d2\",\"#f7b6d2\",\"#f7b6d2\",\"#f7b6d2\",\"#f7b6d2\",\"#f7b6d2\",\"#f7b6d2\",\"#f7b6d2\",\"#f7b6d2\",\"#f7b6d2\",\"#7f7f7f\",\"#7f7f7f\",\"#7f7f7f\",\"#7f7f7f\",\"#7f7f7f\",\"#7f7f7f\",\"#7f7f7f\",\"#7f7f7f\",\"#7f7f7f\",\"#7f7f7f\",\"#7f7f7f\",\"#7f7f7f\",\"#7f7f7f\",\"#c7c7c7\",\"#c7c7c7\",\"#c7c7c7\",\"#c7c7c7\",\"#c7c7c7\",\"#c7c7c7\",\"#c7c7c7\",\"#c7c7c7\",\"#c7c7c7\",\"#c7c7c7\",\"#c7c7c7\",\"#c7c7c7\",\"#c7c7c7\",\"#bcbd22\",\"#bcbd22\",\"#bcbd22\",\"#bcbd22\",\"#bcbd22\",\"#bcbd22\",\"#bcbd22\",\"#bcbd22\",\"#bcbd22\",\"#bcbd22\",\"#bcbd22\",\"#bcbd22\",\"#dbdb8d\",\"#dbdb8d\",\"#dbdb8d\",\"#dbdb8d\",\"#dbdb8d\",\"#dbdb8d\",\"#dbdb8d\",\"#dbdb8d\",\"#dbdb8d\",\"#dbdb8d\",\"#dbdb8d\",\"#dbdb8d\",\"#dbdb8d\",\"#17becf\",\"#17becf\",\"#17becf\",\"#17becf\",\"#17becf\",\"#17becf\",\"#17becf\",\"#17becf\",\"#17becf\",\"#17becf\",\"#17becf\",\"#17becf\",\"#17becf\",\"#9edae5\",\"#9edae5\",\"#9edae5\",\"#9edae5\",\"#9edae5\",\"#9edae5\",\"#9edae5\",\"#9edae5\",\"#9edae5\",\"#9edae5\",\"#9edae5\",\"#9edae5\",\"#9edae5\"]},\"id\":\"2351\",\"type\":\"LinearColorMapper\"},{\"attributes\":{\"axis\":{\"id\":\"2330\"},\"coordinates\":null,\"grid_line_color\":null,\"group\":null,\"ticker\":null},\"id\":\"2333\",\"type\":\"Grid\"},{\"attributes\":{},\"id\":\"2240\",\"type\":\"ResetTool\"},{\"attributes\":{\"axis_label\":\"price_change_percentage_24h\",\"coordinates\":null,\"formatter\":{\"id\":\"2365\"},\"group\":null,\"major_label_policy\":{\"id\":\"2366\"},\"ticker\":{\"id\":\"2331\"}},\"id\":\"2330\",\"type\":\"LinearAxis\"},{\"attributes\":{\"end\":8.485310422788704,\"reset_end\":8.485310422788704,\"reset_start\":-1.5540921804637438,\"start\":-1.5540921804637438,\"tags\":[[[\"PC1\",\"PC1\",null]]]},\"id\":\"2374\",\"type\":\"Range1d\"},{\"attributes\":{},\"id\":\"2366\",\"type\":\"AllLabels\"},{\"attributes\":{\"bottom_units\":\"screen\",\"coordinates\":null,\"fill_alpha\":0.5,\"fill_color\":\"lightgrey\",\"group\":null,\"left_units\":\"screen\",\"level\":\"overlay\",\"line_alpha\":1.0,\"line_color\":\"black\",\"line_dash\":[4,4],\"line_width\":2,\"right_units\":\"screen\",\"syncable\":false,\"top_units\":\"screen\"},\"id\":\"2241\",\"type\":\"BoxAnnotation\"},{\"attributes\":{\"coordinates\":null,\"data_source\":{\"id\":\"2249\"},\"glyph\":{\"id\":\"2252\"},\"group\":null,\"hover_glyph\":null,\"muted_glyph\":{\"id\":\"2254\"},\"nonselection_glyph\":{\"id\":\"2253\"},\"selection_glyph\":{\"id\":\"2257\"},\"view\":{\"id\":\"2256\"}},\"id\":\"2255\",\"type\":\"GlyphRenderer\"},{\"attributes\":{\"line_alpha\":0.1,\"line_color\":\"#30a2da\",\"line_width\":2,\"x\":{\"field\":\"Number of Clusters (k)\"},\"y\":{\"field\":\"Inertia\"}},\"id\":\"2253\",\"type\":\"Line\"},{\"attributes\":{\"below\":[{\"id\":\"2330\"}],\"center\":[{\"id\":\"2333\"},{\"id\":\"2337\"}],\"height\":300,\"left\":[{\"id\":\"2334\"}],\"margin\":null,\"min_border_bottom\":10,\"min_border_left\":10,\"min_border_right\":10,\"min_border_top\":10,\"renderers\":[{\"id\":\"2360\"}],\"right\":[{\"id\":\"2363\"}],\"sizing_mode\":\"fixed\",\"title\":{\"id\":\"2322\"},\"toolbar\":{\"id\":\"2344\"},\"toolbar_location\":null,\"width\":700,\"x_range\":{\"id\":\"2318\"},\"x_scale\":{\"id\":\"2326\"},\"y_range\":{\"id\":\"2319\"},\"y_scale\":{\"id\":\"2328\"}},\"id\":\"2321\",\"subtype\":\"Figure\",\"type\":\"Plot\"},{\"attributes\":{},\"id\":\"2250\",\"type\":\"Selection\"},{\"attributes\":{},\"id\":\"2328\",\"type\":\"LinearScale\"},{\"attributes\":{},\"id\":\"2331\",\"type\":\"BasicTicker\"},{\"attributes\":{\"line_alpha\":0.2,\"line_color\":\"#30a2da\",\"line_width\":2,\"x\":{\"field\":\"Number of Clusters (k)\"},\"y\":{\"field\":\"Inertia\"}},\"id\":\"2254\",\"type\":\"Line\"},{\"attributes\":{\"active_drag\":{\"id\":\"2287\"},\"active_scroll\":{\"id\":\"2288\"},\"tools\":[{\"id\":\"2268\"},{\"id\":\"2286\"},{\"id\":\"2287\"},{\"id\":\"2288\"},{\"id\":\"2289\"},{\"id\":\"2290\"}]},\"id\":\"2292\",\"type\":\"Toolbar\"},{\"attributes\":{\"callback\":null,\"renderers\":[{\"id\":\"2305\"}],\"tags\":[\"hv_created\"],\"tooltips\":[[\"Number of Clusters (k)\",\"@{Number_of_Clusters_left_parenthesis_k_right_parenthesis}\"],[\"Inertia\",\"@{Inertia}\"]]},\"id\":\"2268\",\"type\":\"HoverTool\"},{\"attributes\":{},\"id\":\"2260\",\"type\":\"AllLabels\"},{\"attributes\":{\"line_color\":\"#30a2da\",\"line_width\":2,\"x\":{\"field\":\"Number of Clusters (k)\"},\"y\":{\"field\":\"Inertia\"}},\"id\":\"2302\",\"type\":\"Line\"},{\"attributes\":{},\"id\":\"2368\",\"type\":\"BasicTickFormatter\"},{\"attributes\":{\"source\":{\"id\":\"2299\"}},\"id\":\"2306\",\"type\":\"CDSView\"},{\"attributes\":{},\"id\":\"2387\",\"type\":\"BasicTicker\"},{\"attributes\":{},\"id\":\"2384\",\"type\":\"LinearScale\"},{\"attributes\":{},\"id\":\"2382\",\"type\":\"LinearScale\"},{\"attributes\":{},\"id\":\"2263\",\"type\":\"AllLabels\"},{\"attributes\":{},\"id\":\"2395\",\"type\":\"PanTool\"},{\"attributes\":{\"axis_label\":\"PC1\",\"coordinates\":null,\"formatter\":{\"id\":\"2421\"},\"group\":null,\"major_label_policy\":{\"id\":\"2422\"},\"ticker\":{\"id\":\"2387\"}},\"id\":\"2386\",\"type\":\"LinearAxis\"},{\"attributes\":{\"children\":[{\"id\":\"2479\"}],\"margin\":[0,0,0,0],\"name\":\"Row02302\",\"tags\":[\"embedded\"]},\"id\":\"2215\",\"type\":\"Row\"},{\"attributes\":{\"toolbars\":[{\"id\":\"2242\"},{\"id\":\"2292\"},{\"id\":\"2344\"},{\"id\":\"2400\"}],\"tools\":[{\"id\":\"2218\"},{\"id\":\"2236\"},{\"id\":\"2237\"},{\"id\":\"2238\"},{\"id\":\"2239\"},{\"id\":\"2240\"},{\"id\":\"2268\"},{\"id\":\"2286\"},{\"id\":\"2287\"},{\"id\":\"2288\"},{\"id\":\"2289\"},{\"id\":\"2290\"},{\"id\":\"2320\"},{\"id\":\"2338\"},{\"id\":\"2339\"},{\"id\":\"2340\"},{\"id\":\"2341\"},{\"id\":\"2342\"},{\"id\":\"2376\"},{\"id\":\"2394\"},{\"id\":\"2395\"},{\"id\":\"2396\"},{\"id\":\"2397\"},{\"id\":\"2398\"}]},\"id\":\"2477\",\"type\":\"ProxyToolbar\"},{\"attributes\":{\"axis\":{\"id\":\"2386\"},\"coordinates\":null,\"grid_line_color\":null,\"group\":null,\"ticker\":null},\"id\":\"2389\",\"type\":\"Grid\"},{\"attributes\":{\"fill_alpha\":{\"value\":0.1},\"fill_color\":{\"field\":\"color\",\"transform\":{\"id\":\"2351\"}},\"hatch_alpha\":{\"value\":0.1},\"hatch_color\":{\"field\":\"color\",\"transform\":{\"id\":\"2351\"}},\"line_alpha\":{\"value\":0.1},\"line_color\":{\"field\":\"color\",\"transform\":{\"id\":\"2351\"}},\"size\":{\"value\":5.477225575051661},\"x\":{\"field\":\"price_change_percentage_24h\"},\"y\":{\"field\":\"price_change_percentage_7d\"}},\"id\":\"2356\",\"type\":\"Scatter\"},{\"attributes\":{\"below\":[{\"id\":\"2386\"}],\"center\":[{\"id\":\"2389\"},{\"id\":\"2393\"}],\"height\":300,\"left\":[{\"id\":\"2390\"}],\"margin\":null,\"min_border_bottom\":10,\"min_border_left\":10,\"min_border_right\":10,\"min_border_top\":10,\"renderers\":[{\"id\":\"2416\"}],\"right\":[{\"id\":\"2419\"}],\"sizing_mode\":\"fixed\",\"title\":{\"id\":\"2378\"},\"toolbar\":{\"id\":\"2400\"},\"toolbar_location\":null,\"width\":700,\"x_range\":{\"id\":\"2374\"},\"x_scale\":{\"id\":\"2382\"},\"y_range\":{\"id\":\"2375\"},\"y_scale\":{\"id\":\"2384\"}},\"id\":\"2377\",\"subtype\":\"Figure\",\"type\":\"Plot\"},{\"attributes\":{},\"id\":\"2365\",\"type\":\"BasicTickFormatter\"},{\"attributes\":{\"below\":[{\"id\":\"2278\"}],\"center\":[{\"id\":\"2281\"},{\"id\":\"2285\"}],\"height\":300,\"left\":[{\"id\":\"2282\"}],\"margin\":null,\"min_border_bottom\":10,\"min_border_left\":10,\"min_border_right\":10,\"min_border_top\":10,\"renderers\":[{\"id\":\"2305\"}],\"sizing_mode\":\"fixed\",\"title\":{\"id\":\"2270\"},\"toolbar\":{\"id\":\"2292\"},\"toolbar_location\":null,\"width\":700,\"x_range\":{\"id\":\"2216\"},\"x_scale\":{\"id\":\"2274\"},\"y_range\":{\"id\":\"2217\"},\"y_scale\":{\"id\":\"2276\"}},\"id\":\"2269\",\"subtype\":\"Figure\",\"type\":\"Plot\"},{\"attributes\":{},\"id\":\"2262\",\"type\":\"BasicTickFormatter\"},{\"attributes\":{},\"id\":\"2369\",\"type\":\"AllLabels\"},{\"attributes\":{},\"id\":\"2274\",\"type\":\"LinearScale\"},{\"attributes\":{\"axis_label\":\"PC2\",\"coordinates\":null,\"formatter\":{\"id\":\"2424\"},\"group\":null,\"major_label_policy\":{\"id\":\"2425\"},\"ticker\":{\"id\":\"2391\"}},\"id\":\"2390\",\"type\":\"LinearAxis\"},{\"attributes\":{\"axis\":{\"id\":\"2390\"},\"coordinates\":null,\"dimension\":1,\"grid_line_color\":null,\"group\":null,\"ticker\":null},\"id\":\"2393\",\"type\":\"Grid\"},{\"attributes\":{},\"id\":\"2391\",\"type\":\"BasicTicker\"},{\"attributes\":{},\"id\":\"2396\",\"type\":\"WheelZoomTool\"},{\"attributes\":{\"active_drag\":{\"id\":\"2237\"},\"active_scroll\":{\"id\":\"2238\"},\"tools\":[{\"id\":\"2218\"},{\"id\":\"2236\"},{\"id\":\"2237\"},{\"id\":\"2238\"},{\"id\":\"2239\"},{\"id\":\"2240\"}]},\"id\":\"2242\",\"type\":\"Toolbar\"},{\"attributes\":{},\"id\":\"2394\",\"type\":\"SaveTool\"},{\"attributes\":{\"overlay\":{\"id\":\"2399\"}},\"id\":\"2397\",\"type\":\"BoxZoomTool\"},{\"attributes\":{},\"id\":\"2398\",\"type\":\"ResetTool\"},{\"attributes\":{\"line_color\":\"#30a2da\",\"line_width\":2,\"x\":{\"field\":\"Number of Clusters (k)\"},\"y\":{\"field\":\"Inertia\"}},\"id\":\"2257\",\"type\":\"Line\"},{\"attributes\":{},\"id\":\"2448\",\"type\":\"UnionRenderers\"},{\"attributes\":{\"source\":{\"id\":\"2249\"}},\"id\":\"2256\",\"type\":\"CDSView\"},{\"attributes\":{\"bottom_units\":\"screen\",\"coordinates\":null,\"fill_alpha\":0.5,\"fill_color\":\"lightgrey\",\"group\":null,\"left_units\":\"screen\",\"level\":\"overlay\",\"line_alpha\":1.0,\"line_color\":\"black\",\"line_dash\":[4,4],\"line_width\":2,\"right_units\":\"screen\",\"syncable\":false,\"top_units\":\"screen\"},\"id\":\"2399\",\"type\":\"BoxAnnotation\"},{\"attributes\":{\"data\":{\"Inertia\":{\"__ndarray__\":\"EgAmQfwNcEBLVJAi3bxkQPgsl3eTcVdAnIiJ/i7VSEDZFmXIevBCQINsYu90njtAYuYhZsouNUBPtBt0y2MxQDqoTfHyLytApO9NHWQeJUDRAwRNzAMgQA==\",\"dtype\":\"float64\",\"order\":\"little\",\"shape\":[11]},\"Number of Clusters (k)\":[1,2,3,4,5,6,7,8,9,10,11],\"Number_of_Clusters_left_parenthesis_k_right_parenthesis\":[1,2,3,4,5,6,7,8,9,10,11]},\"selected\":{\"id\":\"2300\"},\"selection_policy\":{\"id\":\"2448\"}},\"id\":\"2299\",\"type\":\"ColumnDataSource\"},{\"attributes\":{\"source\":{\"id\":\"2352\"}},\"id\":\"2361\",\"type\":\"CDSView\"},{\"attributes\":{\"fill_alpha\":{\"value\":0.1},\"fill_color\":{\"field\":\"color\",\"transform\":{\"id\":\"2407\"}},\"hatch_alpha\":{\"value\":0.1},\"hatch_color\":{\"field\":\"color\",\"transform\":{\"id\":\"2407\"}},\"line_alpha\":{\"value\":0.1},\"line_color\":{\"field\":\"color\",\"transform\":{\"id\":\"2407\"}},\"size\":{\"value\":5.477225575051661},\"x\":{\"field\":\"PC1\"},\"y\":{\"field\":\"PC2\"}},\"id\":\"2412\",\"type\":\"Scatter\"},{\"attributes\":{},\"id\":\"2468\",\"type\":\"NoOverlap\"},{\"attributes\":{\"line_color\":\"#30a2da\",\"line_width\":2,\"x\":{\"field\":\"Number of Clusters (k)\"},\"y\":{\"field\":\"Inertia\"}},\"id\":\"2252\",\"type\":\"Line\"},{\"attributes\":{\"data\":{\"Inertia\":{\"__ndarray__\":\"AAAAAADwcUBzhzI6P3poQOCRvNowzF5AF+6ulG/BU0BnEQsuWlNQQOTqC/e6cUpAhyebkxT1RUBu++EeLsJCQMB0IF8cPkBAiXeL7Q85PEAoCo+5pos4QA==\",\"dtype\":\"float64\",\"order\":\"little\",\"shape\":[11]},\"Number of Clusters (k)\":[1,2,3,4,5,6,7,8,9,10,11],\"Number_of_Clusters_left_parenthesis_k_right_parenthesis\":[1,2,3,4,5,6,7,8,9,10,11]},\"selected\":{\"id\":\"2250\"},\"selection_policy\":{\"id\":\"2437\"}},\"id\":\"2249\",\"type\":\"ColumnDataSource\"}],\"root_ids\":[\"2215\"]},\"title\":\"Bokeh Application\",\"version\":\"2.4.3\"}};\n",
       "    var render_items = [{\"docid\":\"012b8539-e1b8-4ff9-a024-3166aa989a1b\",\"root_ids\":[\"2215\"],\"roots\":{\"2215\":\"20b435e9-6a4b-4b8c-9af2-10cd7c870a4d\"}}];\n",
       "    root.Bokeh.embed.embed_items_notebook(docs_json, render_items);\n",
       "    for (const render_item of render_items) {\n",
       "      for (const root_id of render_item.root_ids) {\n",
       "\tconst id_el = document.getElementById(root_id)\n",
       "\tif (id_el.children.length && (id_el.children[0].className === 'bk-root')) {\n",
       "\t  const root_el = id_el.children[0]\n",
       "\t  root_el.id = root_el.id + '-rendered'\n",
       "\t}\n",
       "      }\n",
       "    }\n",
       "  }\n",
       "  if (root.Bokeh !== undefined && root.Bokeh.Panel !== undefined) {\n",
       "    embed_document(root);\n",
       "  } else {\n",
       "    var attempts = 0;\n",
       "    var timer = setInterval(function(root) {\n",
       "      if (root.Bokeh !== undefined && root.Bokeh.Panel !== undefined) {\n",
       "        clearInterval(timer);\n",
       "        embed_document(root);\n",
       "      } else if (document.readyState == \"complete\") {\n",
       "        attempts++;\n",
       "        if (attempts > 200) {\n",
       "          clearInterval(timer);\n",
       "          console.log(\"Bokeh: ERROR: Unable to run BokehJS code because BokehJS library is missing\");\n",
       "        }\n",
       "      }\n",
       "    }, 25, root)\n",
       "  }\n",
       "})(window);</script>"
      ],
      "text/plain": [
       ":Layout\n",
       "   .Curve.I    :Curve   [Number of Clusters (k)]   (Inertia)\n",
       "   .Curve.II   :Curve   [Number of Clusters (k)]   (Inertia)\n",
       "   .Scatter.I  :Scatter   [price_change_percentage_24h]   (price_change_percentage_7d,Cluster,crypto_name)\n",
       "   .Scatter.II :Scatter   [PC1]   (PC2,Predicted_Cluster,crypto_name)"
      ]
     },
     "execution_count": 77,
     "metadata": {
      "application/vnd.holoviews_exec.v0+json": {
       "id": "2215"
      }
     },
     "output_type": "execute_result"
    }
   ],
   "source": [
    "# Composite plot to contrast the clusters\n",
    "# YOUR CODE HERE!\n",
    "\n",
    "cluster_plot_original = df_market_data_copy.hvplot.scatter(\n",
    "    x=\"price_change_percentage_24h\",\n",
    "    y=\"price_change_percentage_7d\",\n",
    "    c=\"Cluster\",\n",
    "    cmap='Category20',\n",
    "    hover_cols=[\"crypto_name\"],\n",
    "    title='Cluster Plot (Original Data)'\n",
    ")\n",
    "cluster_plot_pca = df_pca_copy.hvplot.scatter(\n",
    "    x=\"PC1\",\n",
    "    y=\"PC2\",\n",
    "    c=\"Predicted_Cluster\",\n",
    "    cmap='Category20',\n",
    "    hover_cols=[\"crypto_name\"],\n",
    "    title='Cluster Plot (PCA Data)'\n",
    ")\n",
    "\n",
    "# Create a layout to display both the Elbow curves and cluster plots side by side\n",
    "layout = (elbow_curve_original + elbow_curve_pca + cluster_plot_original + cluster_plot_pca).cols(2)\n",
    "\n",
    "# Display the composite plot\n",
    "layout"
   ]
  },
  {
   "cell_type": "markdown",
   "metadata": {},
   "source": [
    "#### Answer the following question: \n",
    "\n",
    "  * **Question:** After visually analyzing the cluster analysis results, what is the impact of using fewer features to cluster the data using K-Means?\n",
    "\n",
    "  * **Answer:** Improved Clustering,Dimension Reduction and Loss of Information"
   ]
  },
  {
   "cell_type": "code",
   "execution_count": null,
   "metadata": {},
   "outputs": [],
   "source": []
  }
 ],
 "metadata": {
  "kernelspec": {
   "display_name": "Python 3 (ipykernel)",
   "language": "python",
   "name": "python3"
  },
  "language_info": {
   "codemirror_mode": {
    "name": "ipython",
    "version": 3
   },
   "file_extension": ".py",
   "mimetype": "text/x-python",
   "name": "python",
   "nbconvert_exporter": "python",
   "pygments_lexer": "ipython3",
   "version": "3.10.9"
  },
  "nteract": {
   "version": "0.28.0"
  },
  "vscode": {
   "interpreter": {
    "hash": "40d3a090f54c6569ab1632332b64b2c03c39dcf918b08424e98f38b5ae0af88f"
   }
  }
 },
 "nbformat": 4,
 "nbformat_minor": 4
}
